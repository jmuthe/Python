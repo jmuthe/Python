{
 "cells": [
  {
   "cell_type": "code",
   "execution_count": null,
   "id": "ceceef66",
   "metadata": {},
   "outputs": [],
   "source": [
    "7 mod 4\n"
   ]
  },
  {
   "cell_type": "code",
   "execution_count": null,
   "id": "75314847",
   "metadata": {},
   "outputs": [],
   "source": [
    "7%4\n"
   ]
  },
  {
   "cell_type": "code",
   "execution_count": null,
   "id": "20c704e4",
   "metadata": {},
   "outputs": [],
   "source": [
    "2**3\n"
   ]
  },
  {
   "cell_type": "code",
   "execution_count": null,
   "id": "3a0ea44b",
   "metadata": {},
   "outputs": [],
   "source": [
    "a=5\n"
   ]
  },
  {
   "cell_type": "code",
   "execution_count": null,
   "id": "9a4a9a32",
   "metadata": {},
   "outputs": [],
   "source": [
    "a\n"
   ]
  },
  {
   "cell_type": "code",
   "execution_count": null,
   "id": "d9b2a1ba",
   "metadata": {},
   "outputs": [],
   "source": [
    "a\n"
   ]
  },
  {
   "cell_type": "code",
   "execution_count": null,
   "id": "21c83a5a",
   "metadata": {},
   "outputs": [],
   "source": [
    "a=a+5\n",
    "a\n"
   ]
  },
  {
   "cell_type": "code",
   "execution_count": null,
   "id": "0ddbf340",
   "metadata": {},
   "outputs": [],
   "source": [
    "a=a+5\n"
   ]
  },
  {
   "cell_type": "code",
   "execution_count": null,
   "id": "cc3d4e35",
   "metadata": {},
   "outputs": [],
   "source": [
    "a"
   ]
  },
  {
   "cell_type": "code",
   "execution_count": null,
   "id": "309a4fea",
   "metadata": {},
   "outputs": [],
   "source": [
    "a=5"
   ]
  },
  {
   "cell_type": "code",
   "execution_count": null,
   "id": "ec282f4a",
   "metadata": {},
   "outputs": [],
   "source": [
    "a\n"
   ]
  },
  {
   "cell_type": "code",
   "execution_count": null,
   "id": "88a266b4",
   "metadata": {},
   "outputs": [],
   "source": [
    "a"
   ]
  },
  {
   "cell_type": "code",
   "execution_count": null,
   "id": "5b094f50",
   "metadata": {},
   "outputs": [],
   "source": [
    "a=a+a"
   ]
  },
  {
   "cell_type": "code",
   "execution_count": null,
   "id": "b0e443df",
   "metadata": {},
   "outputs": [],
   "source": [
    "a\n"
   ]
  },
  {
   "cell_type": "code",
   "execution_count": null,
   "id": "0cc41d7d",
   "metadata": {},
   "outputs": [],
   "source": [
    "\n"
   ]
  },
  {
   "cell_type": "markdown",
   "id": "a7f3ff6f",
   "metadata": {},
   "source": [
    "a=30.1\n"
   ]
  },
  {
   "cell_type": "code",
   "execution_count": null,
   "id": "cefbe47a",
   "metadata": {},
   "outputs": [],
   "source": [
    "type(a)\n"
   ]
  },
  {
   "cell_type": "code",
   "execution_count": null,
   "id": "af8459e1",
   "metadata": {},
   "outputs": [],
   "source": [
    "a=30.1"
   ]
  },
  {
   "cell_type": "code",
   "execution_count": null,
   "id": "a91cae0a",
   "metadata": {},
   "outputs": [],
   "source": [
    "type (a)"
   ]
  },
  {
   "cell_type": "code",
   "execution_count": null,
   "id": "3bec1e34",
   "metadata": {},
   "outputs": [],
   "source": [
    "a"
   ]
  },
  {
   "cell_type": "code",
   "execution_count": null,
   "id": "7bdff1ed",
   "metadata": {},
   "outputs": [],
   "source": [
    "a=\"Helle\"\n",
    "a\n"
   ]
  },
  {
   "cell_type": "code",
   "execution_count": null,
   "id": "2b640f7b",
   "metadata": {},
   "outputs": [],
   "source": [
    "ġ=4\n",
    "ġ"
   ]
  },
  {
   "cell_type": "code",
   "execution_count": null,
   "id": "d5919469",
   "metadata": {},
   "outputs": [],
   "source": [
    "ġ"
   ]
  },
  {
   "cell_type": "code",
   "execution_count": null,
   "id": "86532ff4",
   "metadata": {},
   "outputs": [],
   "source": [
    "a[2,5,1]\n",
    "a"
   ]
  },
  {
   "cell_type": "code",
   "execution_count": null,
   "id": "6bae5a5c",
   "metadata": {},
   "outputs": [],
   "source": [
    "print('hello \\tworld')"
   ]
  },
  {
   "cell_type": "code",
   "execution_count": null,
   "id": "5423a4be",
   "metadata": {},
   "outputs": [],
   "source": [
    "len(a)"
   ]
  },
  {
   "cell_type": "code",
   "execution_count": null,
   "id": "9c4cd325",
   "metadata": {},
   "outputs": [],
   "source": [
    "a[3]"
   ]
  },
  {
   "cell_type": "code",
   "execution_count": null,
   "id": "aeb42220",
   "metadata": {},
   "outputs": [],
   "source": [
    "a[-4]"
   ]
  },
  {
   "cell_type": "code",
   "execution_count": null,
   "id": "c2973778",
   "metadata": {},
   "outputs": [],
   "source": [
    "a='abcdefghijklmenop'\n",
    "a[-1]"
   ]
  },
  {
   "cell_type": "code",
   "execution_count": null,
   "id": "498aca18",
   "metadata": {},
   "outputs": [],
   "source": [
    "a[-5]"
   ]
  },
  {
   "cell_type": "code",
   "execution_count": null,
   "id": "cbe3b702",
   "metadata": {},
   "outputs": [],
   "source": [
    "a[::-1]"
   ]
  },
  {
   "cell_type": "code",
   "execution_count": null,
   "id": "5026a79f",
   "metadata": {},
   "outputs": [],
   "source": [
    "'tinker'[1:4]"
   ]
  },
  {
   "cell_type": "code",
   "execution_count": null,
   "id": "416a0189",
   "metadata": {},
   "outputs": [],
   "source": [
    "Name='Sam'\n"
   ]
  },
  {
   "cell_type": "code",
   "execution_count": null,
   "id": "6a22398e",
   "metadata": {},
   "outputs": [],
   "source": [
    "NewName=Name[1:]"
   ]
  },
  {
   "cell_type": "code",
   "execution_count": null,
   "id": "6df3e15d",
   "metadata": {},
   "outputs": [],
   "source": [
    "NewName\n"
   ]
  },
  {
   "cell_type": "code",
   "execution_count": null,
   "id": "aee0f9cd",
   "metadata": {},
   "outputs": [],
   "source": [
    "NewName='P'+NewName"
   ]
  },
  {
   "cell_type": "code",
   "execution_count": null,
   "id": "26f98159",
   "metadata": {},
   "outputs": [],
   "source": [
    "NewName"
   ]
  },
  {
   "cell_type": "code",
   "execution_count": null,
   "id": "a3f8a27a",
   "metadata": {},
   "outputs": [],
   "source": [
    "NewName=+'S'"
   ]
  },
  {
   "cell_type": "code",
   "execution_count": null,
   "id": "3c3c2f0c",
   "metadata": {},
   "outputs": [],
   "source": [
    "NewName"
   ]
  },
  {
   "cell_type": "code",
   "execution_count": null,
   "id": "9e7984d2",
   "metadata": {},
   "outputs": [],
   "source": [
    "NewName *3"
   ]
  },
  {
   "cell_type": "code",
   "execution_count": null,
   "id": "e00cb674",
   "metadata": {},
   "outputs": [],
   "source": [
    "NewName.upper()\n"
   ]
  },
  {
   "cell_type": "code",
   "execution_count": 1,
   "id": "0d249726",
   "metadata": {},
   "outputs": [],
   "source": [
    "x='This is really cool'"
   ]
  },
  {
   "cell_type": "code",
   "execution_count": 2,
   "id": "6973bfbc",
   "metadata": {},
   "outputs": [
    {
     "data": {
      "text/plain": [
       "['Th', 's ', 's really cool']"
      ]
     },
     "execution_count": 2,
     "metadata": {},
     "output_type": "execute_result"
    }
   ],
   "source": [
    "x.split('i')"
   ]
  },
  {
   "cell_type": "code",
   "execution_count": null,
   "id": "807ba7ee",
   "metadata": {},
   "outputs": [],
   "source": [
    "\n",
    "x='I love to {} and I love to dance'.format('sing','dance')\n",
    "x"
   ]
  },
  {
   "cell_type": "code",
   "execution_count": null,
   "id": "29d99566",
   "metadata": {},
   "outputs": [],
   "source": [
    "r='sing'\n",
    "g='dance'\n",
    "x='I love to {} and I love to dance'.format(r,g)\n",
    "x"
   ]
  },
  {
   "cell_type": "code",
   "execution_count": null,
   "id": "c374e0c8",
   "metadata": {},
   "outputs": [],
   "source": [
    "r=4\n",
    "g='dance'\n",
    "x='I love to {} and I love to dance'.format(r,g)\n",
    "x"
   ]
  },
  {
   "cell_type": "code",
   "execution_count": null,
   "id": "cf21ed3d",
   "metadata": {},
   "outputs": [],
   "source": [
    "r=4\n",
    "g='dance'\n",
    "x='I love to {1} and I love to {0}'.format(r,g)\n",
    "x"
   ]
  },
  {
   "cell_type": "code",
   "execution_count": null,
   "id": "bb5251fc",
   "metadata": {},
   "outputs": [],
   "source": [
    "result=100/77\n",
    "result"
   ]
  },
  {
   "cell_type": "code",
   "execution_count": null,
   "id": "83a100e6",
   "metadata": {},
   "outputs": [],
   "source": [
    "\"The result is{r:20.4f}\".format(r=result)\n"
   ]
  },
  {
   "cell_type": "code",
   "execution_count": null,
   "id": "bc4c6861",
   "metadata": {},
   "outputs": [],
   "source": [
    "r=result\n",
    "{r:1.4f}"
   ]
  },
  {
   "cell_type": "code",
   "execution_count": null,
   "id": "dcc03152",
   "metadata": {},
   "outputs": [],
   "source": [
    "\n",
    "a=5\n",
    "float(a)\n"
   ]
  },
  {
   "cell_type": "code",
   "execution_count": null,
   "id": "d0dfb834",
   "metadata": {},
   "outputs": [],
   "source": []
  },
  {
   "cell_type": "code",
   "execution_count": null,
   "id": "cf8c06c4",
   "metadata": {},
   "outputs": [],
   "source": []
  },
  {
   "cell_type": "code",
   "execution_count": null,
   "id": "a7205480",
   "metadata": {},
   "outputs": [],
   "source": [
    "name='Justin'\n",
    "print(f\" I am {name} \")"
   ]
  },
  {
   "cell_type": "code",
   "execution_count": null,
   "id": "b5126667",
   "metadata": {},
   "outputs": [],
   "source": [
    "name='Justin'\n",
    "f\" I am {name} \""
   ]
  },
  {
   "cell_type": "code",
   "execution_count": null,
   "id": "a20698c3",
   "metadata": {},
   "outputs": [],
   "source": [
    "name='Justin'\n",
    "(\" I am {name} \")"
   ]
  },
  {
   "cell_type": "code",
   "execution_count": null,
   "id": "96ff61bc",
   "metadata": {},
   "outputs": [],
   "source": [
    "name='Justin'\n",
    "print(f\" I am {name} \")"
   ]
  },
  {
   "cell_type": "code",
   "execution_count": null,
   "id": "9667d9e2",
   "metadata": {},
   "outputs": [],
   "source": [
    "r='rules!'\n",
    "print(f\"Python {r}\" )"
   ]
  },
  {
   "cell_type": "code",
   "execution_count": null,
   "id": "9ce90ad7",
   "metadata": {},
   "outputs": [],
   "source": [
    "r='rules!'\n",
    "print(\"Python {}!\".format(r) )"
   ]
  },
  {
   "cell_type": "code",
   "execution_count": null,
   "id": "1f39eec1",
   "metadata": {},
   "outputs": [],
   "source": [
    "r='rules'\n",
    "print(\"Python {}!\".format(r) )"
   ]
  },
  {
   "cell_type": "code",
   "execution_count": null,
   "id": "8d96a435",
   "metadata": {},
   "outputs": [],
   "source": [
    "r='rules'\n",
    "print(\"Python {}!\".format(r) )"
   ]
  },
  {
   "cell_type": "code",
   "execution_count": null,
   "id": "889e2be5",
   "metadata": {},
   "outputs": [],
   "source": [
    "List =[1,2,3,\"Apple\"]"
   ]
  },
  {
   "cell_type": "code",
   "execution_count": null,
   "id": "648416e8",
   "metadata": {},
   "outputs": [],
   "source": [
    "List"
   ]
  },
  {
   "cell_type": "code",
   "execution_count": null,
   "id": "10d9ab37",
   "metadata": {},
   "outputs": [],
   "source": [
    "List =[1,2,3,\"Apple\"]\n",
    "List"
   ]
  },
  {
   "cell_type": "code",
   "execution_count": null,
   "id": "31e01a14",
   "metadata": {},
   "outputs": [],
   "source": [
    "List =List +[2]\n",
    "List"
   ]
  },
  {
   "cell_type": "code",
   "execution_count": null,
   "id": "39cba2e1",
   "metadata": {},
   "outputs": [],
   "source": [
    "List[5]='I changed it'\n",
    "List"
   ]
  },
  {
   "cell_type": "code",
   "execution_count": null,
   "id": "045ef019",
   "metadata": {},
   "outputs": [],
   "source": [
    "List.append('seven')\n",
    "List"
   ]
  },
  {
   "cell_type": "code",
   "execution_count": null,
   "id": "1c5a9cff",
   "metadata": {},
   "outputs": [],
   "source": [
    "List.pop()\n",
    "List"
   ]
  },
  {
   "cell_type": "code",
   "execution_count": null,
   "id": "9f9aa828",
   "metadata": {},
   "outputs": [],
   "source": [
    "List[2:5]\n",
    "List"
   ]
  },
  {
   "cell_type": "code",
   "execution_count": null,
   "id": "5adfa9db",
   "metadata": {},
   "outputs": [],
   "source": [
    "NewList= [10,9,8] + List +[1,2,3]\n",
    "NewList"
   ]
  },
  {
   "cell_type": "code",
   "execution_count": null,
   "id": "e0c0de24",
   "metadata": {},
   "outputs": [],
   "source": [
    "NewList.pop(4)\n",
    "NewList\n"
   ]
  },
  {
   "cell_type": "code",
   "execution_count": null,
   "id": "e66379d3",
   "metadata": {},
   "outputs": [],
   "source": [
    "NewList.sort()\n",
    "NewList"
   ]
  },
  {
   "cell_type": "code",
   "execution_count": null,
   "id": "5f602fca",
   "metadata": {},
   "outputs": [],
   "source": [
    "List=[0,1,2,'Apple',4]\n",
    "List[3][4]"
   ]
  },
  {
   "cell_type": "code",
   "execution_count": null,
   "id": "df43c1b1",
   "metadata": {},
   "outputs": [],
   "source": [
    "lst=[0,1,2] \n",
    "lst.pop()\n",
    "lst"
   ]
  },
  {
   "cell_type": "code",
   "execution_count": null,
   "id": "19f19892",
   "metadata": {},
   "outputs": [],
   "source": [
    "lst"
   ]
  },
  {
   "cell_type": "code",
   "execution_count": null,
   "id": "8de259e1",
   "metadata": {},
   "outputs": [],
   "source": [
    "my_dict={'key1':'value1','key2':'value2','key3':'value3',4:'apple'}\n",
    "my_dict"
   ]
  },
  {
   "cell_type": "code",
   "execution_count": null,
   "id": "1b0de1ba",
   "metadata": {},
   "outputs": [],
   "source": [
    "my_dict[4]\n"
   ]
  },
  {
   "cell_type": "code",
   "execution_count": null,
   "id": "b34584b6",
   "metadata": {
    "scrolled": true
   },
   "outputs": [],
   "source": [
    "my_dict[0]"
   ]
  },
  {
   "cell_type": "code",
   "execution_count": null,
   "id": "923a8354",
   "metadata": {},
   "outputs": [],
   "source": [
    "my_dict={'key1':['a','b','c','d'],'key2':5}\n",
    "my_dict['key1'][2].upper()"
   ]
  },
  {
   "cell_type": "code",
   "execution_count": null,
   "id": "cfa6a237",
   "metadata": {},
   "outputs": [],
   "source": [
    "my_dict['key3']=57\n",
    "my_dict"
   ]
  },
  {
   "cell_type": "code",
   "execution_count": null,
   "id": "d0138bd9",
   "metadata": {},
   "outputs": [],
   "source": [
    "a='Mississippi'\n",
    "set(a)"
   ]
  },
  {
   "cell_type": "code",
   "execution_count": null,
   "id": "6f15a2e4",
   "metadata": {},
   "outputs": [],
   "source": [
    "My_set =set(a)\n",
    "My_set.add(3)\n",
    "My_set"
   ]
  },
  {
   "cell_type": "code",
   "execution_count": null,
   "id": "ba2e0809",
   "metadata": {},
   "outputs": [],
   "source": [
    "My_set"
   ]
  },
  {
   "cell_type": "code",
   "execution_count": null,
   "id": "f7333a6f",
   "metadata": {},
   "outputs": [],
   "source": [
    "%%writefile myfile.txt\n",
    "This is a text file.\n",
    "This is the second line."
   ]
  },
  {
   "cell_type": "code",
   "execution_count": null,
   "id": "34228676",
   "metadata": {},
   "outputs": [],
   "source": [
    "myfile=open('myfile.txt')\n",
    "myfile"
   ]
  },
  {
   "cell_type": "code",
   "execution_count": null,
   "id": "04d1bfba",
   "metadata": {},
   "outputs": [],
   "source": [
    "pwd"
   ]
  },
  {
   "cell_type": "code",
   "execution_count": null,
   "id": "b430129f",
   "metadata": {},
   "outputs": [],
   "source": [
    "myfile.seek(3)\n",
    "myfile.read()\n"
   ]
  },
  {
   "cell_type": "code",
   "execution_count": null,
   "id": "c31aa780",
   "metadata": {},
   "outputs": [],
   "source": [
    "pwd\n"
   ]
  },
  {
   "cell_type": "code",
   "execution_count": null,
   "id": "04c40061",
   "metadata": {},
   "outputs": [],
   "source": [
    "%%writefile test.txt\n",
    "Hello World\n",
    "myfile=.open('test.txt')\n",
    "myfile.read()\n"
   ]
  },
  {
   "cell_type": "code",
   "execution_count": null,
   "id": "af74eac8",
   "metadata": {},
   "outputs": [],
   "source": [
    "%%writefile test.txt\n",
    "Hello World\n",
    "\n"
   ]
  },
  {
   "cell_type": "code",
   "execution_count": null,
   "id": "228b3999",
   "metadata": {},
   "outputs": [],
   "source": [
    "myfile=open('test.txt')\n",
    "myfile.read()"
   ]
  },
  {
   "cell_type": "code",
   "execution_count": null,
   "id": "82cdc88d",
   "metadata": {},
   "outputs": [],
   "source": [
    "myfile.close()"
   ]
  },
  {
   "cell_type": "code",
   "execution_count": null,
   "id": "4b9744d2",
   "metadata": {},
   "outputs": [],
   "source": [
    "%%writefile test.txt\n",
    "Hello World\n",
    "\n",
    "myfile.close()\n"
   ]
  },
  {
   "cell_type": "code",
   "execution_count": null,
   "id": "648964d3",
   "metadata": {},
   "outputs": [],
   "source": [
    "x=open('test.txt1','w+')\n",
    "x.write('Hello World')\n",
    "x.seek(0)\n",
    "print(x.read())\n"
   ]
  },
  {
   "cell_type": "code",
   "execution_count": null,
   "id": "e2ccd345",
   "metadata": {},
   "outputs": [],
   "source": [
    "x.close()"
   ]
  },
  {
   "cell_type": "code",
   "execution_count": null,
   "id": "36d1f571",
   "metadata": {},
   "outputs": [],
   "source": [
    "if 2>1:\n",
    "    print(\"true\")"
   ]
  },
  {
   "cell_type": "code",
   "execution_count": null,
   "id": "1d2d84b1",
   "metadata": {},
   "outputs": [],
   "source": [
    "mylist=[1,2,3,4,5,6]\n",
    "i=0\n",
    "for num in mylist:\n",
    "    i=i+100\n",
    "    print(num)\n",
    "    print(i)"
   ]
  },
  {
   "cell_type": "code",
   "execution_count": null,
   "id": "b4e47491",
   "metadata": {},
   "outputs": [],
   "source": [
    "mylist=[1,2,3,4,5,6]\n",
    "i=0\n",
    "for num in mylist:\n",
    "    if num%2==0:\n",
    "        print(num)\n",
    "    "
   ]
  },
  {
   "cell_type": "code",
   "execution_count": null,
   "id": "ff696c1d",
   "metadata": {},
   "outputs": [],
   "source": [
    "mylist=[(1,2),(3,4),(5,6)]\n",
    "mylist\n",
    "for (a,b) in mylist:\n",
    "    print(a)\n",
    "    print(b)\n",
    "    print(a,b)"
   ]
  },
  {
   "cell_type": "code",
   "execution_count": null,
   "id": "daff1fab",
   "metadata": {},
   "outputs": [],
   "source": [
    "d={'a':1,'b':2,'c':3}\n",
    "for item in d:\n",
    "    print (item)\n",
    "    print (d[item])"
   ]
  },
  {
   "cell_type": "code",
   "execution_count": null,
   "id": "3188fcc4",
   "metadata": {},
   "outputs": [],
   "source": [
    "d={'a':1,'b':2,'c':3}\n",
    "for keya,itema in d.items():\n",
    "    print (itema)\n",
    "    print (keya)\n",
    "    \n",
    "print (\"red\")\n",
    "\n",
    "for t in d.values():\n",
    "    print(t)\n",
    "print ('ee')\n",
    "for t in d.keys():\n",
    "    print (t)"
   ]
  },
  {
   "cell_type": "code",
   "execution_count": 22,
   "id": "decc0661",
   "metadata": {},
   "outputs": [
    {
     "name": "stdout",
     "output_type": "stream",
     "text": [
      "0\n",
      "1\n",
      "2\n",
      "3\n",
      "4\n",
      "5\n",
      "6\n",
      "7\n",
      "8\n",
      "9\n",
      "[0, 1, 2, 3, 4, 5, 6, 7, 8, 9, 3, 3, 3, 3]\n"
     ]
    }
   ],
   "source": [
    "mylist=[3,3,3,3,3,3,3,3,3,3,3,3,3,3]\n",
    "for num in range(10):\n",
    "    print(num)\n",
    "    mylist[num]=num\n",
    "print(mylist)\n",
    "    "
   ]
  },
  {
   "cell_type": "code",
   "execution_count": null,
   "id": "8e8d6a38",
   "metadata": {},
   "outputs": [],
   "source": [
    "list(range(0,23,1))"
   ]
  },
  {
   "cell_type": "code",
   "execution_count": null,
   "id": "476d4981",
   "metadata": {},
   "outputs": [],
   "source": [
    "list(random)"
   ]
  },
  {
   "cell_type": "code",
   "execution_count": null,
   "id": "d522214f",
   "metadata": {},
   "outputs": [],
   "source": [
    "r=list(range(0,100,1))\n",
    "print(r)\n"
   ]
  },
  {
   "cell_type": "code",
   "execution_count": 26,
   "id": "853d3745",
   "metadata": {},
   "outputs": [
    {
     "name": "stdout",
     "output_type": "stream",
     "text": [
      "(0, 'q')\n",
      "0\n",
      "q\n",
      "(1, 'w')\n",
      "1\n",
      "w\n",
      "(2, 'e')\n",
      "2\n",
      "e\n",
      "(3, 'r')\n",
      "3\n",
      "r\n",
      "(4, 't')\n",
      "4\n",
      "t\n",
      "(5, 'y')\n",
      "5\n",
      "y\n",
      "(6, 'u')\n",
      "6\n",
      "u\n",
      "(7, 'i')\n",
      "7\n",
      "i\n"
     ]
    },
    {
     "ename": "TypeError",
     "evalue": "'enumerate' object is not subscriptable",
     "output_type": "error",
     "traceback": [
      "\u001b[1;31m---------------------------------------------------------------------------\u001b[0m",
      "\u001b[1;31mTypeError\u001b[0m                                 Traceback (most recent call last)",
      "\u001b[1;32m<ipython-input-26-03a2b9881be4>\u001b[0m in \u001b[0;36m<module>\u001b[1;34m\u001b[0m\n\u001b[0;32m      5\u001b[0m     \u001b[0mprint\u001b[0m\u001b[1;33m(\u001b[0m\u001b[0mt\u001b[0m\u001b[1;33m[\u001b[0m\u001b[1;36m1\u001b[0m\u001b[1;33m]\u001b[0m\u001b[1;33m)\u001b[0m\u001b[1;33m\u001b[0m\u001b[1;33m\u001b[0m\u001b[0m\n\u001b[0;32m      6\u001b[0m \u001b[0mf\u001b[0m\u001b[1;33m=\u001b[0m\u001b[0menumerate\u001b[0m\u001b[1;33m(\u001b[0m\u001b[0mg\u001b[0m\u001b[1;33m)\u001b[0m\u001b[1;33m\u001b[0m\u001b[1;33m\u001b[0m\u001b[0m\n\u001b[1;32m----> 7\u001b[1;33m \u001b[0mf\u001b[0m\u001b[1;33m[\u001b[0m\u001b[1;36m0\u001b[0m\u001b[1;33m]\u001b[0m\u001b[1;33m\u001b[0m\u001b[1;33m\u001b[0m\u001b[0m\n\u001b[0m\u001b[0;32m      8\u001b[0m \u001b[1;33m\u001b[0m\u001b[0m\n",
      "\u001b[1;31mTypeError\u001b[0m: 'enumerate' object is not subscriptable"
     ]
    }
   ],
   "source": [
    "g='qwertyui'\n",
    "for t in enumerate(g):\n",
    "    print(t)\n",
    "    print(t[0])\n",
    "    print(t[1])\n",
    "f=enumerate(g)\n",
    "\n",
    "\n"
   ]
  },
  {
   "cell_type": "code",
   "execution_count": 6,
   "id": "339b2c5a",
   "metadata": {},
   "outputs": [
    {
     "name": "stdout",
     "output_type": "stream",
     "text": [
      "(0, 'a')\n",
      "(1, 'b')\n",
      "(2, 'c')\n",
      "(3, 'd')\n",
      "(4, 'e')\n",
      "(5, 'f')\n",
      "(6, 'g')\n",
      "(6, 'g')\n",
      "[6, 'g']\n"
     ]
    }
   ],
   "source": [
    "a='abcdefg'\n",
    "for item in enumerate(a):\n",
    "    print(item)\n",
    "print(item)\n",
    "print(list(item))"
   ]
  },
  {
   "cell_type": "code",
   "execution_count": null,
   "id": "4a208583",
   "metadata": {},
   "outputs": [],
   "source": [
    "a='abcdefg'\n",
    "for item,letter in enumerate(a):\n",
    "    print(item)\n",
    "    print(letter)\n",
    "print(a)\n",
    "print(enumerate(a))\n",
    "print(item)"
   ]
  },
  {
   "cell_type": "code",
   "execution_count": null,
   "id": "efccbb95",
   "metadata": {},
   "outputs": [],
   "source": [
    "a=[1,2,3,4,5,6,7,8,9]\n",
    "b=[0]*10\n",
    "print(b)\n",
    "from random import shuffle\n",
    "\n",
    "a\n",
    "for item in a:\n",
    "    print(f\"item is {item}\")\n",
    "    shuffle(a)\n",
    "    if a[item]==0:\n",
    "        b[item]+=1\n",
    "        "
   ]
  },
  {
   "cell_type": "code",
   "execution_count": null,
   "id": "ad5b84f6",
   "metadata": {},
   "outputs": [],
   "source": [
    "a='I love moth'\n",
    "b=[]\n",
    "print(a)\n",
    "g=[]\n",
    "for item in a:\n",
    "    print (item)\n",
    "    b.append(item)\n",
    "#c=str(b)\n",
    "#print(c)    \n",
    "\n",
    "a=list(a)\n",
    "if b==a:\n",
    "    print(\"Equal\")\n",
    "else:\n",
    "    print(\"Not\")\n",
    "\n",
    "print(a)\n",
    "print(b)\n",
    "print(str(a)) \n",
    "print(str(b))\n",
    "for i in a:\n",
    "#    if i !=' 'or i!=',':\n",
    "    g.append(i)\n",
    "print(str(g))"
   ]
  },
  {
   "cell_type": "code",
   "execution_count": null,
   "id": "26483c37",
   "metadata": {},
   "outputs": [],
   "source": [
    "type(b)"
   ]
  },
  {
   "cell_type": "code",
   "execution_count": null,
   "id": "6b4b1424",
   "metadata": {},
   "outputs": [],
   "source": [
    "a=5\n",
    "float(a)\n",
    "b=str(a)\n",
    "type(b)\n"
   ]
  },
  {
   "cell_type": "code",
   "execution_count": null,
   "id": "9bdaf5e9",
   "metadata": {},
   "outputs": [],
   "source": [
    "b=['I', ' ', 'l', 'o', 'v', 'e', ' ', 'm', 'o', 't', 'h']\n",
    "c=str(b)\n",
    "type(c)\n",
    "c\n",
    "a= 'I love moth'\n",
    "i=0\n",
    "for item in c:\n",
    "    print(c[i])\n",
    "    #print(a[i])\n",
    "    #print(b[i])\n",
    " #   if a[i]==b[i]:\n",
    "  #      print(f\"good {i}\")\n",
    "    i=i+1\n",
    "print(c)    \n",
    "#for ac in a:\n",
    "#    pass\n",
    "    \n",
    "    ##if c[i]==a[i]:\n",
    "    ##    print(\"Equal\")\n",
    "    ##else:\n",
    "      ##  print(\"Not\")\n",
    "\n",
    "    \n"
   ]
  },
  {
   "cell_type": "code",
   "execution_count": null,
   "id": "bcae31d8",
   "metadata": {},
   "outputs": [],
   "source": [
    "c =[0,10,20,30,40]\n",
    "f=[]\n",
    "for i in c:\n",
    "    f.append((9*i)/5+32)\n",
    "print(f)\n"
   ]
  },
  {
   "cell_type": "code",
   "execution_count": null,
   "id": "93f58236",
   "metadata": {},
   "outputs": [],
   "source": [
    "c =[0,10,20,30,40]\n",
    "f=[(9/5*i+32) for i in c]\n",
    "print(f)"
   ]
  },
  {
   "cell_type": "code",
   "execution_count": null,
   "id": "9bb63334",
   "metadata": {},
   "outputs": [],
   "source": [
    "a='I love me'\n",
    "list(a)"
   ]
  },
  {
   "cell_type": "code",
   "execution_count": null,
   "id": "17a1ab83",
   "metadata": {},
   "outputs": [],
   "source": [
    "mylist=[1,2,3,4]\n"
   ]
  },
  {
   "cell_type": "code",
   "execution_count": null,
   "id": "3cd6a2d4",
   "metadata": {},
   "outputs": [],
   "source": [
    "mylist.insert(2,'a')\n",
    "mylist"
   ]
  },
  {
   "cell_type": "code",
   "execution_count": null,
   "id": "86b06c4d",
   "metadata": {},
   "outputs": [],
   "source": [
    "def trying(a,b):\n",
    "    return a+b\n",
    "\n",
    "trying(2,3)\n"
   ]
  },
  {
   "cell_type": "code",
   "execution_count": null,
   "id": "264deb97",
   "metadata": {},
   "outputs": [],
   "source": [
    "def myfunct(name):\n",
    "    print(\"FFDFF {}  \".format(name))"
   ]
  },
  {
   "cell_type": "code",
   "execution_count": null,
   "id": "ff0f51c4",
   "metadata": {},
   "outputs": [],
   "source": [
    "r='rules!'\n",
    "print(\"Python {}!\".format(r) )"
   ]
  },
  {
   "cell_type": "code",
   "execution_count": null,
   "id": "9825d797",
   "metadata": {},
   "outputs": [],
   "source": [
    "def myfunc(*args):\n",
    "    mylist=[]\n",
    "    for i in args:\n",
    "        for t in i:\n",
    "            if t%2 == 0:\n",
    "                mylist.append(t)\n",
    "    return mylist\n",
    "\n",
    "mylista=[1,2,3,4,5,6,7,8,9,10,11]\n",
    "print(myfunc(mylista))\n"
   ]
  },
  {
   "cell_type": "code",
   "execution_count": null,
   "id": "00b9ef52",
   "metadata": {},
   "outputs": [],
   "source": [
    "def myfunc(*args):\n",
    "    mylist=[]\n",
    "    for i in args:\n",
    "        if i%2 == 0:\n",
    "            mylist.append(i)\n",
    "    return mylist\n",
    "\n",
    "mylista=[1,2,3,4,5,6,7,8,9,10,11]\n",
    "print(myfunc(1,2,3,4,5,6,7,8))\n"
   ]
  },
  {
   "cell_type": "code",
   "execution_count": null,
   "id": "e90d9963",
   "metadata": {},
   "outputs": [],
   "source": [
    "def myfunc(*args):\n",
    "\n",
    "    mylist = []\n",
    "\n",
    "    for i in args:\n",
    "\n",
    "        #print(args)\n",
    "\n",
    "        if i%2 == 0:\n",
    "\n",
    "            mylist.append(i)\n",
    "\n",
    "            print(str(i) + \" is even\")\n",
    "\n",
    "        else:\n",
    "\n",
    "            print(str(i) + \" is odd\")           \n",
    "\n",
    "    return mylist   \n",
    "listnow=(1,2,3,4)\n",
    "myfunc(1,2,3,4,5,6,7,8)\n",
    "myfunc(listnow)\n",
    "\n"
   ]
  },
  {
   "cell_type": "code",
   "execution_count": null,
   "id": "d5b70bdf",
   "metadata": {},
   "outputs": [],
   "source": [
    "def myfunc (*arg):\n",
    "    mylist=[]\n",
    "    count=0\n",
    "    \n",
    "    for i in arg:\n",
    "        for t in i:\n",
    "            if count%2==1:\n",
    "                mylist.append(t.upper())\n",
    "\n",
    "            else:\n",
    "                mylist.append(t.lower())\n",
    "            count = count+1\n",
    "    return ''.join(mylist)\n",
    "listb=myfunc('Supercalafragalisticespialadoushous')\n",
    "print(str(listb))\n"
   ]
  },
  {
   "cell_type": "code",
   "execution_count": null,
   "id": "f89d1abe",
   "metadata": {},
   "outputs": [],
   "source": [
    "def myfunc(mystring):\n",
    "    new = []\n",
    "    s = list(mystring.lower())\n",
    "    n = 0\n",
    "    for item in s:\n",
    "        if n %2 == 0:\n",
    "            new.append(s[n].lower())\n",
    "            n = n+1\n",
    "        else:\n",
    "            new.append(s[n].upper())\n",
    "            n = n+1\n",
    "    \n",
    "    return ''.join(new)\n",
    "myfunc('I love to dance')"
   ]
  },
  {
   "cell_type": "code",
   "execution_count": null,
   "id": "d708a620",
   "metadata": {},
   "outputs": [],
   "source": [
    "i='a'\n",
    "i.upper()\n"
   ]
  },
  {
   "cell_type": "code",
   "execution_count": null,
   "id": "d7412ffd",
   "metadata": {},
   "outputs": [],
   "source": [
    "mylist=['a','b','c','d','e','f','g']\n",
    "''.join(mylist)"
   ]
  },
  {
   "cell_type": "code",
   "execution_count": null,
   "id": "fe5195ec",
   "metadata": {},
   "outputs": [],
   "source": [
    "mylist=['H', 'H', 'H', 'e', 'e', 'e', 'l', 'l', 'l', 'l', 'l', 'l', 'o', 'o', 'o']\n",
    "''.join(mylist)"
   ]
  },
  {
   "cell_type": "code",
   "execution_count": null,
   "id": "78ed9821",
   "metadata": {},
   "outputs": [],
   "source": [
    "for range(1:10):\n",
    "    print('i')"
   ]
  },
  {
   "cell_type": "code",
   "execution_count": null,
   "id": "9854500f",
   "metadata": {},
   "outputs": [],
   "source": [
    "f=[' ', ' ', '*', ' ', ' ']\n",
    "''.join(f)"
   ]
  },
  {
   "cell_type": "code",
   "execution_count": null,
   "id": "c1ed0dec",
   "metadata": {},
   "outputs": [],
   "source": [
    "def square (num):\n",
    "    return num**2\n",
    "mylist=[1,2,3,4,5]\n",
    "for item in map(square,mylist):\n",
    "    print(item)\n",
    "list(map(square,mylist))"
   ]
  },
  {
   "cell_type": "code",
   "execution_count": null,
   "id": "b04feabf",
   "metadata": {},
   "outputs": [],
   "source": [
    "txt = \"I like bananas\"\n",
    "\n",
    "x = txt.replace(\"bananas\", \"apples\")\n",
    "\n",
    "print(x)\n"
   ]
  },
  {
   "cell_type": "code",
   "execution_count": null,
   "id": "42d4b260",
   "metadata": {},
   "outputs": [],
   "source": [
    "while 1:\n",
    "    ark=(input(\"Write an input\"))\n",
    "    if ark.isdigit():\n",
    "        ark=int(ark)\n",
    "        ark=ark**2\n",
    "        break\n",
    "    else:\n",
    "        ark=print(\"Invalid input. \")\n",
    "print(ark)\n",
    "    \n"
   ]
  },
  {
   "cell_type": "code",
   "execution_count": null,
   "id": "9611ca30",
   "metadata": {},
   "outputs": [],
   "source": [
    "ark='3'\n",
    "ark.isdigit"
   ]
  },
  {
   "cell_type": "code",
   "execution_count": null,
   "id": "c336ad7f",
   "metadata": {},
   "outputs": [],
   "source": [
    "ark."
   ]
  },
  {
   "cell_type": "code",
   "execution_count": null,
   "id": "5c80e5d0",
   "metadata": {},
   "outputs": [],
   "source": [
    "mylist=['a',2,3,4,5,6]\n",
    "lot='abcdeg'\n",
    "mylist=str(mylist)\n",
    "'g'.split(mylist)\n"
   ]
  },
  {
   "cell_type": "code",
   "execution_count": null,
   "id": "645a9d5a",
   "metadata": {},
   "outputs": [],
   "source": []
  },
  {
   "cell_type": "code",
   "execution_count": null,
   "id": "359a8063",
   "metadata": {},
   "outputs": [],
   "source": [
    "def PrintGame (g):\n",
    "    print(g)\n",
    "    for row in range(0,3):\n",
    "        print (\"   |   | \")\n",
    "        print (f\" {g[3*row]} | {g[3*row+1]} | {g[3*row+2]}\")\n",
    "        print (\"   |   | \")\n",
    "        print (\"------------\")\n",
    "\n",
    "def CheckWin (g):\n",
    "    Win=False\n",
    "    for row in range(0,3):\n",
    "        if g[3*row]=='x' and g[3*row+1]=='x' and g[3*row+2] =='x':\n",
    "            Win=True\n",
    "        if g[3*row]=='o' and g[3*row+1]=='o' and g[3*row+2] =='o':\n",
    "            Win=True\n",
    "    \n",
    "\n",
    "    for col in range(0,3):\n",
    "        if g[col] =='x' and g[col+3]=='x' and g[col+6]=='x':\n",
    "             Win=True\n",
    "        if g[col] =='o' and g[col+3]=='o' and g[col+6]=='o':\n",
    "             Win=True\n",
    "    \n",
    "    if g[0]=='x' and g[4]=='x' and g[8]=='x':\n",
    "         Win=True\n",
    "    if g[2]=='x' and g[4]=='x' and g[6]=='x':\n",
    "         Win=True\n",
    "    if g[0]=='o' and g[4]=='o' and g[8]=='o':\n",
    "         Win=True\n",
    "    if g[2]=='o' and g[4]=='o' and g[6]=='o':\n",
    "         Win=True\n",
    "    \n",
    "    if Win == True:\n",
    "        print(\"You won!\")\n",
    "        return True\n",
    "    else:\n",
    "        return False\n",
    "        \n",
    "    "
   ]
  },
  {
   "cell_type": "code",
   "execution_count": null,
   "id": "67b57574",
   "metadata": {},
   "outputs": [],
   "source": [
    "mylist2=[' ']*9\n",
    "player=0\n",
    "AvailSpots=0\n",
    "while player !='x' and player !='o':\n",
    "    player=input(\"Enter x or o:     \" )\n",
    "    player=player.lower()\n",
    "    if player !='x' and player !='o':\n",
    "        print(\"Wrong value\")\n",
    "    \n",
    "while CheckWin(mylist2) == False and AvailSpots <9:\n",
    "   \n",
    "    pos=(input(\"Enter your position:  \"))\n",
    "    if pos.isdigit():\n",
    "        pos=int(pos)\n",
    "    else:\n",
    "        \n",
    "        print(\"Invalid position\")\n",
    "    if pos not in range(1,10):\n",
    "        \n",
    "        print(\"Values must be between 1 and 9.\")\n",
    "        continue\n",
    "    \n",
    "    if mylist2[pos-1] !=' ':\n",
    "        print(\"Position filled. Try again\")\n",
    "    else:\n",
    "        AvailSpots = AvailSpots + 1\n",
    "        if player=='x':\n",
    "            mylist2[pos-1]='x'\n",
    "            player='o'\n",
    "        else:\n",
    "            mylist2[pos-1]='o'\n",
    "            player='x'\n",
    "    \n",
    "    PrintGame(mylist2)\n",
    "if AvailSpots>=9:\n",
    "    print(\"Nobody Won.\")\n",
    "print(\"Game Over\")\n"
   ]
  },
  {
   "cell_type": "markdown",
   "id": "98947c29",
   "metadata": {},
   "source": [
    "###### "
   ]
  },
  {
   "cell_type": "code",
   "execution_count": null,
   "id": "03d0d33b",
   "metadata": {},
   "outputs": [],
   "source": [
    "print(\"This message will remain\")\n",
    "print(\"This message will be deleted\", end=\"\\r\")"
   ]
  },
  {
   "cell_type": "code",
   "execution_count": null,
   "id": "d4c32035",
   "metadata": {},
   "outputs": [],
   "source": [
    "print(\"This message will be deleted  \\r\",)"
   ]
  },
  {
   "cell_type": "code",
   "execution_count": null,
   "id": "265c597b",
   "metadata": {},
   "outputs": [],
   "source": [
    "#import sys\n",
    "#import time\n",
    "\n",
    "a = 0  \n",
    "for x in range (0,3):  \n",
    "    a = a + 1  \n",
    "    b = (\"Loading\" + \".\" * a)\n",
    "    # \\r prints a carriage return first, so `b` is printed on top of the previous line.\n",
    "    sys.stdout.write('\\r'+b)\n",
    "    time.sleep(0.5)\n",
    "print (a)"
   ]
  },
  {
   "cell_type": "code",
   "execution_count": null,
   "id": "d453e604",
   "metadata": {},
   "outputs": [],
   "source": [
    " from IPython.display import clear_output\n",
    "print(\"adsfsfafddsaad\")\n",
    " clear_output()  # Remember, this only works in jupyter!\n",
    " print(\"dddddddddddddddddddddddddddddddd\")   "
   ]
  },
  {
   "cell_type": "code",
   "execution_count": null,
   "id": "031ea6d9",
   "metadata": {},
   "outputs": [],
   "source": [
    "class Animal():\n",
    "    \n",
    "    print(\"Animal created\")\n",
    "    def __init__(self):\n",
    "        pass\n",
    "    def eat(self):\n",
    "        print(\"I eat\")\n",
    "    \n",
    "class Dog(Animal):\n",
    "    species=\"mammal\"\n",
    "    def __init__(self,breed, gender,age,number):\n",
    "        Animal.__init__(self)\n",
    "        self.breed=breed\n",
    "        self.gender=gender\n",
    "        self.age=age\n",
    "        self.number=number**2\n",
    "    \n",
    "    def Bark(self,number2):\n",
    "        self.number2=10*number2\n",
    "        print(\"woof\")\n",
    "        print(self.number)\n",
    "        print(self.number2)\n",
    "        print(Dog.species)\n",
    "MyDog=Dog(\"Poodle\",\"Male\",2,4)\n",
    "MyDog.age\n",
    "MyDog.gender=\"Female\"\n",
    "print(MyDog.gender)\n",
    "MyDog.breed=input (\"Print the breed of your dog\")\n",
    "print(MyDog.breed)\n",
    "MyDog=Dog(\"Lab\",\"Male\",8,7)\n",
    "print(MyDog.age)\n",
    "print(MyDog.gender)\n",
    "print(MyDog.breed)\n",
    "MyDog.species\n",
    "MyDog.Bark(5)\n",
    "MyDog.eat()\n",
    "\n",
    "\n"
   ]
  },
  {
   "cell_type": "code",
   "execution_count": null,
   "id": "1fcab80c",
   "metadata": {},
   "outputs": [],
   "source": [
    "c = (3,2)\n",
    "print(c[1])\n",
    "c = (3,2)\n",
    "x,y=c\n",
    "x,y=c\n",
    "print(x)\n",
    "print(y)\n",
    "print(4+4)"
   ]
  },
  {
   "cell_type": "raw",
   "id": "dbcecf34",
   "metadata": {},
   "source": [
    "c = (3,2)\n",
    "x,y=c\n",
    "#\n",
    "print(4+4)"
   ]
  },
  {
   "cell_type": "code",
   "execution_count": null,
   "id": "4bbaed4e",
   "metadata": {},
   "outputs": [],
   "source": [
    "try:\n",
    "    x=1+2\n",
    "except:\n",
    "    print(\"Not an integer\")\n",
    "else:\n",
    "    print(x)\n"
   ]
  },
  {
   "cell_type": "code",
   "execution_count": null,
   "id": "7f8ba768",
   "metadata": {},
   "outputs": [],
   "source": [
    "try:\n",
    "    x=w\n",
    "    print(x)\n",
    "except NameError:\n",
    "    print(f\"{x} doesn't exist\")\n",
    "    f=open(\"NameError\",'w')\n",
    "    f.write(f\"{x} doesn't exist\")\n",
    "    "
   ]
  },
  {
   "cell_type": "code",
   "execution_count": null,
   "id": "ab250f58",
   "metadata": {},
   "outputs": [],
   "source": [
    "print(w)"
   ]
  },
  {
   "cell_type": "code",
   "execution_count": null,
   "id": "5a727e3b",
   "metadata": {},
   "outputs": [],
   "source": [
    "3**2"
   ]
  },
  {
   "cell_type": "code",
   "execution_count": null,
   "id": "2f234bb6",
   "metadata": {},
   "outputs": [],
   "source": [
    "import unittest\n",
    "import Cap\n",
    "\n",
    "\n",
    "print(\"Stand in\")\n",
    "class TestCap(unittest.TestCase):\n",
    "\tdef test_one_word(self):\n",
    "\t\ttext='python'\n",
    "\t\tresult=Cap.cap_text(text)\n",
    "\t\tself.assertEqual(result,'Python')\n",
    "\n",
    "\tdef test_multiple_words(self):\n",
    "\t\ttext ='monthy python'\n",
    "\t\tresult=Cap.cap_text(text)\n",
    "\t\tself.assertEqual(result,'Monthy python')\n",
    "if __name__=='__main__':\n",
    "\tunittest.main()\n",
    "print(\"Ask her\")\n",
    "x=Cap.cap_text(\"text\")\n",
    "print(x)\n",
    "g=TestCap()\n",
    "g.assertEqual(x,\"Text\")\n",
    "print(\"Ask her\")\n",
    "print(f\"G is {g}\")"
   ]
  },
  {
   "cell_type": "code",
   "execution_count": null,
   "id": "e6d9ddb9",
   "metadata": {},
   "outputs": [],
   "source": [
    "import unittest\n",
    "unittest.TestCase()"
   ]
  },
  {
   "cell_type": "code",
   "execution_count": null,
   "id": "8278afe4",
   "metadata": {},
   "outputs": [],
   "source": [
    "class Animal():\n",
    "    \n",
    "    print(\"Animal created\")\n",
    "    def __init__(self):\n",
    "        pass\n",
    "    def eat(self):\n",
    "        print(\"I eat\")\n",
    "class Plant:\n",
    "    \n",
    "    def __init__(self, plant = 'plant'):\n",
    "        \n",
    "        self.plant=plant\n",
    "       # print(f\"Plant is {self.plant}\")\n",
    "    def plantspeak(self,plant):\n",
    "        self.plant=plant\n",
    "        print(f\"Plant is {self.plant}\")\n",
    "        return self.plant\n",
    "    def phrase():\n",
    "        print(\"Testing\")\n",
    "class Circle:\n",
    "    pi = 3.14\n",
    "\n",
    "    # Circle gets instantiated with a radius (default is 1)\n",
    "    def __init__(self, radius=1):\n",
    "        self.radius = radius \n",
    "        self.area = radius * radius * Circle.pi\n",
    "\n",
    "    # Method for resetting Radius\n",
    "    def setRadius(self, new_radius):\n",
    "        self.radius = new_radius\n",
    "        self.area = new_radius * new_radius * self.pi\n",
    "\n",
    "    # Method for getting Circumference\n",
    "    def getCircumference(self):\n",
    "        return self.radius * self.pi * 2\n",
    "\n",
    "\n",
    "c = Circle()\n",
    "\n",
    "print('Radius is: ',c.radius)\n",
    "print('Area is: ',c.area)\n",
    "print('Circumference is: ',c.getCircumference())    \n",
    "        \n",
    "class Dog(Animal,Circle,Plant):\n",
    "    species=\"mammal\"\n",
    "    \n",
    "    def __init__(self,breed, gender,age,number):\n",
    "        \n",
    "        Animal.__init__(self)\n",
    "        Circle.__init__(self)\n",
    "        Plant.__init__(self,plant='toe')\n",
    "        #Circle.setRadius__init__(self,new_radius)\n",
    "        #Plant.phrase__init__(self)\n",
    "        \n",
    "        self.breed=breed\n",
    "        self.gender=gender\n",
    "        self.age=age\n",
    "        self.number=number**2\n",
    "    \n",
    "    def Bark(self,number2):\n",
    "        self.number2=10*number2\n",
    "        print(\"woof\")\n",
    "        print(self.number)\n",
    "        print(self.number2)\n",
    "        print(Dog.species)\n",
    "MyDog=Dog(\"Poodle\",\"Male\",2,4)\n",
    "MyDog.age\n",
    "MyDog.gender=\"Female\"\n",
    "print(MyDog.gender)\n",
    "MyDog.breed=input (\"Print the breed of your dog\")\n",
    "print(MyDog.breed)\n",
    "MyDog=Dog(\"Lab\",\"Male\",8,7)\n",
    "print(MyDog.age)\n",
    "print(MyDog.gender)\n",
    "print(MyDog.breed)\n",
    "MyDog.species\n",
    "MyDog.Bark(5)\n",
    "MyDog.eat()\n",
    "MyDog.getCircumference()\n",
    "MyDog.plantspeak('fern')\n",
    "MyDog.setRadius(3)\n",
    "MyDog.getCircumference()\n"
   ]
  },
  {
   "cell_type": "code",
   "execution_count": null,
   "id": "04427665",
   "metadata": {},
   "outputs": [],
   "source": [
    "totalValueP=57\n",
    "ACE=20\n",
    "for g in range(0,ACE,10):\n",
    "    totalValueP=totalValueP-10\n",
    "    print(totalValueP)\n",
    "    if totalValueP <=21:\n",
    "        break\n",
    "    "
   ]
  },
  {
   "cell_type": "code",
   "execution_count": null,
   "id": "55caf84f",
   "metadata": {},
   "outputs": [],
   "source": [
    "def func():\n",
    "    return 1\n"
   ]
  },
  {
   "cell_type": "code",
   "execution_count": null,
   "id": "99601d31",
   "metadata": {},
   "outputs": [],
   "source": [
    "func()"
   ]
  },
  {
   "cell_type": "code",
   "execution_count": null,
   "id": "db143de0",
   "metadata": {},
   "outputs": [],
   "source": [
    "\n",
    "print(globals())"
   ]
  },
  {
   "cell_type": "code",
   "execution_count": null,
   "id": "87f10e69",
   "metadata": {},
   "outputs": [],
   "source": [
    "from collections import Counter\n",
    "i=[6,1,2,3,4,5,6,6,6]\n"
   ]
  },
  {
   "cell_type": "code",
   "execution_count": null,
   "id": "3f9d724b",
   "metadata": {},
   "outputs": [],
   "source": [
    "Counter(i)"
   ]
  },
  {
   "cell_type": "code",
   "execution_count": 1,
   "id": "03771f31",
   "metadata": {},
   "outputs": [],
   "source": [
    "import math\n"
   ]
  },
  {
   "cell_type": "code",
   "execution_count": 2,
   "id": "79bbc55d",
   "metadata": {},
   "outputs": [
    {
     "name": "stdout",
     "output_type": "stream",
     "text": [
      "Help on built-in module math:\n",
      "\n",
      "NAME\n",
      "    math\n",
      "\n",
      "DESCRIPTION\n",
      "    This module provides access to the mathematical functions\n",
      "    defined by the C standard.\n",
      "\n",
      "FUNCTIONS\n",
      "    acos(x, /)\n",
      "        Return the arc cosine (measured in radians) of x.\n",
      "    \n",
      "    acosh(x, /)\n",
      "        Return the inverse hyperbolic cosine of x.\n",
      "    \n",
      "    asin(x, /)\n",
      "        Return the arc sine (measured in radians) of x.\n",
      "    \n",
      "    asinh(x, /)\n",
      "        Return the inverse hyperbolic sine of x.\n",
      "    \n",
      "    atan(x, /)\n",
      "        Return the arc tangent (measured in radians) of x.\n",
      "    \n",
      "    atan2(y, x, /)\n",
      "        Return the arc tangent (measured in radians) of y/x.\n",
      "        \n",
      "        Unlike atan(y/x), the signs of both x and y are considered.\n",
      "    \n",
      "    atanh(x, /)\n",
      "        Return the inverse hyperbolic tangent of x.\n",
      "    \n",
      "    ceil(x, /)\n",
      "        Return the ceiling of x as an Integral.\n",
      "        \n",
      "        This is the smallest integer >= x.\n",
      "    \n",
      "    comb(n, k, /)\n",
      "        Number of ways to choose k items from n items without repetition and without order.\n",
      "        \n",
      "        Evaluates to n! / (k! * (n - k)!) when k <= n and evaluates\n",
      "        to zero when k > n.\n",
      "        \n",
      "        Also called the binomial coefficient because it is equivalent\n",
      "        to the coefficient of k-th term in polynomial expansion of the\n",
      "        expression (1 + x)**n.\n",
      "        \n",
      "        Raises TypeError if either of the arguments are not integers.\n",
      "        Raises ValueError if either of the arguments are negative.\n",
      "    \n",
      "    copysign(x, y, /)\n",
      "        Return a float with the magnitude (absolute value) of x but the sign of y.\n",
      "        \n",
      "        On platforms that support signed zeros, copysign(1.0, -0.0)\n",
      "        returns -1.0.\n",
      "    \n",
      "    cos(x, /)\n",
      "        Return the cosine of x (measured in radians).\n",
      "    \n",
      "    cosh(x, /)\n",
      "        Return the hyperbolic cosine of x.\n",
      "    \n",
      "    degrees(x, /)\n",
      "        Convert angle x from radians to degrees.\n",
      "    \n",
      "    dist(p, q, /)\n",
      "        Return the Euclidean distance between two points p and q.\n",
      "        \n",
      "        The points should be specified as sequences (or iterables) of\n",
      "        coordinates.  Both inputs must have the same dimension.\n",
      "        \n",
      "        Roughly equivalent to:\n",
      "            sqrt(sum((px - qx) ** 2.0 for px, qx in zip(p, q)))\n",
      "    \n",
      "    erf(x, /)\n",
      "        Error function at x.\n",
      "    \n",
      "    erfc(x, /)\n",
      "        Complementary error function at x.\n",
      "    \n",
      "    exp(x, /)\n",
      "        Return e raised to the power of x.\n",
      "    \n",
      "    expm1(x, /)\n",
      "        Return exp(x)-1.\n",
      "        \n",
      "        This function avoids the loss of precision involved in the direct evaluation of exp(x)-1 for small x.\n",
      "    \n",
      "    fabs(x, /)\n",
      "        Return the absolute value of the float x.\n",
      "    \n",
      "    factorial(x, /)\n",
      "        Find x!.\n",
      "        \n",
      "        Raise a ValueError if x is negative or non-integral.\n",
      "    \n",
      "    floor(x, /)\n",
      "        Return the floor of x as an Integral.\n",
      "        \n",
      "        This is the largest integer <= x.\n",
      "    \n",
      "    fmod(x, y, /)\n",
      "        Return fmod(x, y), according to platform C.\n",
      "        \n",
      "        x % y may differ.\n",
      "    \n",
      "    frexp(x, /)\n",
      "        Return the mantissa and exponent of x, as pair (m, e).\n",
      "        \n",
      "        m is a float and e is an int, such that x = m * 2.**e.\n",
      "        If x is 0, m and e are both 0.  Else 0.5 <= abs(m) < 1.0.\n",
      "    \n",
      "    fsum(seq, /)\n",
      "        Return an accurate floating point sum of values in the iterable seq.\n",
      "        \n",
      "        Assumes IEEE-754 floating point arithmetic.\n",
      "    \n",
      "    gamma(x, /)\n",
      "        Gamma function at x.\n",
      "    \n",
      "    gcd(x, y, /)\n",
      "        greatest common divisor of x and y\n",
      "    \n",
      "    hypot(...)\n",
      "        hypot(*coordinates) -> value\n",
      "        \n",
      "        Multidimensional Euclidean distance from the origin to a point.\n",
      "        \n",
      "        Roughly equivalent to:\n",
      "            sqrt(sum(x**2 for x in coordinates))\n",
      "        \n",
      "        For a two dimensional point (x, y), gives the hypotenuse\n",
      "        using the Pythagorean theorem:  sqrt(x*x + y*y).\n",
      "        \n",
      "        For example, the hypotenuse of a 3/4/5 right triangle is:\n",
      "        \n",
      "            >>> hypot(3.0, 4.0)\n",
      "            5.0\n",
      "    \n",
      "    isclose(a, b, *, rel_tol=1e-09, abs_tol=0.0)\n",
      "        Determine whether two floating point numbers are close in value.\n",
      "        \n",
      "          rel_tol\n",
      "            maximum difference for being considered \"close\", relative to the\n",
      "            magnitude of the input values\n",
      "          abs_tol\n",
      "            maximum difference for being considered \"close\", regardless of the\n",
      "            magnitude of the input values\n",
      "        \n",
      "        Return True if a is close in value to b, and False otherwise.\n",
      "        \n",
      "        For the values to be considered close, the difference between them\n",
      "        must be smaller than at least one of the tolerances.\n",
      "        \n",
      "        -inf, inf and NaN behave similarly to the IEEE 754 Standard.  That\n",
      "        is, NaN is not close to anything, even itself.  inf and -inf are\n",
      "        only close to themselves.\n",
      "    \n",
      "    isfinite(x, /)\n",
      "        Return True if x is neither an infinity nor a NaN, and False otherwise.\n",
      "    \n",
      "    isinf(x, /)\n",
      "        Return True if x is a positive or negative infinity, and False otherwise.\n",
      "    \n",
      "    isnan(x, /)\n",
      "        Return True if x is a NaN (not a number), and False otherwise.\n",
      "    \n",
      "    isqrt(n, /)\n",
      "        Return the integer part of the square root of the input.\n",
      "    \n",
      "    ldexp(x, i, /)\n",
      "        Return x * (2**i).\n",
      "        \n",
      "        This is essentially the inverse of frexp().\n",
      "    \n",
      "    lgamma(x, /)\n",
      "        Natural logarithm of absolute value of Gamma function at x.\n",
      "    \n",
      "    log(...)\n",
      "        log(x, [base=math.e])\n",
      "        Return the logarithm of x to the given base.\n",
      "        \n",
      "        If the base not specified, returns the natural logarithm (base e) of x.\n",
      "    \n",
      "    log10(x, /)\n",
      "        Return the base 10 logarithm of x.\n",
      "    \n",
      "    log1p(x, /)\n",
      "        Return the natural logarithm of 1+x (base e).\n",
      "        \n",
      "        The result is computed in a way which is accurate for x near zero.\n",
      "    \n",
      "    log2(x, /)\n",
      "        Return the base 2 logarithm of x.\n",
      "    \n",
      "    modf(x, /)\n",
      "        Return the fractional and integer parts of x.\n",
      "        \n",
      "        Both results carry the sign of x and are floats.\n",
      "    \n",
      "    perm(n, k=None, /)\n",
      "        Number of ways to choose k items from n items without repetition and with order.\n",
      "        \n",
      "        Evaluates to n! / (n - k)! when k <= n and evaluates\n",
      "        to zero when k > n.\n",
      "        \n",
      "        If k is not specified or is None, then k defaults to n\n",
      "        and the function returns n!.\n",
      "        \n",
      "        Raises TypeError if either of the arguments are not integers.\n",
      "        Raises ValueError if either of the arguments are negative.\n",
      "    \n",
      "    pow(x, y, /)\n",
      "        Return x**y (x to the power of y).\n",
      "    \n",
      "    prod(iterable, /, *, start=1)\n",
      "        Calculate the product of all the elements in the input iterable.\n",
      "        \n",
      "        The default start value for the product is 1.\n",
      "        \n",
      "        When the iterable is empty, return the start value.  This function is\n",
      "        intended specifically for use with numeric values and may reject\n",
      "        non-numeric types.\n",
      "    \n",
      "    radians(x, /)\n",
      "        Convert angle x from degrees to radians.\n",
      "    \n",
      "    remainder(x, y, /)\n",
      "        Difference between x and the closest integer multiple of y.\n",
      "        \n",
      "        Return x - n*y where n*y is the closest integer multiple of y.\n",
      "        In the case where x is exactly halfway between two multiples of\n",
      "        y, the nearest even value of n is used. The result is always exact.\n",
      "    \n",
      "    sin(x, /)\n",
      "        Return the sine of x (measured in radians).\n",
      "    \n",
      "    sinh(x, /)\n",
      "        Return the hyperbolic sine of x.\n",
      "    \n",
      "    sqrt(x, /)\n",
      "        Return the square root of x.\n",
      "    \n",
      "    tan(x, /)\n",
      "        Return the tangent of x (measured in radians).\n",
      "    \n",
      "    tanh(x, /)\n",
      "        Return the hyperbolic tangent of x.\n",
      "    \n",
      "    trunc(x, /)\n",
      "        Truncates the Real x to the nearest Integral toward 0.\n",
      "        \n",
      "        Uses the __trunc__ magic method.\n",
      "\n",
      "DATA\n",
      "    e = 2.718281828459045\n",
      "    inf = inf\n",
      "    nan = nan\n",
      "    pi = 3.141592653589793\n",
      "    tau = 6.283185307179586\n",
      "\n",
      "FILE\n",
      "    (built-in)\n",
      "\n",
      "\n"
     ]
    }
   ],
   "source": [
    "help (math)"
   ]
  },
  {
   "cell_type": "code",
   "execution_count": 3,
   "id": "5a125f90",
   "metadata": {},
   "outputs": [
    {
     "data": {
      "text/plain": [
       "3.141592653589793"
      ]
     },
     "execution_count": 3,
     "metadata": {},
     "output_type": "execute_result"
    }
   ],
   "source": [
    "math.pi\n"
   ]
  },
  {
   "cell_type": "code",
   "execution_count": 4,
   "id": "e266a3a4",
   "metadata": {},
   "outputs": [
    {
     "data": {
      "text/plain": [
       "-1.0"
      ]
     },
     "execution_count": 4,
     "metadata": {},
     "output_type": "execute_result"
    }
   ],
   "source": [
    "math.cos(math.pi)"
   ]
  },
  {
   "cell_type": "code",
   "execution_count": null,
   "id": "94443bb2",
   "metadata": {},
   "outputs": [],
   "source": [
    "import pdb"
   ]
  },
  {
   "cell_type": "code",
   "execution_count": null,
   "id": "b02e7fb0",
   "metadata": {},
   "outputs": [],
   "source": [
    "x=3\n",
    "y=4\n",
    "ġ='Monkey'\n",
    "x=3+4\n",
    "pdb.set_trace()\n",
    "Ż=ġ+y\n",
    "pdb.set_trace()\n",
    "print(Ż)"
   ]
  },
  {
   "cell_type": "code",
   "execution_count": null,
   "id": "f11170fa",
   "metadata": {},
   "outputs": [],
   "source": [
    "x=4\n",
    "pdb.set_trace()"
   ]
  },
  {
   "cell_type": "code",
   "execution_count": null,
   "id": "0d58f0fa",
   "metadata": {},
   "outputs": [],
   "source": [
    "f=open(\"file1.txt\",'w+')\n",
    "f.write('ONE FILE')\n",
    "f.close()"
   ]
  },
  {
   "cell_type": "code",
   "execution_count": null,
   "id": "92877cac",
   "metadata": {},
   "outputs": [],
   "source": [
    "f=open(\"file2.txt\",'w')\n",
    "f.write('2two FILE')\n",
    "f=open(\"file2.txt\",'r')\n",
    "r=f.read()\n",
    "print(r)\n",
    "f.close()\n"
   ]
  },
  {
   "cell_type": "code",
   "execution_count": null,
   "id": "b9325fdd",
   "metadata": {},
   "outputs": [],
   "source": [
    "import zipfile"
   ]
  },
  {
   "cell_type": "code",
   "execution_count": null,
   "id": "4d0c5df5",
   "metadata": {},
   "outputs": [],
   "source": [
    "comp_file=zipfile.ZipFile('comp_file.zip','w')"
   ]
  },
  {
   "cell_type": "code",
   "execution_count": null,
   "id": "cae64817",
   "metadata": {},
   "outputs": [],
   "source": [
    "comp_file.write('file1.txt',compress_type=zipfile.ZIP_DEFLATED)"
   ]
  },
  {
   "cell_type": "code",
   "execution_count": null,
   "id": "df3d7fa7",
   "metadata": {},
   "outputs": [],
   "source": [
    "comp_file.write('file2.txt',compress_type=zipfile.ZIP_DEFLATED)"
   ]
  },
  {
   "cell_type": "code",
   "execution_count": null,
   "id": "606cdf51",
   "metadata": {},
   "outputs": [],
   "source": [
    "comp_file.close()"
   ]
  },
  {
   "cell_type": "code",
   "execution_count": null,
   "id": "1095e5bc",
   "metadata": {},
   "outputs": [],
   "source": [
    "zip_object=zipfile.ZipFile('comp_file.zip','r')"
   ]
  },
  {
   "cell_type": "code",
   "execution_count": null,
   "id": "7ac87d26",
   "metadata": {},
   "outputs": [],
   "source": [
    "zip_object.extractall('extracted_content')"
   ]
  },
  {
   "cell_type": "code",
   "execution_count": null,
   "id": "db145ac4",
   "metadata": {},
   "outputs": [],
   "source": [
    "pwd\n"
   ]
  },
  {
   "cell_type": "code",
   "execution_count": null,
   "id": "a366ed6d",
   "metadata": {},
   "outputs": [],
   "source": [
    "import shutil"
   ]
  },
  {
   "cell_type": "code",
   "execution_count": null,
   "id": "8f5e7db2",
   "metadata": {},
   "outputs": [],
   "source": [
    "dir_to_zip='C:\\\\Users\\\\Justin\\\\Desktop\\\\Programs\\\\Python\\\\MyCode\\\\extracted_content'"
   ]
  },
  {
   "cell_type": "code",
   "execution_count": null,
   "id": "d90d615e",
   "metadata": {},
   "outputs": [],
   "source": [
    "output_filename = \"example\"\n",
    "output_filename"
   ]
  },
  {
   "cell_type": "code",
   "execution_count": null,
   "id": "826d8635",
   "metadata": {},
   "outputs": [],
   "source": [
    "shutil.make_archive(output_filename,'zip',dir_to_zip)"
   ]
  },
  {
   "cell_type": "code",
   "execution_count": null,
   "id": "dd44d1b3",
   "metadata": {},
   "outputs": [],
   "source": [
    "zip_object=zipfile.ZipFile('example.zip','r')\n",
    "zip_object.extractall('output_filename')"
   ]
  },
  {
   "cell_type": "code",
   "execution_count": null,
   "id": "def65f75",
   "metadata": {},
   "outputs": [],
   "source": [
    "shutil.unpack_archive('example.zip','final_unzip','zip')"
   ]
  },
  {
   "cell_type": "code",
   "execution_count": 1,
   "id": "ad921d50",
   "metadata": {},
   "outputs": [],
   "source": [
    "import requests\n"
   ]
  },
  {
   "cell_type": "code",
   "execution_count": 2,
   "id": "71a9f3ce",
   "metadata": {},
   "outputs": [],
   "source": [
    "import bs4\n",
    "\n"
   ]
  },
  {
   "cell_type": "code",
   "execution_count": null,
   "id": "08ce4d01",
   "metadata": {},
   "outputs": [],
   "source": [
    "result=requests.get(\"http://www.example.com\")"
   ]
  },
  {
   "cell_type": "code",
   "execution_count": null,
   "id": "73da34ad",
   "metadata": {},
   "outputs": [],
   "source": [
    "type(result)\n"
   ]
  },
  {
   "cell_type": "code",
   "execution_count": null,
   "id": "fa214fad",
   "metadata": {},
   "outputs": [],
   "source": [
    "result.text\n"
   ]
  },
  {
   "cell_type": "code",
   "execution_count": null,
   "id": "87caf920",
   "metadata": {},
   "outputs": [],
   "source": [
    "soup=bs4.BeautifulSoup(result.text,'lxml')"
   ]
  },
  {
   "cell_type": "code",
   "execution_count": null,
   "id": "584ee3ca",
   "metadata": {},
   "outputs": [],
   "source": [
    "soup"
   ]
  },
  {
   "cell_type": "code",
   "execution_count": null,
   "id": "247a7d13",
   "metadata": {},
   "outputs": [],
   "source": [
    "soup.select(\"title\")"
   ]
  },
  {
   "cell_type": "code",
   "execution_count": null,
   "id": "25494d40",
   "metadata": {},
   "outputs": [],
   "source": [
    "soup.select(\"title\")[0].getText()\n"
   ]
  },
  {
   "cell_type": "code",
   "execution_count": null,
   "id": "0f8c3cd9",
   "metadata": {},
   "outputs": [],
   "source": [
    "site_paragraph=soup.select(\"p\")"
   ]
  },
  {
   "cell_type": "code",
   "execution_count": null,
   "id": "fa35edbb",
   "metadata": {},
   "outputs": [],
   "source": [
    "site_paragraph[0].getText()"
   ]
  },
  {
   "cell_type": "code",
   "execution_count": null,
   "id": "601c60b6",
   "metadata": {},
   "outputs": [],
   "source": [
    "res=requests.get(\"https://en.wikipedia.org/wiki/Brian_George#Filmography\")"
   ]
  },
  {
   "cell_type": "code",
   "execution_count": null,
   "id": "d7dd7758",
   "metadata": {},
   "outputs": [],
   "source": [
    "soup=bs4.BeautifulSoup(res.text,'lxml')"
   ]
  },
  {
   "cell_type": "code",
   "execution_count": null,
   "id": "528cb1e7",
   "metadata": {},
   "outputs": [],
   "source": [
    "soup()"
   ]
  },
  {
   "cell_type": "code",
   "execution_count": null,
   "id": "76f3fc68",
   "metadata": {},
   "outputs": [],
   "source": [
    "soup.select('.toctext')"
   ]
  },
  {
   "cell_type": "code",
   "execution_count": null,
   "id": "2d158731",
   "metadata": {},
   "outputs": [],
   "source": [
    "soup.select('.toctext')[1]"
   ]
  },
  {
   "cell_type": "code",
   "execution_count": null,
   "id": "4f2b5f1b",
   "metadata": {},
   "outputs": [],
   "source": [
    "soup.select('.toctext')[1].getText()"
   ]
  },
  {
   "cell_type": "code",
   "execution_count": null,
   "id": "2802f134",
   "metadata": {},
   "outputs": [],
   "source": [
    "range(4,len(soup.select('.toctext')))"
   ]
  },
  {
   "cell_type": "code",
   "execution_count": null,
   "id": "c9c637b6",
   "metadata": {},
   "outputs": [],
   "source": [
    "print(soup.select('.toctext')[1].getText())"
   ]
  },
  {
   "cell_type": "code",
   "execution_count": null,
   "id": "d8a2f6e0",
   "metadata": {},
   "outputs": [],
   "source": [
    "type(soup)"
   ]
  },
  {
   "cell_type": "code",
   "execution_count": null,
   "id": "f7cc0f41",
   "metadata": {},
   "outputs": [],
   "source": [
    "for item in range(len(soup.select('.toctext'))):\n",
    "    print(soup.select('.toctext')[item].getText())"
   ]
  },
  {
   "cell_type": "code",
   "execution_count": null,
   "id": "8d912408",
   "metadata": {},
   "outputs": [],
   "source": [
    "for item in soup.select('.toctext'):\n",
    "    print(item.text)"
   ]
  },
  {
   "cell_type": "code",
   "execution_count": null,
   "id": "f5e5650d",
   "metadata": {},
   "outputs": [],
   "source": [
    "item1=soup.select('.toctext')\n",
    "print(item1)\n",
    "item1.text"
   ]
  },
  {
   "cell_type": "code",
   "execution_count": null,
   "id": "71c1709d",
   "metadata": {},
   "outputs": [],
   "source": [
    "res\n"
   ]
  },
  {
   "cell_type": "code",
   "execution_count": null,
   "id": "2f562929",
   "metadata": {},
   "outputs": [],
   "source": [
    "soup.select(\".thumbimage\")"
   ]
  },
  {
   "cell_type": "code",
   "execution_count": null,
   "id": "593a332d",
   "metadata": {},
   "outputs": [],
   "source": [
    "soup.select(\".img alt\")[0].getText()"
   ]
  },
  {
   "cell_type": "code",
   "execution_count": null,
   "id": "8d7c8676",
   "metadata": {},
   "outputs": [],
   "source": [
    "res=requests.get(\"https://en.wikipedia.org/wiki/Malta\")\n",
    "soup=bs4.BeautifulSoup(res.text,'lxml')"
   ]
  },
  {
   "cell_type": "code",
   "execution_count": null,
   "id": "4966308e",
   "metadata": {},
   "outputs": [],
   "source": [
    "painting=soup.select(\".thumbimage\")[0]"
   ]
  },
  {
   "cell_type": "code",
   "execution_count": null,
   "id": "d5e33cf5",
   "metadata": {},
   "outputs": [],
   "source": [
    "painting"
   ]
  },
  {
   "cell_type": "code",
   "execution_count": null,
   "id": "a469773b",
   "metadata": {},
   "outputs": [],
   "source": [
    "type(painting)"
   ]
  },
  {
   "cell_type": "code",
   "execution_count": null,
   "id": "e6c8c527",
   "metadata": {},
   "outputs": [],
   "source": [
    "painting['src']"
   ]
  },
  {
   "cell_type": "markdown",
   "id": "5821d877",
   "metadata": {},
   "source": [
    "<img src='//upload.wikimedia.org/wikipedia/commons/thumb/7/78/Batterie_alle_poste_di_Castiglia_e_d%27Alemagna._09.07._1565.png/230px-Batterie_alle_poste_di_Castiglia_e_d%27Alemagna._09.07._1565.png'>"
   ]
  },
  {
   "cell_type": "code",
   "execution_count": null,
   "id": "b50be872",
   "metadata": {},
   "outputs": [],
   "source": [
    "image_link=requests.get('https://upload.wikimedia.org/wikipedia/commons/thumb/7/78/Batterie_alle_poste_di_Castiglia_e_d%27Alemagna._09.07._1565.png/230px-Batterie_alle_poste_di_Castiglia_e_d%27Alemagna._09.07._1565.png')"
   ]
  },
  {
   "cell_type": "code",
   "execution_count": null,
   "id": "e2fbc53c",
   "metadata": {},
   "outputs": [],
   "source": [
    "image_link.content"
   ]
  },
  {
   "cell_type": "code",
   "execution_count": null,
   "id": "8d95d3ca",
   "metadata": {},
   "outputs": [],
   "source": [
    "f=open('my_image','wb')"
   ]
  },
  {
   "cell_type": "code",
   "execution_count": null,
   "id": "8de8e856",
   "metadata": {},
   "outputs": [],
   "source": [
    "f.write(image_link.content)"
   ]
  },
  {
   "cell_type": "code",
   "execution_count": null,
   "id": "e32f4643",
   "metadata": {},
   "outputs": [],
   "source": [
    "f.close()"
   ]
  },
  {
   "cell_type": "code",
   "execution_count": 3,
   "id": "d76b017b",
   "metadata": {},
   "outputs": [],
   "source": [
    "import requests\n",
    "import bs4"
   ]
  },
  {
   "cell_type": "code",
   "execution_count": 4,
   "id": "816f55c9",
   "metadata": {},
   "outputs": [
    {
     "data": {
      "text/plain": [
       "'http://books.toscrape.com/catalogue/page-12.html'"
      ]
     },
     "execution_count": 4,
     "metadata": {},
     "output_type": "execute_result"
    }
   ],
   "source": [
    "pag_num=10\n",
    "base_url=\"http://books.toscrape.com/catalogue/page-{}.html\"\n",
    "base_url.format(pag_num)\n",
    "base_url.format(12)\n"
   ]
  },
  {
   "cell_type": "code",
   "execution_count": 26,
   "id": "97b9496e",
   "metadata": {},
   "outputs": [
    {
     "data": {
      "text/plain": [
       "'\\n\\n<!DOCTYPE html>\\n<!--[if lt IE 7]>      <html lang=\"en-us\" class=\"no-js lt-ie9 lt-ie8 lt-ie7\"> <![endif]-->\\n<!--[if IE 7]>         <html lang=\"en-us\" class=\"no-js lt-ie9 lt-ie8\"> <![endif]-->\\n<!--[if IE 8]>         <html lang=\"en-us\" class=\"no-js lt-ie9\"> <![endif]-->\\n<!--[if gt IE 8]><!--> <html lang=\"en-us\" class=\"no-js\"> <!--<![endif]-->\\n    <head>\\n        <title>\\n    All products | Books to Scrape - Sandbox\\n</title>\\n\\n        <meta http-equiv=\"content-type\" content=\"text/html; charset=UTF-8\" />\\n        <meta name=\"created\" content=\"24th Jun 2016 09:32\" />\\n        <meta name=\"description\" content=\"\" />\\n        <meta name=\"viewport\" content=\"width=device-width\" />\\n        <meta name=\"robots\" content=\"NOARCHIVE,NOCACHE\" />\\n\\n        <!-- Le HTML5 shim, for IE6-8 support of HTML elements -->\\n        <!--[if lt IE 9]>\\n        <script src=\"//html5shim.googlecode.com/svn/trunk/html5.js\"></script>\\n        <![endif]-->\\n\\n        \\n            <link rel=\"shortcut icon\" href=\"../static/oscar/favicon.ico\" />\\n        \\n\\n        \\n        \\n    \\n    \\n        <link rel=\"stylesheet\" type=\"text/css\" href=\"../static/oscar/css/styles.css\" />\\n    \\n    <link rel=\"stylesheet\" href=\"../static/oscar/js/bootstrap-datetimepicker/bootstrap-datetimepicker.css\" />\\n    <link rel=\"stylesheet\" type=\"text/css\" href=\"../static/oscar/css/datetimepicker.css\" />\\n\\n\\n        \\n        \\n\\n        \\n\\n        \\n            \\n            \\n\\n        \\n    </head>\\n\\n    <body id=\"default\" class=\"default\">\\n        \\n        \\n    \\n    \\n    <header class=\"header container-fluid\">\\n        <div class=\"page_inner\">\\n            <div class=\"row\">\\n                <div class=\"col-sm-8 h1\"><a href=\"../index.html\">Books to Scrape</a><small> We love being scraped!</small>\\n</div>\\n\\n                \\n            </div>\\n        </div>\\n    </header>\\n\\n    \\n    \\n<div class=\"container-fluid page\">\\n    <div class=\"page_inner\">\\n        \\n    <ul class=\"breadcrumb\">\\n        <li>\\n            <a href=\"../index.html\">Home</a>\\n        </li>\\n        <li class=\"active\">All products</li>\\n    </ul>\\n\\n        <div class=\"row\">\\n\\n            <aside class=\"sidebar col-sm-4 col-md-3\">\\n                \\n                <div id=\"promotions_left\">\\n                    \\n                </div>\\n                \\n    \\n    \\n        \\n        <div class=\"side_categories\">\\n            <ul class=\"nav nav-list\">\\n                \\n                    <li>\\n                        <a href=\"category/books_1/index.html\">\\n                            \\n                                Books\\n                            \\n                        </a>\\n\\n                        <ul>\\n                        \\n                \\n                    <li>\\n                        <a href=\"category/books/travel_2/index.html\">\\n                            \\n                                Travel\\n                            \\n                        </a>\\n\\n                        </li>\\n                        \\n                \\n                    <li>\\n                        <a href=\"category/books/mystery_3/index.html\">\\n                            \\n                                Mystery\\n                            \\n                        </a>\\n\\n                        </li>\\n                        \\n                \\n                    <li>\\n                        <a href=\"category/books/historical-fiction_4/index.html\">\\n                            \\n                                Historical Fiction\\n                            \\n                        </a>\\n\\n                        </li>\\n                        \\n                \\n                    <li>\\n                        <a href=\"category/books/sequential-art_5/index.html\">\\n                            \\n                                Sequential Art\\n                            \\n                        </a>\\n\\n                        </li>\\n                        \\n                \\n                    <li>\\n                        <a href=\"category/books/classics_6/index.html\">\\n                            \\n                                Classics\\n                            \\n                        </a>\\n\\n                        </li>\\n                        \\n                \\n                    <li>\\n                        <a href=\"category/books/philosophy_7/index.html\">\\n                            \\n                                Philosophy\\n                            \\n                        </a>\\n\\n                        </li>\\n                        \\n                \\n                    <li>\\n                        <a href=\"category/books/romance_8/index.html\">\\n                            \\n                                Romance\\n                            \\n                        </a>\\n\\n                        </li>\\n                        \\n                \\n                    <li>\\n                        <a href=\"category/books/womens-fiction_9/index.html\">\\n                            \\n                                Womens Fiction\\n                            \\n                        </a>\\n\\n                        </li>\\n                        \\n                \\n                    <li>\\n                        <a href=\"category/books/fiction_10/index.html\">\\n                            \\n                                Fiction\\n                            \\n                        </a>\\n\\n                        </li>\\n                        \\n                \\n                    <li>\\n                        <a href=\"category/books/childrens_11/index.html\">\\n                            \\n                                Childrens\\n                            \\n                        </a>\\n\\n                        </li>\\n                        \\n                \\n                    <li>\\n                        <a href=\"category/books/religion_12/index.html\">\\n                            \\n                                Religion\\n                            \\n                        </a>\\n\\n                        </li>\\n                        \\n                \\n                    <li>\\n                        <a href=\"category/books/nonfiction_13/index.html\">\\n                            \\n                                Nonfiction\\n                            \\n                        </a>\\n\\n                        </li>\\n                        \\n                \\n                    <li>\\n                        <a href=\"category/books/music_14/index.html\">\\n                            \\n                                Music\\n                            \\n                        </a>\\n\\n                        </li>\\n                        \\n                \\n                    <li>\\n                        <a href=\"category/books/default_15/index.html\">\\n                            \\n                                Default\\n                            \\n                        </a>\\n\\n                        </li>\\n                        \\n                \\n                    <li>\\n                        <a href=\"category/books/science-fiction_16/index.html\">\\n                            \\n                                Science Fiction\\n                            \\n                        </a>\\n\\n                        </li>\\n                        \\n                \\n                    <li>\\n                        <a href=\"category/books/sports-and-games_17/index.html\">\\n                            \\n                                Sports and Games\\n                            \\n                        </a>\\n\\n                        </li>\\n                        \\n                \\n                    <li>\\n                        <a href=\"category/books/add-a-comment_18/index.html\">\\n                            \\n                                Add a comment\\n                            \\n                        </a>\\n\\n                        </li>\\n                        \\n                \\n                    <li>\\n                        <a href=\"category/books/fantasy_19/index.html\">\\n                            \\n                                Fantasy\\n                            \\n                        </a>\\n\\n                        </li>\\n                        \\n                \\n                    <li>\\n                        <a href=\"category/books/new-adult_20/index.html\">\\n                            \\n                                New Adult\\n                            \\n                        </a>\\n\\n                        </li>\\n                        \\n                \\n                    <li>\\n                        <a href=\"category/books/young-adult_21/index.html\">\\n                            \\n                                Young Adult\\n                            \\n                        </a>\\n\\n                        </li>\\n                        \\n                \\n                    <li>\\n                        <a href=\"category/books/science_22/index.html\">\\n                            \\n                                Science\\n                            \\n                        </a>\\n\\n                        </li>\\n                        \\n                \\n                    <li>\\n                        <a href=\"category/books/poetry_23/index.html\">\\n                            \\n                                Poetry\\n                            \\n                        </a>\\n\\n                        </li>\\n                        \\n                \\n                    <li>\\n                        <a href=\"category/books/paranormal_24/index.html\">\\n                            \\n                                Paranormal\\n                            \\n                        </a>\\n\\n                        </li>\\n                        \\n                \\n                    <li>\\n                        <a href=\"category/books/art_25/index.html\">\\n                            \\n                                Art\\n                            \\n                        </a>\\n\\n                        </li>\\n                        \\n                \\n                    <li>\\n                        <a href=\"category/books/psychology_26/index.html\">\\n                            \\n                                Psychology\\n                            \\n                        </a>\\n\\n                        </li>\\n                        \\n                \\n                    <li>\\n                        <a href=\"category/books/autobiography_27/index.html\">\\n                            \\n                                Autobiography\\n                            \\n                        </a>\\n\\n                        </li>\\n                        \\n                \\n                    <li>\\n                        <a href=\"category/books/parenting_28/index.html\">\\n                            \\n                                Parenting\\n                            \\n                        </a>\\n\\n                        </li>\\n                        \\n                \\n                    <li>\\n                        <a href=\"category/books/adult-fiction_29/index.html\">\\n                            \\n                                Adult Fiction\\n                            \\n                        </a>\\n\\n                        </li>\\n                        \\n                \\n                    <li>\\n                        <a href=\"category/books/humor_30/index.html\">\\n                            \\n                                Humor\\n                            \\n                        </a>\\n\\n                        </li>\\n                        \\n                \\n                    <li>\\n                        <a href=\"category/books/horror_31/index.html\">\\n                            \\n                                Horror\\n                            \\n                        </a>\\n\\n                        </li>\\n                        \\n                \\n                    <li>\\n                        <a href=\"category/books/history_32/index.html\">\\n                            \\n                                History\\n                            \\n                        </a>\\n\\n                        </li>\\n                        \\n                \\n                    <li>\\n                        <a href=\"category/books/food-and-drink_33/index.html\">\\n                            \\n                                Food and Drink\\n                            \\n                        </a>\\n\\n                        </li>\\n                        \\n                \\n                    <li>\\n                        <a href=\"category/books/christian-fiction_34/index.html\">\\n                            \\n                                Christian Fiction\\n                            \\n                        </a>\\n\\n                        </li>\\n                        \\n                \\n                    <li>\\n                        <a href=\"category/books/business_35/index.html\">\\n                            \\n                                Business\\n                            \\n                        </a>\\n\\n                        </li>\\n                        \\n                \\n                    <li>\\n                        <a href=\"category/books/biography_36/index.html\">\\n                            \\n                                Biography\\n                            \\n                        </a>\\n\\n                        </li>\\n                        \\n                \\n                    <li>\\n                        <a href=\"category/books/thriller_37/index.html\">\\n                            \\n                                Thriller\\n                            \\n                        </a>\\n\\n                        </li>\\n                        \\n                \\n                    <li>\\n                        <a href=\"category/books/contemporary_38/index.html\">\\n                            \\n                                Contemporary\\n                            \\n                        </a>\\n\\n                        </li>\\n                        \\n                \\n                    <li>\\n                        <a href=\"category/books/spirituality_39/index.html\">\\n                            \\n                                Spirituality\\n                            \\n                        </a>\\n\\n                        </li>\\n                        \\n                \\n                    <li>\\n                        <a href=\"category/books/academic_40/index.html\">\\n                            \\n                                Academic\\n                            \\n                        </a>\\n\\n                        </li>\\n                        \\n                \\n                    <li>\\n                        <a href=\"category/books/self-help_41/index.html\">\\n                            \\n                                Self Help\\n                            \\n                        </a>\\n\\n                        </li>\\n                        \\n                \\n                    <li>\\n                        <a href=\"category/books/historical_42/index.html\">\\n                            \\n                                Historical\\n                            \\n                        </a>\\n\\n                        </li>\\n                        \\n                \\n                    <li>\\n                        <a href=\"category/books/christian_43/index.html\">\\n                            \\n                                Christian\\n                            \\n                        </a>\\n\\n                        </li>\\n                        \\n                \\n                    <li>\\n                        <a href=\"category/books/suspense_44/index.html\">\\n                            \\n                                Suspense\\n                            \\n                        </a>\\n\\n                        </li>\\n                        \\n                \\n                    <li>\\n                        <a href=\"category/books/short-stories_45/index.html\">\\n                            \\n                                Short Stories\\n                            \\n                        </a>\\n\\n                        </li>\\n                        \\n                \\n                    <li>\\n                        <a href=\"category/books/novels_46/index.html\">\\n                            \\n                                Novels\\n                            \\n                        </a>\\n\\n                        </li>\\n                        \\n                \\n                    <li>\\n                        <a href=\"category/books/health_47/index.html\">\\n                            \\n                                Health\\n                            \\n                        </a>\\n\\n                        </li>\\n                        \\n                \\n                    <li>\\n                        <a href=\"category/books/politics_48/index.html\">\\n                            \\n                                Politics\\n                            \\n                        </a>\\n\\n                        </li>\\n                        \\n                \\n                    <li>\\n                        <a href=\"category/books/cultural_49/index.html\">\\n                            \\n                                Cultural\\n                            \\n                        </a>\\n\\n                        </li>\\n                        \\n                \\n                    <li>\\n                        <a href=\"category/books/erotica_50/index.html\">\\n                            \\n                                Erotica\\n                            \\n                        </a>\\n\\n                        </li>\\n                        \\n                \\n                    <li>\\n                        <a href=\"category/books/crime_51/index.html\">\\n                            \\n                                Crime\\n                            \\n                        </a>\\n\\n                        </li>\\n                        \\n                            </ul></li>\\n                        \\n                \\n            </ul>\\n        </div>\\n    \\n    \\n\\n            </aside>\\n\\n            <div class=\"col-sm-8 col-md-9\">\\n                \\n                <div class=\"page-header action\">\\n                    <h1>All products</h1>\\n                </div>\\n                \\n\\n                \\n\\n\\n\\n<div id=\"messages\">\\n\\n</div>\\n\\n\\n                <div id=\"promotions\">\\n                    \\n                </div>\\n\\n                \\n    <form method=\"get\" class=\"form-horizontal\">\\n        \\n        <div style=\"display:none\">\\n            \\n            \\n        </div>\\n\\n        \\n            \\n                \\n                    <strong>1000</strong> results - showing <strong>181</strong> to <strong>200</strong>.\\n                \\n            \\n            \\n        \\n    </form>\\n    \\n        <section>\\n            <div class=\"alert alert-warning\" role=\"alert\"><strong>Warning!</strong> This is a demo website for web scraping purposes. Prices and ratings here were randomly assigned and have no real meaning.</div>\\n\\n            <div>\\n                <ol class=\"row\">\\n                    \\n                        <li class=\"col-xs-6 col-sm-4 col-md-3 col-lg-3\">\\n\\n\\n\\n\\n\\n\\n    <article class=\"product_pod\">\\n        \\n            <div class=\"image_container\">\\n                \\n                    \\n                    <a href=\"modern-romance_820/index.html\"><img src=\"../media/cache/28/78/2878538a1039d9c4649110499a1393fb.jpg\" alt=\"Modern Romance\" class=\"thumbnail\"></a>\\n                    \\n                \\n            </div>\\n        \\n\\n        \\n            \\n                <p class=\"star-rating Five\">\\n                    <i class=\"icon-star\"></i>\\n                    <i class=\"icon-star\"></i>\\n                    <i class=\"icon-star\"></i>\\n                    <i class=\"icon-star\"></i>\\n                    <i class=\"icon-star\"></i>\\n                </p>\\n            \\n        \\n\\n        \\n            <h3><a href=\"modern-romance_820/index.html\" title=\"Modern Romance\">Modern Romance</a></h3>\\n        \\n\\n        \\n            <div class=\"product_price\">\\n                \\n\\n\\n\\n\\n\\n\\n    \\n        <p class=\"price_color\">Â£28.26</p>\\n    \\n\\n<p class=\"instock availability\">\\n    <i class=\"icon-ok\"></i>\\n    \\n        In stock\\n    \\n</p>\\n\\n                \\n                    \\n\\n\\n\\n\\n\\n\\n    \\n    <form>\\n        <button type=\"submit\" class=\"btn btn-primary btn-block\" data-loading-text=\"Adding...\">Add to basket</button>\\n    </form>\\n\\n\\n                \\n            </div>\\n        \\n    </article>\\n\\n</li>\\n                    \\n                        <li class=\"col-xs-6 col-sm-4 col-md-3 col-lg-3\">\\n\\n\\n\\n\\n\\n\\n    <article class=\"product_pod\">\\n        \\n            <div class=\"image_container\">\\n                \\n                    \\n                    <a href=\"miss-peregrines-home-for-peculiar-children-miss-peregrines-peculiar-children-1_819/index.html\"><img src=\"../media/cache/01/26/01264865c12ed6d987d6f0858cd1d0ba.jpg\" alt=\"Miss Peregrineâ\\x80\\x99s Home for Peculiar Children (Miss Peregrineâ\\x80\\x99s Peculiar Children #1)\" class=\"thumbnail\"></a>\\n                    \\n                \\n            </div>\\n        \\n\\n        \\n            \\n                <p class=\"star-rating One\">\\n                    <i class=\"icon-star\"></i>\\n                    <i class=\"icon-star\"></i>\\n                    <i class=\"icon-star\"></i>\\n                    <i class=\"icon-star\"></i>\\n                    <i class=\"icon-star\"></i>\\n                </p>\\n            \\n        \\n\\n        \\n            <h3><a href=\"miss-peregrines-home-for-peculiar-children-miss-peregrines-peculiar-children-1_819/index.html\" title=\"Miss Peregrineâ\\x80\\x99s Home for Peculiar Children (Miss Peregrineâ\\x80\\x99s Peculiar Children #1)\">Miss Peregrineâ\\x80\\x99s Home for ...</a></h3>\\n        \\n\\n        \\n            <div class=\"product_price\">\\n                \\n\\n\\n\\n\\n\\n\\n    \\n        <p class=\"price_color\">Â£10.76</p>\\n    \\n\\n<p class=\"instock availability\">\\n    <i class=\"icon-ok\"></i>\\n    \\n        In stock\\n    \\n</p>\\n\\n                \\n                    \\n\\n\\n\\n\\n\\n\\n    \\n    <form>\\n        <button type=\"submit\" class=\"btn btn-primary btn-block\" data-loading-text=\"Adding...\">Add to basket</button>\\n    </form>\\n\\n\\n                \\n            </div>\\n        \\n    </article>\\n\\n</li>\\n                    \\n                        <li class=\"col-xs-6 col-sm-4 col-md-3 col-lg-3\">\\n\\n\\n\\n\\n\\n\\n    <article class=\"product_pod\">\\n        \\n            <div class=\"image_container\">\\n                \\n                    \\n                    <a href=\"louisa-the-extraordinary-life-of-mrs-adams_818/index.html\"><img src=\"../media/cache/6f/d9/6fd92e5143cbd5bb8bcf034e5f007dde.jpg\" alt=\"Louisa: The Extraordinary Life of Mrs. Adams\" class=\"thumbnail\"></a>\\n                    \\n                \\n            </div>\\n        \\n\\n        \\n            \\n                <p class=\"star-rating Two\">\\n                    <i class=\"icon-star\"></i>\\n                    <i class=\"icon-star\"></i>\\n                    <i class=\"icon-star\"></i>\\n                    <i class=\"icon-star\"></i>\\n                    <i class=\"icon-star\"></i>\\n                </p>\\n            \\n        \\n\\n        \\n            <h3><a href=\"louisa-the-extraordinary-life-of-mrs-adams_818/index.html\" title=\"Louisa: The Extraordinary Life of Mrs. Adams\">Louisa: The Extraordinary Life ...</a></h3>\\n        \\n\\n        \\n            <div class=\"product_price\">\\n                \\n\\n\\n\\n\\n\\n\\n    \\n        <p class=\"price_color\">Â£16.85</p>\\n    \\n\\n<p class=\"instock availability\">\\n    <i class=\"icon-ok\"></i>\\n    \\n        In stock\\n    \\n</p>\\n\\n                \\n                    \\n\\n\\n\\n\\n\\n\\n    \\n    <form>\\n        <button type=\"submit\" class=\"btn btn-primary btn-block\" data-loading-text=\"Adding...\">Add to basket</button>\\n    </form>\\n\\n\\n                \\n            </div>\\n        \\n    </article>\\n\\n</li>\\n                    \\n                        <li class=\"col-xs-6 col-sm-4 col-md-3 col-lg-3\">\\n\\n\\n\\n\\n\\n\\n    <article class=\"product_pod\">\\n        \\n            <div class=\"image_container\">\\n                \\n                    \\n                    <a href=\"little-red_817/index.html\"><img src=\"../media/cache/80/25/8025b80a40178f2a6dd4f99ad88e0fba.jpg\" alt=\"Little Red\" class=\"thumbnail\"></a>\\n                    \\n                \\n            </div>\\n        \\n\\n        \\n            \\n                <p class=\"star-rating Three\">\\n                    <i class=\"icon-star\"></i>\\n                    <i class=\"icon-star\"></i>\\n                    <i class=\"icon-star\"></i>\\n                    <i class=\"icon-star\"></i>\\n                    <i class=\"icon-star\"></i>\\n                </p>\\n            \\n        \\n\\n        \\n            <h3><a href=\"little-red_817/index.html\" title=\"Little Red\">Little Red</a></h3>\\n        \\n\\n        \\n            <div class=\"product_price\">\\n                \\n\\n\\n\\n\\n\\n\\n    \\n        <p class=\"price_color\">Â£13.47</p>\\n    \\n\\n<p class=\"instock availability\">\\n    <i class=\"icon-ok\"></i>\\n    \\n        In stock\\n    \\n</p>\\n\\n                \\n                    \\n\\n\\n\\n\\n\\n\\n    \\n    <form>\\n        <button type=\"submit\" class=\"btn btn-primary btn-block\" data-loading-text=\"Adding...\">Add to basket</button>\\n    </form>\\n\\n\\n                \\n            </div>\\n        \\n    </article>\\n\\n</li>\\n                    \\n                        <li class=\"col-xs-6 col-sm-4 col-md-3 col-lg-3\">\\n\\n\\n\\n\\n\\n\\n    <article class=\"product_pod\">\\n        \\n            <div class=\"image_container\">\\n                \\n                    \\n                    <a href=\"library-of-souls-miss-peregrines-peculiar-children-3_816/index.html\"><img src=\"../media/cache/f8/54/f85417465a73e33604624205ba8306cc.jpg\" alt=\"Library of Souls (Miss Peregrineâ\\x80\\x99s Peculiar Children #3)\" class=\"thumbnail\"></a>\\n                    \\n                \\n            </div>\\n        \\n\\n        \\n            \\n                <p class=\"star-rating Five\">\\n                    <i class=\"icon-star\"></i>\\n                    <i class=\"icon-star\"></i>\\n                    <i class=\"icon-star\"></i>\\n                    <i class=\"icon-star\"></i>\\n                    <i class=\"icon-star\"></i>\\n                </p>\\n            \\n        \\n\\n        \\n            <h3><a href=\"library-of-souls-miss-peregrines-peculiar-children-3_816/index.html\" title=\"Library of Souls (Miss Peregrineâ\\x80\\x99s Peculiar Children #3)\">Library of Souls (Miss ...</a></h3>\\n        \\n\\n        \\n            <div class=\"product_price\">\\n                \\n\\n\\n\\n\\n\\n\\n    \\n        <p class=\"price_color\">Â£48.56</p>\\n    \\n\\n<p class=\"instock availability\">\\n    <i class=\"icon-ok\"></i>\\n    \\n        In stock\\n    \\n</p>\\n\\n                \\n                    \\n\\n\\n\\n\\n\\n\\n    \\n    <form>\\n        <button type=\"submit\" class=\"btn btn-primary btn-block\" data-loading-text=\"Adding...\">Add to basket</button>\\n    </form>\\n\\n\\n                \\n            </div>\\n        \\n    </article>\\n\\n</li>\\n                    \\n                        <li class=\"col-xs-6 col-sm-4 col-md-3 col-lg-3\">\\n\\n\\n\\n\\n\\n\\n    <article class=\"product_pod\">\\n        \\n            <div class=\"image_container\">\\n                \\n                    \\n                    <a href=\"large-print-heart-of-the-pride_815/index.html\"><img src=\"../media/cache/bd/e9/bde95ab9f776c911a7aa759cad60bb41.jpg\" alt=\"Large Print Heart of the Pride\" class=\"thumbnail\"></a>\\n                    \\n                \\n            </div>\\n        \\n\\n        \\n            \\n                <p class=\"star-rating Two\">\\n                    <i class=\"icon-star\"></i>\\n                    <i class=\"icon-star\"></i>\\n                    <i class=\"icon-star\"></i>\\n                    <i class=\"icon-star\"></i>\\n                    <i class=\"icon-star\"></i>\\n                </p>\\n            \\n        \\n\\n        \\n            <h3><a href=\"large-print-heart-of-the-pride_815/index.html\" title=\"Large Print Heart of the Pride\">Large Print Heart of ...</a></h3>\\n        \\n\\n        \\n            <div class=\"product_price\">\\n                \\n\\n\\n\\n\\n\\n\\n    \\n        <p class=\"price_color\">Â£19.15</p>\\n    \\n\\n<p class=\"instock availability\">\\n    <i class=\"icon-ok\"></i>\\n    \\n        In stock\\n    \\n</p>\\n\\n                \\n                    \\n\\n\\n\\n\\n\\n\\n    \\n    <form>\\n        <button type=\"submit\" class=\"btn btn-primary btn-block\" data-loading-text=\"Adding...\">Add to basket</button>\\n    </form>\\n\\n\\n                \\n            </div>\\n        \\n    </article>\\n\\n</li>\\n                    \\n                        <li class=\"col-xs-6 col-sm-4 col-md-3 col-lg-3\">\\n\\n\\n\\n\\n\\n\\n    <article class=\"product_pod\">\\n        \\n            <div class=\"image_container\">\\n                \\n                    \\n                    <a href=\"i-had-a-nice-time-and-other-lies-how-to-find-love-sht-like-that_814/index.html\"><img src=\"../media/cache/5f/72/5f72c8a0d5a7292e2929a354ec8a022f.jpg\" alt=\"I Had a Nice Time And Other Lies...: How to find love &amp; sh*t like that\" class=\"thumbnail\"></a>\\n                    \\n                \\n            </div>\\n        \\n\\n        \\n            \\n                <p class=\"star-rating Four\">\\n                    <i class=\"icon-star\"></i>\\n                    <i class=\"icon-star\"></i>\\n                    <i class=\"icon-star\"></i>\\n                    <i class=\"icon-star\"></i>\\n                    <i class=\"icon-star\"></i>\\n                </p>\\n            \\n        \\n\\n        \\n            <h3><a href=\"i-had-a-nice-time-and-other-lies-how-to-find-love-sht-like-that_814/index.html\" title=\"I Had a Nice Time And Other Lies...: How to find love &amp; sh*t like that\">I Had a Nice ...</a></h3>\\n        \\n\\n        \\n            <div class=\"product_price\">\\n                \\n\\n\\n\\n\\n\\n\\n    \\n        <p class=\"price_color\">Â£57.36</p>\\n    \\n\\n<p class=\"instock availability\">\\n    <i class=\"icon-ok\"></i>\\n    \\n        In stock\\n    \\n</p>\\n\\n                \\n                    \\n\\n\\n\\n\\n\\n\\n    \\n    <form>\\n        <button type=\"submit\" class=\"btn btn-primary btn-block\" data-loading-text=\"Adding...\">Add to basket</button>\\n    </form>\\n\\n\\n                \\n            </div>\\n        \\n    </article>\\n\\n</li>\\n                    \\n                        <li class=\"col-xs-6 col-sm-4 col-md-3 col-lg-3\">\\n\\n\\n\\n\\n\\n\\n    <article class=\"product_pod\">\\n        \\n            <div class=\"image_container\">\\n                \\n                    \\n                    <a href=\"hollow-city-miss-peregrines-peculiar-children-2_813/index.html\"><img src=\"../media/cache/e2/60/e260b008b7ea7970562295b7bc64b0cb.jpg\" alt=\"Hollow City (Miss Peregrineâ\\x80\\x99s Peculiar Children #2)\" class=\"thumbnail\"></a>\\n                    \\n                \\n            </div>\\n        \\n\\n        \\n            \\n                <p class=\"star-rating One\">\\n                    <i class=\"icon-star\"></i>\\n                    <i class=\"icon-star\"></i>\\n                    <i class=\"icon-star\"></i>\\n                    <i class=\"icon-star\"></i>\\n                    <i class=\"icon-star\"></i>\\n                </p>\\n            \\n        \\n\\n        \\n            <h3><a href=\"hollow-city-miss-peregrines-peculiar-children-2_813/index.html\" title=\"Hollow City (Miss Peregrineâ\\x80\\x99s Peculiar Children #2)\">Hollow City (Miss Peregrineâ\\x80\\x99s ...</a></h3>\\n        \\n\\n        \\n            <div class=\"product_price\">\\n                \\n\\n\\n\\n\\n\\n\\n    \\n        <p class=\"price_color\">Â£42.98</p>\\n    \\n\\n<p class=\"instock availability\">\\n    <i class=\"icon-ok\"></i>\\n    \\n        In stock\\n    \\n</p>\\n\\n                \\n                    \\n\\n\\n\\n\\n\\n\\n    \\n    <form>\\n        <button type=\"submit\" class=\"btn btn-primary btn-block\" data-loading-text=\"Adding...\">Add to basket</button>\\n    </form>\\n\\n\\n                \\n            </div>\\n        \\n    </article>\\n\\n</li>\\n                    \\n                        <li class=\"col-xs-6 col-sm-4 col-md-3 col-lg-3\">\\n\\n\\n\\n\\n\\n\\n    <article class=\"product_pod\">\\n        \\n            <div class=\"image_container\">\\n                \\n                    \\n                    <a href=\"grumbles_812/index.html\"><img src=\"../media/cache/d6/1b/d61b12ef0e69d49e2645537dd6a8472a.jpg\" alt=\"Grumbles\" class=\"thumbnail\"></a>\\n                    \\n                \\n            </div>\\n        \\n\\n        \\n            \\n                <p class=\"star-rating Two\">\\n                    <i class=\"icon-star\"></i>\\n                    <i class=\"icon-star\"></i>\\n                    <i class=\"icon-star\"></i>\\n                    <i class=\"icon-star\"></i>\\n                    <i class=\"icon-star\"></i>\\n                </p>\\n            \\n        \\n\\n        \\n            <h3><a href=\"grumbles_812/index.html\" title=\"Grumbles\">Grumbles</a></h3>\\n        \\n\\n        \\n            <div class=\"product_price\">\\n                \\n\\n\\n\\n\\n\\n\\n    \\n        <p class=\"price_color\">Â£22.16</p>\\n    \\n\\n<p class=\"instock availability\">\\n    <i class=\"icon-ok\"></i>\\n    \\n        In stock\\n    \\n</p>\\n\\n                \\n                    \\n\\n\\n\\n\\n\\n\\n    \\n    <form>\\n        <button type=\"submit\" class=\"btn btn-primary btn-block\" data-loading-text=\"Adding...\">Add to basket</button>\\n    </form>\\n\\n\\n                \\n            </div>\\n        \\n    </article>\\n\\n</li>\\n                    \\n                        <li class=\"col-xs-6 col-sm-4 col-md-3 col-lg-3\">\\n\\n\\n\\n\\n\\n\\n    <article class=\"product_pod\">\\n        \\n            <div class=\"image_container\">\\n                \\n                    \\n                    <a href=\"full-moon-over-noahs-ark-an-odyssey-to-mount-ararat-and-beyond_811/index.html\"><img src=\"../media/cache/57/77/57770cac1628f4407636635f4b85e88c.jpg\" alt=\"Full Moon over Noahâ\\x80\\x99s Ark: An Odyssey to Mount Ararat and Beyond\" class=\"thumbnail\"></a>\\n                    \\n                \\n            </div>\\n        \\n\\n        \\n            \\n                <p class=\"star-rating Four\">\\n                    <i class=\"icon-star\"></i>\\n                    <i class=\"icon-star\"></i>\\n                    <i class=\"icon-star\"></i>\\n                    <i class=\"icon-star\"></i>\\n                    <i class=\"icon-star\"></i>\\n                </p>\\n            \\n        \\n\\n        \\n            <h3><a href=\"full-moon-over-noahs-ark-an-odyssey-to-mount-ararat-and-beyond_811/index.html\" title=\"Full Moon over Noahâ\\x80\\x99s Ark: An Odyssey to Mount Ararat and Beyond\">Full Moon over Noahâ\\x80\\x99s ...</a></h3>\\n        \\n\\n        \\n            <div class=\"product_price\">\\n                \\n\\n\\n\\n\\n\\n\\n    \\n        <p class=\"price_color\">Â£49.43</p>\\n    \\n\\n<p class=\"instock availability\">\\n    <i class=\"icon-ok\"></i>\\n    \\n        In stock\\n    \\n</p>\\n\\n                \\n                    \\n\\n\\n\\n\\n\\n\\n    \\n    <form>\\n        <button type=\"submit\" class=\"btn btn-primary btn-block\" data-loading-text=\"Adding...\">Add to basket</button>\\n    </form>\\n\\n\\n                \\n            </div>\\n        \\n    </article>\\n\\n</li>\\n                    \\n                        <li class=\"col-xs-6 col-sm-4 col-md-3 col-lg-3\">\\n\\n\\n\\n\\n\\n\\n    <article class=\"product_pod\">\\n        \\n            <div class=\"image_container\">\\n                \\n                    \\n                    <a href=\"frostbite-vampire-academy-2_810/index.html\"><img src=\"../media/cache/71/76/7176317f1915fa0658bb2fe400441207.jpg\" alt=\"Frostbite (Vampire Academy #2)\" class=\"thumbnail\"></a>\\n                    \\n                \\n            </div>\\n        \\n\\n        \\n            \\n                <p class=\"star-rating Five\">\\n                    <i class=\"icon-star\"></i>\\n                    <i class=\"icon-star\"></i>\\n                    <i class=\"icon-star\"></i>\\n                    <i class=\"icon-star\"></i>\\n                    <i class=\"icon-star\"></i>\\n                </p>\\n            \\n        \\n\\n        \\n            <h3><a href=\"frostbite-vampire-academy-2_810/index.html\" title=\"Frostbite (Vampire Academy #2)\">Frostbite (Vampire Academy #2)</a></h3>\\n        \\n\\n        \\n            <div class=\"product_price\">\\n                \\n\\n\\n\\n\\n\\n\\n    \\n        <p class=\"price_color\">Â£29.99</p>\\n    \\n\\n<p class=\"instock availability\">\\n    <i class=\"icon-ok\"></i>\\n    \\n        In stock\\n    \\n</p>\\n\\n                \\n                    \\n\\n\\n\\n\\n\\n\\n    \\n    <form>\\n        <button type=\"submit\" class=\"btn btn-primary btn-block\" data-loading-text=\"Adding...\">Add to basket</button>\\n    </form>\\n\\n\\n                \\n            </div>\\n        \\n    </article>\\n\\n</li>\\n                    \\n                        <li class=\"col-xs-6 col-sm-4 col-md-3 col-lg-3\">\\n\\n\\n\\n\\n\\n\\n    <article class=\"product_pod\">\\n        \\n            <div class=\"image_container\">\\n                \\n                    \\n                    <a href=\"follow-you-home_809/index.html\"><img src=\"../media/cache/a7/4b/a74b35375ce874153fd352e33bc7bac9.jpg\" alt=\"Follow You Home\" class=\"thumbnail\"></a>\\n                    \\n                \\n            </div>\\n        \\n\\n        \\n            \\n                <p class=\"star-rating One\">\\n                    <i class=\"icon-star\"></i>\\n                    <i class=\"icon-star\"></i>\\n                    <i class=\"icon-star\"></i>\\n                    <i class=\"icon-star\"></i>\\n                    <i class=\"icon-star\"></i>\\n                </p>\\n            \\n        \\n\\n        \\n            <h3><a href=\"follow-you-home_809/index.html\" title=\"Follow You Home\">Follow You Home</a></h3>\\n        \\n\\n        \\n            <div class=\"product_price\">\\n                \\n\\n\\n\\n\\n\\n\\n    \\n        <p class=\"price_color\">Â£21.36</p>\\n    \\n\\n<p class=\"instock availability\">\\n    <i class=\"icon-ok\"></i>\\n    \\n        In stock\\n    \\n</p>\\n\\n                \\n                    \\n\\n\\n\\n\\n\\n\\n    \\n    <form>\\n        <button type=\"submit\" class=\"btn btn-primary btn-block\" data-loading-text=\"Adding...\">Add to basket</button>\\n    </form>\\n\\n\\n                \\n            </div>\\n        \\n    </article>\\n\\n</li>\\n                    \\n                        <li class=\"col-xs-6 col-sm-4 col-md-3 col-lg-3\">\\n\\n\\n\\n\\n\\n\\n    <article class=\"product_pod\">\\n        \\n            <div class=\"image_container\">\\n                \\n                    \\n                    <a href=\"first-steps-for-new-christians-print-edition_808/index.html\"><img src=\"../media/cache/f1/73/f1731459b1e2f4becf2c52b8f30b8cd7.jpg\" alt=\"First Steps for New Christians (Print Edition)\" class=\"thumbnail\"></a>\\n                    \\n                \\n            </div>\\n        \\n\\n        \\n            \\n                <p class=\"star-rating One\">\\n                    <i class=\"icon-star\"></i>\\n                    <i class=\"icon-star\"></i>\\n                    <i class=\"icon-star\"></i>\\n                    <i class=\"icon-star\"></i>\\n                    <i class=\"icon-star\"></i>\\n                </p>\\n            \\n        \\n\\n        \\n            <h3><a href=\"first-steps-for-new-christians-print-edition_808/index.html\" title=\"First Steps for New Christians (Print Edition)\">First Steps for New ...</a></h3>\\n        \\n\\n        \\n            <div class=\"product_price\">\\n                \\n\\n\\n\\n\\n\\n\\n    \\n        <p class=\"price_color\">Â£29.00</p>\\n    \\n\\n<p class=\"instock availability\">\\n    <i class=\"icon-ok\"></i>\\n    \\n        In stock\\n    \\n</p>\\n\\n                \\n                    \\n\\n\\n\\n\\n\\n\\n    \\n    <form>\\n        <button type=\"submit\" class=\"btn btn-primary btn-block\" data-loading-text=\"Adding...\">Add to basket</button>\\n    </form>\\n\\n\\n                \\n            </div>\\n        \\n    </article>\\n\\n</li>\\n                    \\n                        <li class=\"col-xs-6 col-sm-4 col-md-3 col-lg-3\">\\n\\n\\n\\n\\n\\n\\n    <article class=\"product_pod\">\\n        \\n            <div class=\"image_container\">\\n                \\n                    \\n                    <a href=\"finders-keepers-bill-hodges-trilogy-2_807/index.html\"><img src=\"../media/cache/6a/81/6a81103b1c01a3f6c56e5718a838a4c8.jpg\" alt=\"Finders Keepers (Bill Hodges Trilogy #2)\" class=\"thumbnail\"></a>\\n                    \\n                \\n            </div>\\n        \\n\\n        \\n            \\n                <p class=\"star-rating Five\">\\n                    <i class=\"icon-star\"></i>\\n                    <i class=\"icon-star\"></i>\\n                    <i class=\"icon-star\"></i>\\n                    <i class=\"icon-star\"></i>\\n                    <i class=\"icon-star\"></i>\\n                </p>\\n            \\n        \\n\\n        \\n            <h3><a href=\"finders-keepers-bill-hodges-trilogy-2_807/index.html\" title=\"Finders Keepers (Bill Hodges Trilogy #2)\">Finders Keepers (Bill Hodges ...</a></h3>\\n        \\n\\n        \\n            <div class=\"product_price\">\\n                \\n\\n\\n\\n\\n\\n\\n    \\n        <p class=\"price_color\">Â£53.53</p>\\n    \\n\\n<p class=\"instock availability\">\\n    <i class=\"icon-ok\"></i>\\n    \\n        In stock\\n    \\n</p>\\n\\n                \\n                    \\n\\n\\n\\n\\n\\n\\n    \\n    <form>\\n        <button type=\"submit\" class=\"btn btn-primary btn-block\" data-loading-text=\"Adding...\">Add to basket</button>\\n    </form>\\n\\n\\n                \\n            </div>\\n        \\n    </article>\\n\\n</li>\\n                    \\n                        <li class=\"col-xs-6 col-sm-4 col-md-3 col-lg-3\">\\n\\n\\n\\n\\n\\n\\n    <article class=\"product_pod\">\\n        \\n            <div class=\"image_container\">\\n                \\n                    \\n                    <a href=\"fables-vol-1-legends-in-exile-fables-1_806/index.html\"><img src=\"../media/cache/51/8c/518c184a793b751b43045637c8002eb7.jpg\" alt=\"Fables, Vol. 1: Legends in Exile (Fables #1)\" class=\"thumbnail\"></a>\\n                    \\n                \\n            </div>\\n        \\n\\n        \\n            \\n                <p class=\"star-rating Four\">\\n                    <i class=\"icon-star\"></i>\\n                    <i class=\"icon-star\"></i>\\n                    <i class=\"icon-star\"></i>\\n                    <i class=\"icon-star\"></i>\\n                    <i class=\"icon-star\"></i>\\n                </p>\\n            \\n        \\n\\n        \\n            <h3><a href=\"fables-vol-1-legends-in-exile-fables-1_806/index.html\" title=\"Fables, Vol. 1: Legends in Exile (Fables #1)\">Fables, Vol. 1: Legends ...</a></h3>\\n        \\n\\n        \\n            <div class=\"product_price\">\\n                \\n\\n\\n\\n\\n\\n\\n    \\n        <p class=\"price_color\">Â£41.62</p>\\n    \\n\\n<p class=\"instock availability\">\\n    <i class=\"icon-ok\"></i>\\n    \\n        In stock\\n    \\n</p>\\n\\n                \\n                    \\n\\n\\n\\n\\n\\n\\n    \\n    <form>\\n        <button type=\"submit\" class=\"btn btn-primary btn-block\" data-loading-text=\"Adding...\">Add to basket</button>\\n    </form>\\n\\n\\n                \\n            </div>\\n        \\n    </article>\\n\\n</li>\\n                    \\n                        <li class=\"col-xs-6 col-sm-4 col-md-3 col-lg-3\">\\n\\n\\n\\n\\n\\n\\n    <article class=\"product_pod\">\\n        \\n            <div class=\"image_container\">\\n                \\n                    \\n                    <a href=\"eureka-trivia-60_805/index.html\"><img src=\"../media/cache/96/17/96173470df6fc6fef4d0008e957653ce.jpg\" alt=\"Eureka Trivia 6.0\" class=\"thumbnail\"></a>\\n                    \\n                \\n            </div>\\n        \\n\\n        \\n            \\n                <p class=\"star-rating Four\">\\n                    <i class=\"icon-star\"></i>\\n                    <i class=\"icon-star\"></i>\\n                    <i class=\"icon-star\"></i>\\n                    <i class=\"icon-star\"></i>\\n                    <i class=\"icon-star\"></i>\\n                </p>\\n            \\n        \\n\\n        \\n            <h3><a href=\"eureka-trivia-60_805/index.html\" title=\"Eureka Trivia 6.0\">Eureka Trivia 6.0</a></h3>\\n        \\n\\n        \\n            <div class=\"product_price\">\\n                \\n\\n\\n\\n\\n\\n\\n    \\n        <p class=\"price_color\">Â£54.59</p>\\n    \\n\\n<p class=\"instock availability\">\\n    <i class=\"icon-ok\"></i>\\n    \\n        In stock\\n    \\n</p>\\n\\n                \\n                    \\n\\n\\n\\n\\n\\n\\n    \\n    <form>\\n        <button type=\"submit\" class=\"btn btn-primary btn-block\" data-loading-text=\"Adding...\">Add to basket</button>\\n    </form>\\n\\n\\n                \\n            </div>\\n        \\n    </article>\\n\\n</li>\\n                    \\n                        <li class=\"col-xs-6 col-sm-4 col-md-3 col-lg-3\">\\n\\n\\n\\n\\n\\n\\n    <article class=\"product_pod\">\\n        \\n            <div class=\"image_container\">\\n                \\n                    \\n                    <a href=\"drive-the-surprising-truth-about-what-motivates-us_804/index.html\"><img src=\"../media/cache/8a/49/8a490347afdc10abe7c2099e466de32f.jpg\" alt=\"Drive: The Surprising Truth About What Motivates Us\" class=\"thumbnail\"></a>\\n                    \\n                \\n            </div>\\n        \\n\\n        \\n            \\n                <p class=\"star-rating Four\">\\n                    <i class=\"icon-star\"></i>\\n                    <i class=\"icon-star\"></i>\\n                    <i class=\"icon-star\"></i>\\n                    <i class=\"icon-star\"></i>\\n                    <i class=\"icon-star\"></i>\\n                </p>\\n            \\n        \\n\\n        \\n            <h3><a href=\"drive-the-surprising-truth-about-what-motivates-us_804/index.html\" title=\"Drive: The Surprising Truth About What Motivates Us\">Drive: The Surprising Truth ...</a></h3>\\n        \\n\\n        \\n            <div class=\"product_price\">\\n                \\n\\n\\n\\n\\n\\n\\n    \\n        <p class=\"price_color\">Â£34.95</p>\\n    \\n\\n<p class=\"instock availability\">\\n    <i class=\"icon-ok\"></i>\\n    \\n        In stock\\n    \\n</p>\\n\\n                \\n                    \\n\\n\\n\\n\\n\\n\\n    \\n    <form>\\n        <button type=\"submit\" class=\"btn btn-primary btn-block\" data-loading-text=\"Adding...\">Add to basket</button>\\n    </form>\\n\\n\\n                \\n            </div>\\n        \\n    </article>\\n\\n</li>\\n                    \\n                        <li class=\"col-xs-6 col-sm-4 col-md-3 col-lg-3\">\\n\\n\\n\\n\\n\\n\\n    <article class=\"product_pod\">\\n        \\n            <div class=\"image_container\">\\n                \\n                    \\n                    <a href=\"done-rubbed-out-reightman-bailey-1_803/index.html\"><img src=\"../media/cache/08/4d/084da0199a717cb6c1eda30f98d0ea4c.jpg\" alt=\"Done Rubbed Out (Reightman &amp; Bailey #1)\" class=\"thumbnail\"></a>\\n                    \\n                \\n            </div>\\n        \\n\\n        \\n            \\n                <p class=\"star-rating Five\">\\n                    <i class=\"icon-star\"></i>\\n                    <i class=\"icon-star\"></i>\\n                    <i class=\"icon-star\"></i>\\n                    <i class=\"icon-star\"></i>\\n                    <i class=\"icon-star\"></i>\\n                </p>\\n            \\n        \\n\\n        \\n            <h3><a href=\"done-rubbed-out-reightman-bailey-1_803/index.html\" title=\"Done Rubbed Out (Reightman &amp; Bailey #1)\">Done Rubbed Out (Reightman ...</a></h3>\\n        \\n\\n        \\n            <div class=\"product_price\">\\n                \\n\\n\\n\\n\\n\\n\\n    \\n        <p class=\"price_color\">Â£37.72</p>\\n    \\n\\n<p class=\"instock availability\">\\n    <i class=\"icon-ok\"></i>\\n    \\n        In stock\\n    \\n</p>\\n\\n                \\n                    \\n\\n\\n\\n\\n\\n\\n    \\n    <form>\\n        <button type=\"submit\" class=\"btn btn-primary btn-block\" data-loading-text=\"Adding...\">Add to basket</button>\\n    </form>\\n\\n\\n                \\n            </div>\\n        \\n    </article>\\n\\n</li>\\n                    \\n                        <li class=\"col-xs-6 col-sm-4 col-md-3 col-lg-3\">\\n\\n\\n\\n\\n\\n\\n    <article class=\"product_pod\">\\n        \\n            <div class=\"image_container\">\\n                \\n                    \\n                    <a href=\"doing-it-over-most-likely-to-1_802/index.html\"><img src=\"../media/cache/e9/25/e9250495a525eb203652ad9da85ccb8e.jpg\" alt=\"Doing It Over (Most Likely To #1)\" class=\"thumbnail\"></a>\\n                    \\n                \\n            </div>\\n        \\n\\n        \\n            \\n                <p class=\"star-rating Three\">\\n                    <i class=\"icon-star\"></i>\\n                    <i class=\"icon-star\"></i>\\n                    <i class=\"icon-star\"></i>\\n                    <i class=\"icon-star\"></i>\\n                    <i class=\"icon-star\"></i>\\n                </p>\\n            \\n        \\n\\n        \\n            <h3><a href=\"doing-it-over-most-likely-to-1_802/index.html\" title=\"Doing It Over (Most Likely To #1)\">Doing It Over (Most ...</a></h3>\\n        \\n\\n        \\n            <div class=\"product_price\">\\n                \\n\\n\\n\\n\\n\\n\\n    \\n        <p class=\"price_color\">Â£35.61</p>\\n    \\n\\n<p class=\"instock availability\">\\n    <i class=\"icon-ok\"></i>\\n    \\n        In stock\\n    \\n</p>\\n\\n                \\n                    \\n\\n\\n\\n\\n\\n\\n    \\n    <form>\\n        <button type=\"submit\" class=\"btn btn-primary btn-block\" data-loading-text=\"Adding...\">Add to basket</button>\\n    </form>\\n\\n\\n                \\n            </div>\\n        \\n    </article>\\n\\n</li>\\n                    \\n                        <li class=\"col-xs-6 col-sm-4 col-md-3 col-lg-3\">\\n\\n\\n\\n\\n\\n\\n    <article class=\"product_pod\">\\n        \\n            <div class=\"image_container\">\\n                \\n                    \\n                    <a href=\"deliciously-ella-every-day-quick-and-easy-recipes-for-gluten-free-snacks-packed-lunches-and-simple-meals_801/index.html\"><img src=\"../media/cache/20/f2/20f28657b49f8cb24ed2ec6448bb6df3.jpg\" alt=\"Deliciously Ella Every Day: Quick and Easy Recipes for Gluten-Free Snacks, Packed Lunches, and Simple Meals\" class=\"thumbnail\"></a>\\n                    \\n                \\n            </div>\\n        \\n\\n        \\n            \\n                <p class=\"star-rating Three\">\\n                    <i class=\"icon-star\"></i>\\n                    <i class=\"icon-star\"></i>\\n                    <i class=\"icon-star\"></i>\\n                    <i class=\"icon-star\"></i>\\n                    <i class=\"icon-star\"></i>\\n                </p>\\n            \\n        \\n\\n        \\n            <h3><a href=\"deliciously-ella-every-day-quick-and-easy-recipes-for-gluten-free-snacks-packed-lunches-and-simple-meals_801/index.html\" title=\"Deliciously Ella Every Day: Quick and Easy Recipes for Gluten-Free Snacks, Packed Lunches, and Simple Meals\">Deliciously Ella Every Day: ...</a></h3>\\n        \\n\\n        \\n            <div class=\"product_price\">\\n                \\n\\n\\n\\n\\n\\n\\n    \\n        <p class=\"price_color\">Â£42.16</p>\\n    \\n\\n<p class=\"instock availability\">\\n    <i class=\"icon-ok\"></i>\\n    \\n        In stock\\n    \\n</p>\\n\\n                \\n                    \\n\\n\\n\\n\\n\\n\\n    \\n    <form>\\n        <button type=\"submit\" class=\"btn btn-primary btn-block\" data-loading-text=\"Adding...\">Add to basket</button>\\n    </form>\\n\\n\\n                \\n            </div>\\n        \\n    </article>\\n\\n</li>\\n                    \\n                </ol>\\n                \\n\\n\\n\\n    <div>\\n        <ul class=\"pager\">\\n            \\n                <li class=\"previous\"><a href=\"page-9.html\">previous</a></li>\\n            \\n            <li class=\"current\">\\n            \\n                Page 10 of 50\\n            \\n            </li>\\n            \\n                <li class=\"next\"><a href=\"page-11.html\">next</a></li>\\n            \\n        </ul>\\n    </div>\\n\\n\\n            </div>\\n        </section>\\n    \\n\\n\\n            </div>\\n\\n        </div><!-- /row -->\\n    </div><!-- /page_inner -->\\n</div><!-- /container-fluid -->\\n\\n\\n    \\n<footer class=\"footer container-fluid\">\\n    \\n        \\n    \\n</footer>\\n\\n\\n        \\n        \\n  \\n            <!-- jQuery -->\\n            <script src=\"http://ajax.googleapis.com/ajax/libs/jquery/1.9.1/jquery.min.js\"></script>\\n            <script>window.jQuery || document.write(\\'<script src=\"../static/oscar/js/jquery/jquery-1.9.1.min.js\"><\\\\/script>\\')</script>\\n        \\n  \\n\\n\\n        \\n        \\n    \\n        \\n    <!-- Twitter Bootstrap -->\\n    <script type=\"text/javascript\" src=\"../static/oscar/js/bootstrap3/bootstrap.min.js\"></script>\\n    <!-- Oscar -->\\n    <script src=\"../static/oscar/js/oscar/ui.js\" type=\"text/javascript\" charset=\"utf-8\"></script>\\n\\n    <script src=\"../static/oscar/js/bootstrap-datetimepicker/bootstrap-datetimepicker.js\" type=\"text/javascript\" charset=\"utf-8\"></script>\\n    <script src=\"../static/oscar/js/bootstrap-datetimepicker/locales/bootstrap-datetimepicker.all.js\" type=\"text/javascript\" charset=\"utf-8\"></script>\\n\\n\\n        \\n        \\n    \\n\\n    \\n\\n\\n        \\n        <script type=\"text/javascript\">\\n            $(function() {\\n                \\n    \\n    \\n    oscar.init();\\n\\n    oscar.search.init();\\n\\n            });\\n        </script>\\n\\n        \\n        <!-- Version: N/A -->\\n        \\n    </body>\\n</html>\\n'"
      ]
     },
     "execution_count": 26,
     "metadata": {},
     "output_type": "execute_result"
    }
   ],
   "source": [
    "result=requests.get(base_url.format(pag_num))\n",
    "result.text"
   ]
  },
  {
   "cell_type": "code",
   "execution_count": null,
   "id": "6864251d",
   "metadata": {},
   "outputs": [],
   "source": []
  },
  {
   "cell_type": "code",
   "execution_count": 27,
   "id": "aa4bdb03",
   "metadata": {},
   "outputs": [
    {
     "data": {
      "text/plain": [
       "<!DOCTYPE html>\n",
       "<!--[if lt IE 7]>      <html lang=\"en-us\" class=\"no-js lt-ie9 lt-ie8 lt-ie7\"> <![endif]--><!--[if IE 7]>         <html lang=\"en-us\" class=\"no-js lt-ie9 lt-ie8\"> <![endif]--><!--[if IE 8]>         <html lang=\"en-us\" class=\"no-js lt-ie9\"> <![endif]--><!--[if gt IE 8]><!--><html class=\"no-js\" lang=\"en-us\"> <!--<![endif]-->\n",
       "<head>\n",
       "<title>\n",
       "    All products | Books to Scrape - Sandbox\n",
       "</title>\n",
       "<meta content=\"text/html; charset=utf-8\" http-equiv=\"content-type\"/>\n",
       "<meta content=\"24th Jun 2016 09:32\" name=\"created\"/>\n",
       "<meta content=\"\" name=\"description\"/>\n",
       "<meta content=\"width=device-width\" name=\"viewport\"/>\n",
       "<meta content=\"NOARCHIVE,NOCACHE\" name=\"robots\"/>\n",
       "<!-- Le HTML5 shim, for IE6-8 support of HTML elements -->\n",
       "<!--[if lt IE 9]>\n",
       "        <script src=\"//html5shim.googlecode.com/svn/trunk/html5.js\"></script>\n",
       "        <![endif]-->\n",
       "<link href=\"../static/oscar/favicon.ico\" rel=\"shortcut icon\"/>\n",
       "<link href=\"../static/oscar/css/styles.css\" rel=\"stylesheet\" type=\"text/css\"/>\n",
       "<link href=\"../static/oscar/js/bootstrap-datetimepicker/bootstrap-datetimepicker.css\" rel=\"stylesheet\"/>\n",
       "<link href=\"../static/oscar/css/datetimepicker.css\" rel=\"stylesheet\" type=\"text/css\"/>\n",
       "</head>\n",
       "<body class=\"default\" id=\"default\">\n",
       "<header class=\"header container-fluid\">\n",
       "<div class=\"page_inner\">\n",
       "<div class=\"row\">\n",
       "<div class=\"col-sm-8 h1\"><a href=\"../index.html\">Books to Scrape</a><small> We love being scraped!</small>\n",
       "</div>\n",
       "</div>\n",
       "</div>\n",
       "</header>\n",
       "<div class=\"container-fluid page\">\n",
       "<div class=\"page_inner\">\n",
       "<ul class=\"breadcrumb\">\n",
       "<li>\n",
       "<a href=\"../index.html\">Home</a>\n",
       "</li>\n",
       "<li class=\"active\">All products</li>\n",
       "</ul>\n",
       "<div class=\"row\">\n",
       "<aside class=\"sidebar col-sm-4 col-md-3\">\n",
       "<div id=\"promotions_left\">\n",
       "</div>\n",
       "<div class=\"side_categories\">\n",
       "<ul class=\"nav nav-list\">\n",
       "<li>\n",
       "<a href=\"category/books_1/index.html\">\n",
       "                            \n",
       "                                Books\n",
       "                            \n",
       "                        </a>\n",
       "<ul>\n",
       "<li>\n",
       "<a href=\"category/books/travel_2/index.html\">\n",
       "                            \n",
       "                                Travel\n",
       "                            \n",
       "                        </a>\n",
       "</li>\n",
       "<li>\n",
       "<a href=\"category/books/mystery_3/index.html\">\n",
       "                            \n",
       "                                Mystery\n",
       "                            \n",
       "                        </a>\n",
       "</li>\n",
       "<li>\n",
       "<a href=\"category/books/historical-fiction_4/index.html\">\n",
       "                            \n",
       "                                Historical Fiction\n",
       "                            \n",
       "                        </a>\n",
       "</li>\n",
       "<li>\n",
       "<a href=\"category/books/sequential-art_5/index.html\">\n",
       "                            \n",
       "                                Sequential Art\n",
       "                            \n",
       "                        </a>\n",
       "</li>\n",
       "<li>\n",
       "<a href=\"category/books/classics_6/index.html\">\n",
       "                            \n",
       "                                Classics\n",
       "                            \n",
       "                        </a>\n",
       "</li>\n",
       "<li>\n",
       "<a href=\"category/books/philosophy_7/index.html\">\n",
       "                            \n",
       "                                Philosophy\n",
       "                            \n",
       "                        </a>\n",
       "</li>\n",
       "<li>\n",
       "<a href=\"category/books/romance_8/index.html\">\n",
       "                            \n",
       "                                Romance\n",
       "                            \n",
       "                        </a>\n",
       "</li>\n",
       "<li>\n",
       "<a href=\"category/books/womens-fiction_9/index.html\">\n",
       "                            \n",
       "                                Womens Fiction\n",
       "                            \n",
       "                        </a>\n",
       "</li>\n",
       "<li>\n",
       "<a href=\"category/books/fiction_10/index.html\">\n",
       "                            \n",
       "                                Fiction\n",
       "                            \n",
       "                        </a>\n",
       "</li>\n",
       "<li>\n",
       "<a href=\"category/books/childrens_11/index.html\">\n",
       "                            \n",
       "                                Childrens\n",
       "                            \n",
       "                        </a>\n",
       "</li>\n",
       "<li>\n",
       "<a href=\"category/books/religion_12/index.html\">\n",
       "                            \n",
       "                                Religion\n",
       "                            \n",
       "                        </a>\n",
       "</li>\n",
       "<li>\n",
       "<a href=\"category/books/nonfiction_13/index.html\">\n",
       "                            \n",
       "                                Nonfiction\n",
       "                            \n",
       "                        </a>\n",
       "</li>\n",
       "<li>\n",
       "<a href=\"category/books/music_14/index.html\">\n",
       "                            \n",
       "                                Music\n",
       "                            \n",
       "                        </a>\n",
       "</li>\n",
       "<li>\n",
       "<a href=\"category/books/default_15/index.html\">\n",
       "                            \n",
       "                                Default\n",
       "                            \n",
       "                        </a>\n",
       "</li>\n",
       "<li>\n",
       "<a href=\"category/books/science-fiction_16/index.html\">\n",
       "                            \n",
       "                                Science Fiction\n",
       "                            \n",
       "                        </a>\n",
       "</li>\n",
       "<li>\n",
       "<a href=\"category/books/sports-and-games_17/index.html\">\n",
       "                            \n",
       "                                Sports and Games\n",
       "                            \n",
       "                        </a>\n",
       "</li>\n",
       "<li>\n",
       "<a href=\"category/books/add-a-comment_18/index.html\">\n",
       "                            \n",
       "                                Add a comment\n",
       "                            \n",
       "                        </a>\n",
       "</li>\n",
       "<li>\n",
       "<a href=\"category/books/fantasy_19/index.html\">\n",
       "                            \n",
       "                                Fantasy\n",
       "                            \n",
       "                        </a>\n",
       "</li>\n",
       "<li>\n",
       "<a href=\"category/books/new-adult_20/index.html\">\n",
       "                            \n",
       "                                New Adult\n",
       "                            \n",
       "                        </a>\n",
       "</li>\n",
       "<li>\n",
       "<a href=\"category/books/young-adult_21/index.html\">\n",
       "                            \n",
       "                                Young Adult\n",
       "                            \n",
       "                        </a>\n",
       "</li>\n",
       "<li>\n",
       "<a href=\"category/books/science_22/index.html\">\n",
       "                            \n",
       "                                Science\n",
       "                            \n",
       "                        </a>\n",
       "</li>\n",
       "<li>\n",
       "<a href=\"category/books/poetry_23/index.html\">\n",
       "                            \n",
       "                                Poetry\n",
       "                            \n",
       "                        </a>\n",
       "</li>\n",
       "<li>\n",
       "<a href=\"category/books/paranormal_24/index.html\">\n",
       "                            \n",
       "                                Paranormal\n",
       "                            \n",
       "                        </a>\n",
       "</li>\n",
       "<li>\n",
       "<a href=\"category/books/art_25/index.html\">\n",
       "                            \n",
       "                                Art\n",
       "                            \n",
       "                        </a>\n",
       "</li>\n",
       "<li>\n",
       "<a href=\"category/books/psychology_26/index.html\">\n",
       "                            \n",
       "                                Psychology\n",
       "                            \n",
       "                        </a>\n",
       "</li>\n",
       "<li>\n",
       "<a href=\"category/books/autobiography_27/index.html\">\n",
       "                            \n",
       "                                Autobiography\n",
       "                            \n",
       "                        </a>\n",
       "</li>\n",
       "<li>\n",
       "<a href=\"category/books/parenting_28/index.html\">\n",
       "                            \n",
       "                                Parenting\n",
       "                            \n",
       "                        </a>\n",
       "</li>\n",
       "<li>\n",
       "<a href=\"category/books/adult-fiction_29/index.html\">\n",
       "                            \n",
       "                                Adult Fiction\n",
       "                            \n",
       "                        </a>\n",
       "</li>\n",
       "<li>\n",
       "<a href=\"category/books/humor_30/index.html\">\n",
       "                            \n",
       "                                Humor\n",
       "                            \n",
       "                        </a>\n",
       "</li>\n",
       "<li>\n",
       "<a href=\"category/books/horror_31/index.html\">\n",
       "                            \n",
       "                                Horror\n",
       "                            \n",
       "                        </a>\n",
       "</li>\n",
       "<li>\n",
       "<a href=\"category/books/history_32/index.html\">\n",
       "                            \n",
       "                                History\n",
       "                            \n",
       "                        </a>\n",
       "</li>\n",
       "<li>\n",
       "<a href=\"category/books/food-and-drink_33/index.html\">\n",
       "                            \n",
       "                                Food and Drink\n",
       "                            \n",
       "                        </a>\n",
       "</li>\n",
       "<li>\n",
       "<a href=\"category/books/christian-fiction_34/index.html\">\n",
       "                            \n",
       "                                Christian Fiction\n",
       "                            \n",
       "                        </a>\n",
       "</li>\n",
       "<li>\n",
       "<a href=\"category/books/business_35/index.html\">\n",
       "                            \n",
       "                                Business\n",
       "                            \n",
       "                        </a>\n",
       "</li>\n",
       "<li>\n",
       "<a href=\"category/books/biography_36/index.html\">\n",
       "                            \n",
       "                                Biography\n",
       "                            \n",
       "                        </a>\n",
       "</li>\n",
       "<li>\n",
       "<a href=\"category/books/thriller_37/index.html\">\n",
       "                            \n",
       "                                Thriller\n",
       "                            \n",
       "                        </a>\n",
       "</li>\n",
       "<li>\n",
       "<a href=\"category/books/contemporary_38/index.html\">\n",
       "                            \n",
       "                                Contemporary\n",
       "                            \n",
       "                        </a>\n",
       "</li>\n",
       "<li>\n",
       "<a href=\"category/books/spirituality_39/index.html\">\n",
       "                            \n",
       "                                Spirituality\n",
       "                            \n",
       "                        </a>\n",
       "</li>\n",
       "<li>\n",
       "<a href=\"category/books/academic_40/index.html\">\n",
       "                            \n",
       "                                Academic\n",
       "                            \n",
       "                        </a>\n",
       "</li>\n",
       "<li>\n",
       "<a href=\"category/books/self-help_41/index.html\">\n",
       "                            \n",
       "                                Self Help\n",
       "                            \n",
       "                        </a>\n",
       "</li>\n",
       "<li>\n",
       "<a href=\"category/books/historical_42/index.html\">\n",
       "                            \n",
       "                                Historical\n",
       "                            \n",
       "                        </a>\n",
       "</li>\n",
       "<li>\n",
       "<a href=\"category/books/christian_43/index.html\">\n",
       "                            \n",
       "                                Christian\n",
       "                            \n",
       "                        </a>\n",
       "</li>\n",
       "<li>\n",
       "<a href=\"category/books/suspense_44/index.html\">\n",
       "                            \n",
       "                                Suspense\n",
       "                            \n",
       "                        </a>\n",
       "</li>\n",
       "<li>\n",
       "<a href=\"category/books/short-stories_45/index.html\">\n",
       "                            \n",
       "                                Short Stories\n",
       "                            \n",
       "                        </a>\n",
       "</li>\n",
       "<li>\n",
       "<a href=\"category/books/novels_46/index.html\">\n",
       "                            \n",
       "                                Novels\n",
       "                            \n",
       "                        </a>\n",
       "</li>\n",
       "<li>\n",
       "<a href=\"category/books/health_47/index.html\">\n",
       "                            \n",
       "                                Health\n",
       "                            \n",
       "                        </a>\n",
       "</li>\n",
       "<li>\n",
       "<a href=\"category/books/politics_48/index.html\">\n",
       "                            \n",
       "                                Politics\n",
       "                            \n",
       "                        </a>\n",
       "</li>\n",
       "<li>\n",
       "<a href=\"category/books/cultural_49/index.html\">\n",
       "                            \n",
       "                                Cultural\n",
       "                            \n",
       "                        </a>\n",
       "</li>\n",
       "<li>\n",
       "<a href=\"category/books/erotica_50/index.html\">\n",
       "                            \n",
       "                                Erotica\n",
       "                            \n",
       "                        </a>\n",
       "</li>\n",
       "<li>\n",
       "<a href=\"category/books/crime_51/index.html\">\n",
       "                            \n",
       "                                Crime\n",
       "                            \n",
       "                        </a>\n",
       "</li>\n",
       "</ul></li>\n",
       "</ul>\n",
       "</div>\n",
       "</aside>\n",
       "<div class=\"col-sm-8 col-md-9\">\n",
       "<div class=\"page-header action\">\n",
       "<h1>All products</h1>\n",
       "</div>\n",
       "<div id=\"messages\">\n",
       "</div>\n",
       "<div id=\"promotions\">\n",
       "</div>\n",
       "<form class=\"form-horizontal\" method=\"get\">\n",
       "<div style=\"display:none\">\n",
       "</div>\n",
       "<strong>1000</strong> results - showing <strong>181</strong> to <strong>200</strong>.\n",
       "                \n",
       "            \n",
       "            \n",
       "        \n",
       "    </form>\n",
       "<section>\n",
       "<div class=\"alert alert-warning\" role=\"alert\"><strong>Warning!</strong> This is a demo website for web scraping purposes. Prices and ratings here were randomly assigned and have no real meaning.</div>\n",
       "<div>\n",
       "<ol class=\"row\">\n",
       "<li class=\"col-xs-6 col-sm-4 col-md-3 col-lg-3\">\n",
       "<article class=\"product_pod\">\n",
       "<div class=\"image_container\">\n",
       "<a href=\"modern-romance_820/index.html\"><img alt=\"Modern Romance\" class=\"thumbnail\" src=\"../media/cache/28/78/2878538a1039d9c4649110499a1393fb.jpg\"/></a>\n",
       "</div>\n",
       "<p class=\"star-rating Five\">\n",
       "<i class=\"icon-star\"></i>\n",
       "<i class=\"icon-star\"></i>\n",
       "<i class=\"icon-star\"></i>\n",
       "<i class=\"icon-star\"></i>\n",
       "<i class=\"icon-star\"></i>\n",
       "</p>\n",
       "<h3><a href=\"modern-romance_820/index.html\" title=\"Modern Romance\">Modern Romance</a></h3>\n",
       "<div class=\"product_price\">\n",
       "<p class=\"price_color\">Â£28.26</p>\n",
       "<p class=\"instock availability\">\n",
       "<i class=\"icon-ok\"></i>\n",
       "    \n",
       "        In stock\n",
       "    \n",
       "</p>\n",
       "<form>\n",
       "<button class=\"btn btn-primary btn-block\" data-loading-text=\"Adding...\" type=\"submit\">Add to basket</button>\n",
       "</form>\n",
       "</div>\n",
       "</article>\n",
       "</li>\n",
       "<li class=\"col-xs-6 col-sm-4 col-md-3 col-lg-3\">\n",
       "<article class=\"product_pod\">\n",
       "<div class=\"image_container\">\n",
       "<a href=\"miss-peregrines-home-for-peculiar-children-miss-peregrines-peculiar-children-1_819/index.html\"><img alt=\"Miss Peregrineâs Home for Peculiar Children (Miss Peregrineâs Peculiar Children #1)\" class=\"thumbnail\" src=\"../media/cache/01/26/01264865c12ed6d987d6f0858cd1d0ba.jpg\"/></a>\n",
       "</div>\n",
       "<p class=\"star-rating One\">\n",
       "<i class=\"icon-star\"></i>\n",
       "<i class=\"icon-star\"></i>\n",
       "<i class=\"icon-star\"></i>\n",
       "<i class=\"icon-star\"></i>\n",
       "<i class=\"icon-star\"></i>\n",
       "</p>\n",
       "<h3><a href=\"miss-peregrines-home-for-peculiar-children-miss-peregrines-peculiar-children-1_819/index.html\" title=\"Miss Peregrineâs Home for Peculiar Children (Miss Peregrineâs Peculiar Children #1)\">Miss Peregrineâs Home for ...</a></h3>\n",
       "<div class=\"product_price\">\n",
       "<p class=\"price_color\">Â£10.76</p>\n",
       "<p class=\"instock availability\">\n",
       "<i class=\"icon-ok\"></i>\n",
       "    \n",
       "        In stock\n",
       "    \n",
       "</p>\n",
       "<form>\n",
       "<button class=\"btn btn-primary btn-block\" data-loading-text=\"Adding...\" type=\"submit\">Add to basket</button>\n",
       "</form>\n",
       "</div>\n",
       "</article>\n",
       "</li>\n",
       "<li class=\"col-xs-6 col-sm-4 col-md-3 col-lg-3\">\n",
       "<article class=\"product_pod\">\n",
       "<div class=\"image_container\">\n",
       "<a href=\"louisa-the-extraordinary-life-of-mrs-adams_818/index.html\"><img alt=\"Louisa: The Extraordinary Life of Mrs. Adams\" class=\"thumbnail\" src=\"../media/cache/6f/d9/6fd92e5143cbd5bb8bcf034e5f007dde.jpg\"/></a>\n",
       "</div>\n",
       "<p class=\"star-rating Two\">\n",
       "<i class=\"icon-star\"></i>\n",
       "<i class=\"icon-star\"></i>\n",
       "<i class=\"icon-star\"></i>\n",
       "<i class=\"icon-star\"></i>\n",
       "<i class=\"icon-star\"></i>\n",
       "</p>\n",
       "<h3><a href=\"louisa-the-extraordinary-life-of-mrs-adams_818/index.html\" title=\"Louisa: The Extraordinary Life of Mrs. Adams\">Louisa: The Extraordinary Life ...</a></h3>\n",
       "<div class=\"product_price\">\n",
       "<p class=\"price_color\">Â£16.85</p>\n",
       "<p class=\"instock availability\">\n",
       "<i class=\"icon-ok\"></i>\n",
       "    \n",
       "        In stock\n",
       "    \n",
       "</p>\n",
       "<form>\n",
       "<button class=\"btn btn-primary btn-block\" data-loading-text=\"Adding...\" type=\"submit\">Add to basket</button>\n",
       "</form>\n",
       "</div>\n",
       "</article>\n",
       "</li>\n",
       "<li class=\"col-xs-6 col-sm-4 col-md-3 col-lg-3\">\n",
       "<article class=\"product_pod\">\n",
       "<div class=\"image_container\">\n",
       "<a href=\"little-red_817/index.html\"><img alt=\"Little Red\" class=\"thumbnail\" src=\"../media/cache/80/25/8025b80a40178f2a6dd4f99ad88e0fba.jpg\"/></a>\n",
       "</div>\n",
       "<p class=\"star-rating Three\">\n",
       "<i class=\"icon-star\"></i>\n",
       "<i class=\"icon-star\"></i>\n",
       "<i class=\"icon-star\"></i>\n",
       "<i class=\"icon-star\"></i>\n",
       "<i class=\"icon-star\"></i>\n",
       "</p>\n",
       "<h3><a href=\"little-red_817/index.html\" title=\"Little Red\">Little Red</a></h3>\n",
       "<div class=\"product_price\">\n",
       "<p class=\"price_color\">Â£13.47</p>\n",
       "<p class=\"instock availability\">\n",
       "<i class=\"icon-ok\"></i>\n",
       "    \n",
       "        In stock\n",
       "    \n",
       "</p>\n",
       "<form>\n",
       "<button class=\"btn btn-primary btn-block\" data-loading-text=\"Adding...\" type=\"submit\">Add to basket</button>\n",
       "</form>\n",
       "</div>\n",
       "</article>\n",
       "</li>\n",
       "<li class=\"col-xs-6 col-sm-4 col-md-3 col-lg-3\">\n",
       "<article class=\"product_pod\">\n",
       "<div class=\"image_container\">\n",
       "<a href=\"library-of-souls-miss-peregrines-peculiar-children-3_816/index.html\"><img alt=\"Library of Souls (Miss Peregrineâs Peculiar Children #3)\" class=\"thumbnail\" src=\"../media/cache/f8/54/f85417465a73e33604624205ba8306cc.jpg\"/></a>\n",
       "</div>\n",
       "<p class=\"star-rating Five\">\n",
       "<i class=\"icon-star\"></i>\n",
       "<i class=\"icon-star\"></i>\n",
       "<i class=\"icon-star\"></i>\n",
       "<i class=\"icon-star\"></i>\n",
       "<i class=\"icon-star\"></i>\n",
       "</p>\n",
       "<h3><a href=\"library-of-souls-miss-peregrines-peculiar-children-3_816/index.html\" title=\"Library of Souls (Miss Peregrineâs Peculiar Children #3)\">Library of Souls (Miss ...</a></h3>\n",
       "<div class=\"product_price\">\n",
       "<p class=\"price_color\">Â£48.56</p>\n",
       "<p class=\"instock availability\">\n",
       "<i class=\"icon-ok\"></i>\n",
       "    \n",
       "        In stock\n",
       "    \n",
       "</p>\n",
       "<form>\n",
       "<button class=\"btn btn-primary btn-block\" data-loading-text=\"Adding...\" type=\"submit\">Add to basket</button>\n",
       "</form>\n",
       "</div>\n",
       "</article>\n",
       "</li>\n",
       "<li class=\"col-xs-6 col-sm-4 col-md-3 col-lg-3\">\n",
       "<article class=\"product_pod\">\n",
       "<div class=\"image_container\">\n",
       "<a href=\"large-print-heart-of-the-pride_815/index.html\"><img alt=\"Large Print Heart of the Pride\" class=\"thumbnail\" src=\"../media/cache/bd/e9/bde95ab9f776c911a7aa759cad60bb41.jpg\"/></a>\n",
       "</div>\n",
       "<p class=\"star-rating Two\">\n",
       "<i class=\"icon-star\"></i>\n",
       "<i class=\"icon-star\"></i>\n",
       "<i class=\"icon-star\"></i>\n",
       "<i class=\"icon-star\"></i>\n",
       "<i class=\"icon-star\"></i>\n",
       "</p>\n",
       "<h3><a href=\"large-print-heart-of-the-pride_815/index.html\" title=\"Large Print Heart of the Pride\">Large Print Heart of ...</a></h3>\n",
       "<div class=\"product_price\">\n",
       "<p class=\"price_color\">Â£19.15</p>\n",
       "<p class=\"instock availability\">\n",
       "<i class=\"icon-ok\"></i>\n",
       "    \n",
       "        In stock\n",
       "    \n",
       "</p>\n",
       "<form>\n",
       "<button class=\"btn btn-primary btn-block\" data-loading-text=\"Adding...\" type=\"submit\">Add to basket</button>\n",
       "</form>\n",
       "</div>\n",
       "</article>\n",
       "</li>\n",
       "<li class=\"col-xs-6 col-sm-4 col-md-3 col-lg-3\">\n",
       "<article class=\"product_pod\">\n",
       "<div class=\"image_container\">\n",
       "<a href=\"i-had-a-nice-time-and-other-lies-how-to-find-love-sht-like-that_814/index.html\"><img alt=\"I Had a Nice Time And Other Lies...: How to find love &amp; sh*t like that\" class=\"thumbnail\" src=\"../media/cache/5f/72/5f72c8a0d5a7292e2929a354ec8a022f.jpg\"/></a>\n",
       "</div>\n",
       "<p class=\"star-rating Four\">\n",
       "<i class=\"icon-star\"></i>\n",
       "<i class=\"icon-star\"></i>\n",
       "<i class=\"icon-star\"></i>\n",
       "<i class=\"icon-star\"></i>\n",
       "<i class=\"icon-star\"></i>\n",
       "</p>\n",
       "<h3><a href=\"i-had-a-nice-time-and-other-lies-how-to-find-love-sht-like-that_814/index.html\" title=\"I Had a Nice Time And Other Lies...: How to find love &amp; sh*t like that\">I Had a Nice ...</a></h3>\n",
       "<div class=\"product_price\">\n",
       "<p class=\"price_color\">Â£57.36</p>\n",
       "<p class=\"instock availability\">\n",
       "<i class=\"icon-ok\"></i>\n",
       "    \n",
       "        In stock\n",
       "    \n",
       "</p>\n",
       "<form>\n",
       "<button class=\"btn btn-primary btn-block\" data-loading-text=\"Adding...\" type=\"submit\">Add to basket</button>\n",
       "</form>\n",
       "</div>\n",
       "</article>\n",
       "</li>\n",
       "<li class=\"col-xs-6 col-sm-4 col-md-3 col-lg-3\">\n",
       "<article class=\"product_pod\">\n",
       "<div class=\"image_container\">\n",
       "<a href=\"hollow-city-miss-peregrines-peculiar-children-2_813/index.html\"><img alt=\"Hollow City (Miss Peregrineâs Peculiar Children #2)\" class=\"thumbnail\" src=\"../media/cache/e2/60/e260b008b7ea7970562295b7bc64b0cb.jpg\"/></a>\n",
       "</div>\n",
       "<p class=\"star-rating One\">\n",
       "<i class=\"icon-star\"></i>\n",
       "<i class=\"icon-star\"></i>\n",
       "<i class=\"icon-star\"></i>\n",
       "<i class=\"icon-star\"></i>\n",
       "<i class=\"icon-star\"></i>\n",
       "</p>\n",
       "<h3><a href=\"hollow-city-miss-peregrines-peculiar-children-2_813/index.html\" title=\"Hollow City (Miss Peregrineâs Peculiar Children #2)\">Hollow City (Miss Peregrineâs ...</a></h3>\n",
       "<div class=\"product_price\">\n",
       "<p class=\"price_color\">Â£42.98</p>\n",
       "<p class=\"instock availability\">\n",
       "<i class=\"icon-ok\"></i>\n",
       "    \n",
       "        In stock\n",
       "    \n",
       "</p>\n",
       "<form>\n",
       "<button class=\"btn btn-primary btn-block\" data-loading-text=\"Adding...\" type=\"submit\">Add to basket</button>\n",
       "</form>\n",
       "</div>\n",
       "</article>\n",
       "</li>\n",
       "<li class=\"col-xs-6 col-sm-4 col-md-3 col-lg-3\">\n",
       "<article class=\"product_pod\">\n",
       "<div class=\"image_container\">\n",
       "<a href=\"grumbles_812/index.html\"><img alt=\"Grumbles\" class=\"thumbnail\" src=\"../media/cache/d6/1b/d61b12ef0e69d49e2645537dd6a8472a.jpg\"/></a>\n",
       "</div>\n",
       "<p class=\"star-rating Two\">\n",
       "<i class=\"icon-star\"></i>\n",
       "<i class=\"icon-star\"></i>\n",
       "<i class=\"icon-star\"></i>\n",
       "<i class=\"icon-star\"></i>\n",
       "<i class=\"icon-star\"></i>\n",
       "</p>\n",
       "<h3><a href=\"grumbles_812/index.html\" title=\"Grumbles\">Grumbles</a></h3>\n",
       "<div class=\"product_price\">\n",
       "<p class=\"price_color\">Â£22.16</p>\n",
       "<p class=\"instock availability\">\n",
       "<i class=\"icon-ok\"></i>\n",
       "    \n",
       "        In stock\n",
       "    \n",
       "</p>\n",
       "<form>\n",
       "<button class=\"btn btn-primary btn-block\" data-loading-text=\"Adding...\" type=\"submit\">Add to basket</button>\n",
       "</form>\n",
       "</div>\n",
       "</article>\n",
       "</li>\n",
       "<li class=\"col-xs-6 col-sm-4 col-md-3 col-lg-3\">\n",
       "<article class=\"product_pod\">\n",
       "<div class=\"image_container\">\n",
       "<a href=\"full-moon-over-noahs-ark-an-odyssey-to-mount-ararat-and-beyond_811/index.html\"><img alt=\"Full Moon over Noahâs Ark: An Odyssey to Mount Ararat and Beyond\" class=\"thumbnail\" src=\"../media/cache/57/77/57770cac1628f4407636635f4b85e88c.jpg\"/></a>\n",
       "</div>\n",
       "<p class=\"star-rating Four\">\n",
       "<i class=\"icon-star\"></i>\n",
       "<i class=\"icon-star\"></i>\n",
       "<i class=\"icon-star\"></i>\n",
       "<i class=\"icon-star\"></i>\n",
       "<i class=\"icon-star\"></i>\n",
       "</p>\n",
       "<h3><a href=\"full-moon-over-noahs-ark-an-odyssey-to-mount-ararat-and-beyond_811/index.html\" title=\"Full Moon over Noahâs Ark: An Odyssey to Mount Ararat and Beyond\">Full Moon over Noahâs ...</a></h3>\n",
       "<div class=\"product_price\">\n",
       "<p class=\"price_color\">Â£49.43</p>\n",
       "<p class=\"instock availability\">\n",
       "<i class=\"icon-ok\"></i>\n",
       "    \n",
       "        In stock\n",
       "    \n",
       "</p>\n",
       "<form>\n",
       "<button class=\"btn btn-primary btn-block\" data-loading-text=\"Adding...\" type=\"submit\">Add to basket</button>\n",
       "</form>\n",
       "</div>\n",
       "</article>\n",
       "</li>\n",
       "<li class=\"col-xs-6 col-sm-4 col-md-3 col-lg-3\">\n",
       "<article class=\"product_pod\">\n",
       "<div class=\"image_container\">\n",
       "<a href=\"frostbite-vampire-academy-2_810/index.html\"><img alt=\"Frostbite (Vampire Academy #2)\" class=\"thumbnail\" src=\"../media/cache/71/76/7176317f1915fa0658bb2fe400441207.jpg\"/></a>\n",
       "</div>\n",
       "<p class=\"star-rating Five\">\n",
       "<i class=\"icon-star\"></i>\n",
       "<i class=\"icon-star\"></i>\n",
       "<i class=\"icon-star\"></i>\n",
       "<i class=\"icon-star\"></i>\n",
       "<i class=\"icon-star\"></i>\n",
       "</p>\n",
       "<h3><a href=\"frostbite-vampire-academy-2_810/index.html\" title=\"Frostbite (Vampire Academy #2)\">Frostbite (Vampire Academy #2)</a></h3>\n",
       "<div class=\"product_price\">\n",
       "<p class=\"price_color\">Â£29.99</p>\n",
       "<p class=\"instock availability\">\n",
       "<i class=\"icon-ok\"></i>\n",
       "    \n",
       "        In stock\n",
       "    \n",
       "</p>\n",
       "<form>\n",
       "<button class=\"btn btn-primary btn-block\" data-loading-text=\"Adding...\" type=\"submit\">Add to basket</button>\n",
       "</form>\n",
       "</div>\n",
       "</article>\n",
       "</li>\n",
       "<li class=\"col-xs-6 col-sm-4 col-md-3 col-lg-3\">\n",
       "<article class=\"product_pod\">\n",
       "<div class=\"image_container\">\n",
       "<a href=\"follow-you-home_809/index.html\"><img alt=\"Follow You Home\" class=\"thumbnail\" src=\"../media/cache/a7/4b/a74b35375ce874153fd352e33bc7bac9.jpg\"/></a>\n",
       "</div>\n",
       "<p class=\"star-rating One\">\n",
       "<i class=\"icon-star\"></i>\n",
       "<i class=\"icon-star\"></i>\n",
       "<i class=\"icon-star\"></i>\n",
       "<i class=\"icon-star\"></i>\n",
       "<i class=\"icon-star\"></i>\n",
       "</p>\n",
       "<h3><a href=\"follow-you-home_809/index.html\" title=\"Follow You Home\">Follow You Home</a></h3>\n",
       "<div class=\"product_price\">\n",
       "<p class=\"price_color\">Â£21.36</p>\n",
       "<p class=\"instock availability\">\n",
       "<i class=\"icon-ok\"></i>\n",
       "    \n",
       "        In stock\n",
       "    \n",
       "</p>\n",
       "<form>\n",
       "<button class=\"btn btn-primary btn-block\" data-loading-text=\"Adding...\" type=\"submit\">Add to basket</button>\n",
       "</form>\n",
       "</div>\n",
       "</article>\n",
       "</li>\n",
       "<li class=\"col-xs-6 col-sm-4 col-md-3 col-lg-3\">\n",
       "<article class=\"product_pod\">\n",
       "<div class=\"image_container\">\n",
       "<a href=\"first-steps-for-new-christians-print-edition_808/index.html\"><img alt=\"First Steps for New Christians (Print Edition)\" class=\"thumbnail\" src=\"../media/cache/f1/73/f1731459b1e2f4becf2c52b8f30b8cd7.jpg\"/></a>\n",
       "</div>\n",
       "<p class=\"star-rating One\">\n",
       "<i class=\"icon-star\"></i>\n",
       "<i class=\"icon-star\"></i>\n",
       "<i class=\"icon-star\"></i>\n",
       "<i class=\"icon-star\"></i>\n",
       "<i class=\"icon-star\"></i>\n",
       "</p>\n",
       "<h3><a href=\"first-steps-for-new-christians-print-edition_808/index.html\" title=\"First Steps for New Christians (Print Edition)\">First Steps for New ...</a></h3>\n",
       "<div class=\"product_price\">\n",
       "<p class=\"price_color\">Â£29.00</p>\n",
       "<p class=\"instock availability\">\n",
       "<i class=\"icon-ok\"></i>\n",
       "    \n",
       "        In stock\n",
       "    \n",
       "</p>\n",
       "<form>\n",
       "<button class=\"btn btn-primary btn-block\" data-loading-text=\"Adding...\" type=\"submit\">Add to basket</button>\n",
       "</form>\n",
       "</div>\n",
       "</article>\n",
       "</li>\n",
       "<li class=\"col-xs-6 col-sm-4 col-md-3 col-lg-3\">\n",
       "<article class=\"product_pod\">\n",
       "<div class=\"image_container\">\n",
       "<a href=\"finders-keepers-bill-hodges-trilogy-2_807/index.html\"><img alt=\"Finders Keepers (Bill Hodges Trilogy #2)\" class=\"thumbnail\" src=\"../media/cache/6a/81/6a81103b1c01a3f6c56e5718a838a4c8.jpg\"/></a>\n",
       "</div>\n",
       "<p class=\"star-rating Five\">\n",
       "<i class=\"icon-star\"></i>\n",
       "<i class=\"icon-star\"></i>\n",
       "<i class=\"icon-star\"></i>\n",
       "<i class=\"icon-star\"></i>\n",
       "<i class=\"icon-star\"></i>\n",
       "</p>\n",
       "<h3><a href=\"finders-keepers-bill-hodges-trilogy-2_807/index.html\" title=\"Finders Keepers (Bill Hodges Trilogy #2)\">Finders Keepers (Bill Hodges ...</a></h3>\n",
       "<div class=\"product_price\">\n",
       "<p class=\"price_color\">Â£53.53</p>\n",
       "<p class=\"instock availability\">\n",
       "<i class=\"icon-ok\"></i>\n",
       "    \n",
       "        In stock\n",
       "    \n",
       "</p>\n",
       "<form>\n",
       "<button class=\"btn btn-primary btn-block\" data-loading-text=\"Adding...\" type=\"submit\">Add to basket</button>\n",
       "</form>\n",
       "</div>\n",
       "</article>\n",
       "</li>\n",
       "<li class=\"col-xs-6 col-sm-4 col-md-3 col-lg-3\">\n",
       "<article class=\"product_pod\">\n",
       "<div class=\"image_container\">\n",
       "<a href=\"fables-vol-1-legends-in-exile-fables-1_806/index.html\"><img alt=\"Fables, Vol. 1: Legends in Exile (Fables #1)\" class=\"thumbnail\" src=\"../media/cache/51/8c/518c184a793b751b43045637c8002eb7.jpg\"/></a>\n",
       "</div>\n",
       "<p class=\"star-rating Four\">\n",
       "<i class=\"icon-star\"></i>\n",
       "<i class=\"icon-star\"></i>\n",
       "<i class=\"icon-star\"></i>\n",
       "<i class=\"icon-star\"></i>\n",
       "<i class=\"icon-star\"></i>\n",
       "</p>\n",
       "<h3><a href=\"fables-vol-1-legends-in-exile-fables-1_806/index.html\" title=\"Fables, Vol. 1: Legends in Exile (Fables #1)\">Fables, Vol. 1: Legends ...</a></h3>\n",
       "<div class=\"product_price\">\n",
       "<p class=\"price_color\">Â£41.62</p>\n",
       "<p class=\"instock availability\">\n",
       "<i class=\"icon-ok\"></i>\n",
       "    \n",
       "        In stock\n",
       "    \n",
       "</p>\n",
       "<form>\n",
       "<button class=\"btn btn-primary btn-block\" data-loading-text=\"Adding...\" type=\"submit\">Add to basket</button>\n",
       "</form>\n",
       "</div>\n",
       "</article>\n",
       "</li>\n",
       "<li class=\"col-xs-6 col-sm-4 col-md-3 col-lg-3\">\n",
       "<article class=\"product_pod\">\n",
       "<div class=\"image_container\">\n",
       "<a href=\"eureka-trivia-60_805/index.html\"><img alt=\"Eureka Trivia 6.0\" class=\"thumbnail\" src=\"../media/cache/96/17/96173470df6fc6fef4d0008e957653ce.jpg\"/></a>\n",
       "</div>\n",
       "<p class=\"star-rating Four\">\n",
       "<i class=\"icon-star\"></i>\n",
       "<i class=\"icon-star\"></i>\n",
       "<i class=\"icon-star\"></i>\n",
       "<i class=\"icon-star\"></i>\n",
       "<i class=\"icon-star\"></i>\n",
       "</p>\n",
       "<h3><a href=\"eureka-trivia-60_805/index.html\" title=\"Eureka Trivia 6.0\">Eureka Trivia 6.0</a></h3>\n",
       "<div class=\"product_price\">\n",
       "<p class=\"price_color\">Â£54.59</p>\n",
       "<p class=\"instock availability\">\n",
       "<i class=\"icon-ok\"></i>\n",
       "    \n",
       "        In stock\n",
       "    \n",
       "</p>\n",
       "<form>\n",
       "<button class=\"btn btn-primary btn-block\" data-loading-text=\"Adding...\" type=\"submit\">Add to basket</button>\n",
       "</form>\n",
       "</div>\n",
       "</article>\n",
       "</li>\n",
       "<li class=\"col-xs-6 col-sm-4 col-md-3 col-lg-3\">\n",
       "<article class=\"product_pod\">\n",
       "<div class=\"image_container\">\n",
       "<a href=\"drive-the-surprising-truth-about-what-motivates-us_804/index.html\"><img alt=\"Drive: The Surprising Truth About What Motivates Us\" class=\"thumbnail\" src=\"../media/cache/8a/49/8a490347afdc10abe7c2099e466de32f.jpg\"/></a>\n",
       "</div>\n",
       "<p class=\"star-rating Four\">\n",
       "<i class=\"icon-star\"></i>\n",
       "<i class=\"icon-star\"></i>\n",
       "<i class=\"icon-star\"></i>\n",
       "<i class=\"icon-star\"></i>\n",
       "<i class=\"icon-star\"></i>\n",
       "</p>\n",
       "<h3><a href=\"drive-the-surprising-truth-about-what-motivates-us_804/index.html\" title=\"Drive: The Surprising Truth About What Motivates Us\">Drive: The Surprising Truth ...</a></h3>\n",
       "<div class=\"product_price\">\n",
       "<p class=\"price_color\">Â£34.95</p>\n",
       "<p class=\"instock availability\">\n",
       "<i class=\"icon-ok\"></i>\n",
       "    \n",
       "        In stock\n",
       "    \n",
       "</p>\n",
       "<form>\n",
       "<button class=\"btn btn-primary btn-block\" data-loading-text=\"Adding...\" type=\"submit\">Add to basket</button>\n",
       "</form>\n",
       "</div>\n",
       "</article>\n",
       "</li>\n",
       "<li class=\"col-xs-6 col-sm-4 col-md-3 col-lg-3\">\n",
       "<article class=\"product_pod\">\n",
       "<div class=\"image_container\">\n",
       "<a href=\"done-rubbed-out-reightman-bailey-1_803/index.html\"><img alt=\"Done Rubbed Out (Reightman &amp; Bailey #1)\" class=\"thumbnail\" src=\"../media/cache/08/4d/084da0199a717cb6c1eda30f98d0ea4c.jpg\"/></a>\n",
       "</div>\n",
       "<p class=\"star-rating Five\">\n",
       "<i class=\"icon-star\"></i>\n",
       "<i class=\"icon-star\"></i>\n",
       "<i class=\"icon-star\"></i>\n",
       "<i class=\"icon-star\"></i>\n",
       "<i class=\"icon-star\"></i>\n",
       "</p>\n",
       "<h3><a href=\"done-rubbed-out-reightman-bailey-1_803/index.html\" title=\"Done Rubbed Out (Reightman &amp; Bailey #1)\">Done Rubbed Out (Reightman ...</a></h3>\n",
       "<div class=\"product_price\">\n",
       "<p class=\"price_color\">Â£37.72</p>\n",
       "<p class=\"instock availability\">\n",
       "<i class=\"icon-ok\"></i>\n",
       "    \n",
       "        In stock\n",
       "    \n",
       "</p>\n",
       "<form>\n",
       "<button class=\"btn btn-primary btn-block\" data-loading-text=\"Adding...\" type=\"submit\">Add to basket</button>\n",
       "</form>\n",
       "</div>\n",
       "</article>\n",
       "</li>\n",
       "<li class=\"col-xs-6 col-sm-4 col-md-3 col-lg-3\">\n",
       "<article class=\"product_pod\">\n",
       "<div class=\"image_container\">\n",
       "<a href=\"doing-it-over-most-likely-to-1_802/index.html\"><img alt=\"Doing It Over (Most Likely To #1)\" class=\"thumbnail\" src=\"../media/cache/e9/25/e9250495a525eb203652ad9da85ccb8e.jpg\"/></a>\n",
       "</div>\n",
       "<p class=\"star-rating Three\">\n",
       "<i class=\"icon-star\"></i>\n",
       "<i class=\"icon-star\"></i>\n",
       "<i class=\"icon-star\"></i>\n",
       "<i class=\"icon-star\"></i>\n",
       "<i class=\"icon-star\"></i>\n",
       "</p>\n",
       "<h3><a href=\"doing-it-over-most-likely-to-1_802/index.html\" title=\"Doing It Over (Most Likely To #1)\">Doing It Over (Most ...</a></h3>\n",
       "<div class=\"product_price\">\n",
       "<p class=\"price_color\">Â£35.61</p>\n",
       "<p class=\"instock availability\">\n",
       "<i class=\"icon-ok\"></i>\n",
       "    \n",
       "        In stock\n",
       "    \n",
       "</p>\n",
       "<form>\n",
       "<button class=\"btn btn-primary btn-block\" data-loading-text=\"Adding...\" type=\"submit\">Add to basket</button>\n",
       "</form>\n",
       "</div>\n",
       "</article>\n",
       "</li>\n",
       "<li class=\"col-xs-6 col-sm-4 col-md-3 col-lg-3\">\n",
       "<article class=\"product_pod\">\n",
       "<div class=\"image_container\">\n",
       "<a href=\"deliciously-ella-every-day-quick-and-easy-recipes-for-gluten-free-snacks-packed-lunches-and-simple-meals_801/index.html\"><img alt=\"Deliciously Ella Every Day: Quick and Easy Recipes for Gluten-Free Snacks, Packed Lunches, and Simple Meals\" class=\"thumbnail\" src=\"../media/cache/20/f2/20f28657b49f8cb24ed2ec6448bb6df3.jpg\"/></a>\n",
       "</div>\n",
       "<p class=\"star-rating Three\">\n",
       "<i class=\"icon-star\"></i>\n",
       "<i class=\"icon-star\"></i>\n",
       "<i class=\"icon-star\"></i>\n",
       "<i class=\"icon-star\"></i>\n",
       "<i class=\"icon-star\"></i>\n",
       "</p>\n",
       "<h3><a href=\"deliciously-ella-every-day-quick-and-easy-recipes-for-gluten-free-snacks-packed-lunches-and-simple-meals_801/index.html\" title=\"Deliciously Ella Every Day: Quick and Easy Recipes for Gluten-Free Snacks, Packed Lunches, and Simple Meals\">Deliciously Ella Every Day: ...</a></h3>\n",
       "<div class=\"product_price\">\n",
       "<p class=\"price_color\">Â£42.16</p>\n",
       "<p class=\"instock availability\">\n",
       "<i class=\"icon-ok\"></i>\n",
       "    \n",
       "        In stock\n",
       "    \n",
       "</p>\n",
       "<form>\n",
       "<button class=\"btn btn-primary btn-block\" data-loading-text=\"Adding...\" type=\"submit\">Add to basket</button>\n",
       "</form>\n",
       "</div>\n",
       "</article>\n",
       "</li>\n",
       "</ol>\n",
       "<div>\n",
       "<ul class=\"pager\">\n",
       "<li class=\"previous\"><a href=\"page-9.html\">previous</a></li>\n",
       "<li class=\"current\">\n",
       "            \n",
       "                Page 10 of 50\n",
       "            \n",
       "            </li>\n",
       "<li class=\"next\"><a href=\"page-11.html\">next</a></li>\n",
       "</ul>\n",
       "</div>\n",
       "</div>\n",
       "</section>\n",
       "</div>\n",
       "</div><!-- /row -->\n",
       "</div><!-- /page_inner -->\n",
       "</div><!-- /container-fluid -->\n",
       "<footer class=\"footer container-fluid\">\n",
       "</footer>\n",
       "<!-- jQuery -->\n",
       "<script src=\"http://ajax.googleapis.com/ajax/libs/jquery/1.9.1/jquery.min.js\"></script>\n",
       "<script>window.jQuery || document.write('<script src=\"../static/oscar/js/jquery/jquery-1.9.1.min.js\"><\\/script>')</script>\n",
       "<!-- Twitter Bootstrap -->\n",
       "<script src=\"../static/oscar/js/bootstrap3/bootstrap.min.js\" type=\"text/javascript\"></script>\n",
       "<!-- Oscar -->\n",
       "<script charset=\"utf-8\" src=\"../static/oscar/js/oscar/ui.js\" type=\"text/javascript\"></script>\n",
       "<script charset=\"utf-8\" src=\"../static/oscar/js/bootstrap-datetimepicker/bootstrap-datetimepicker.js\" type=\"text/javascript\"></script>\n",
       "<script charset=\"utf-8\" src=\"../static/oscar/js/bootstrap-datetimepicker/locales/bootstrap-datetimepicker.all.js\" type=\"text/javascript\"></script>\n",
       "<script type=\"text/javascript\">\n",
       "            $(function() {\n",
       "                \n",
       "    \n",
       "    \n",
       "    oscar.init();\n",
       "\n",
       "    oscar.search.init();\n",
       "\n",
       "            });\n",
       "        </script>\n",
       "<!-- Version: N/A -->\n",
       "</body>\n",
       "</html>"
      ]
     },
     "execution_count": 27,
     "metadata": {},
     "output_type": "execute_result"
    }
   ],
   "source": [
    "soup=bs4.BeautifulSoup(result.text,'lxml')\n",
    "soup"
   ]
  },
  {
   "cell_type": "code",
   "execution_count": 7,
   "id": "77953bed",
   "metadata": {},
   "outputs": [
    {
     "data": {
      "text/plain": [
       "<p class=\"star-rating Three\">\n",
       "<i class=\"icon-star\"></i>\n",
       "<i class=\"icon-star\"></i>\n",
       "<i class=\"icon-star\"></i>\n",
       "<i class=\"icon-star\"></i>\n",
       "<i class=\"icon-star\"></i>\n",
       "</p>"
      ]
     },
     "execution_count": 7,
     "metadata": {},
     "output_type": "execute_result"
    }
   ],
   "source": [
    "ad=soup.select(\".star-rating\")\n",
    "ad[0]\n",
    "ad[1]\n",
    "ad[3]"
   ]
  },
  {
   "cell_type": "code",
   "execution_count": 8,
   "id": "9b7dac72",
   "metadata": {},
   "outputs": [
    {
     "data": {
      "text/plain": [
       "'\\n\\n\\n\\n\\n\\n'"
      ]
     },
     "execution_count": 8,
     "metadata": {},
     "output_type": "execute_result"
    }
   ],
   "source": [
    "ad[0].get_text()\n"
   ]
  },
  {
   "cell_type": "code",
   "execution_count": 19,
   "id": "1aff7629",
   "metadata": {},
   "outputs": [
    {
     "data": {
      "text/plain": [
       "<p class=\"price_color\">Â£28.26</p>"
      ]
     },
     "execution_count": 19,
     "metadata": {},
     "output_type": "execute_result"
    }
   ],
   "source": [
    "c=soup.select(\".price_color\")\n",
    "c[0]"
   ]
  },
  {
   "cell_type": "code",
   "execution_count": 10,
   "id": "654c28ca",
   "metadata": {},
   "outputs": [
    {
     "name": "stdout",
     "output_type": "stream",
     "text": [
      "Â£28.26\n",
      "Â£10.76\n",
      "Â£16.85\n",
      "Â£13.47\n",
      "Â£48.56\n",
      "Â£19.15\n",
      "Â£57.36\n",
      "Â£42.98\n",
      "Â£22.16\n",
      "Â£49.43\n",
      "Â£29.99\n",
      "Â£21.36\n",
      "Â£29.00\n",
      "Â£53.53\n",
      "Â£41.62\n",
      "Â£54.59\n",
      "Â£34.95\n",
      "Â£37.72\n",
      "Â£35.61\n",
      "Â£42.16\n"
     ]
    }
   ],
   "source": [
    "for i in range(len(c)):\n",
    "    print(c[i].get_text())"
   ]
  },
  {
   "cell_type": "code",
   "execution_count": 11,
   "id": "b769f424",
   "metadata": {},
   "outputs": [
    {
     "data": {
      "text/plain": [
       "[<p class=\"star-rating Five\">\n",
       " <i class=\"icon-star\"></i>\n",
       " <i class=\"icon-star\"></i>\n",
       " <i class=\"icon-star\"></i>\n",
       " <i class=\"icon-star\"></i>\n",
       " <i class=\"icon-star\"></i>\n",
       " </p>,\n",
       " <p class=\"star-rating One\">\n",
       " <i class=\"icon-star\"></i>\n",
       " <i class=\"icon-star\"></i>\n",
       " <i class=\"icon-star\"></i>\n",
       " <i class=\"icon-star\"></i>\n",
       " <i class=\"icon-star\"></i>\n",
       " </p>,\n",
       " <p class=\"star-rating Two\">\n",
       " <i class=\"icon-star\"></i>\n",
       " <i class=\"icon-star\"></i>\n",
       " <i class=\"icon-star\"></i>\n",
       " <i class=\"icon-star\"></i>\n",
       " <i class=\"icon-star\"></i>\n",
       " </p>,\n",
       " <p class=\"star-rating Three\">\n",
       " <i class=\"icon-star\"></i>\n",
       " <i class=\"icon-star\"></i>\n",
       " <i class=\"icon-star\"></i>\n",
       " <i class=\"icon-star\"></i>\n",
       " <i class=\"icon-star\"></i>\n",
       " </p>,\n",
       " <p class=\"star-rating Five\">\n",
       " <i class=\"icon-star\"></i>\n",
       " <i class=\"icon-star\"></i>\n",
       " <i class=\"icon-star\"></i>\n",
       " <i class=\"icon-star\"></i>\n",
       " <i class=\"icon-star\"></i>\n",
       " </p>,\n",
       " <p class=\"star-rating Two\">\n",
       " <i class=\"icon-star\"></i>\n",
       " <i class=\"icon-star\"></i>\n",
       " <i class=\"icon-star\"></i>\n",
       " <i class=\"icon-star\"></i>\n",
       " <i class=\"icon-star\"></i>\n",
       " </p>,\n",
       " <p class=\"star-rating Four\">\n",
       " <i class=\"icon-star\"></i>\n",
       " <i class=\"icon-star\"></i>\n",
       " <i class=\"icon-star\"></i>\n",
       " <i class=\"icon-star\"></i>\n",
       " <i class=\"icon-star\"></i>\n",
       " </p>,\n",
       " <p class=\"star-rating One\">\n",
       " <i class=\"icon-star\"></i>\n",
       " <i class=\"icon-star\"></i>\n",
       " <i class=\"icon-star\"></i>\n",
       " <i class=\"icon-star\"></i>\n",
       " <i class=\"icon-star\"></i>\n",
       " </p>,\n",
       " <p class=\"star-rating Two\">\n",
       " <i class=\"icon-star\"></i>\n",
       " <i class=\"icon-star\"></i>\n",
       " <i class=\"icon-star\"></i>\n",
       " <i class=\"icon-star\"></i>\n",
       " <i class=\"icon-star\"></i>\n",
       " </p>,\n",
       " <p class=\"star-rating Four\">\n",
       " <i class=\"icon-star\"></i>\n",
       " <i class=\"icon-star\"></i>\n",
       " <i class=\"icon-star\"></i>\n",
       " <i class=\"icon-star\"></i>\n",
       " <i class=\"icon-star\"></i>\n",
       " </p>,\n",
       " <p class=\"star-rating Five\">\n",
       " <i class=\"icon-star\"></i>\n",
       " <i class=\"icon-star\"></i>\n",
       " <i class=\"icon-star\"></i>\n",
       " <i class=\"icon-star\"></i>\n",
       " <i class=\"icon-star\"></i>\n",
       " </p>,\n",
       " <p class=\"star-rating One\">\n",
       " <i class=\"icon-star\"></i>\n",
       " <i class=\"icon-star\"></i>\n",
       " <i class=\"icon-star\"></i>\n",
       " <i class=\"icon-star\"></i>\n",
       " <i class=\"icon-star\"></i>\n",
       " </p>,\n",
       " <p class=\"star-rating One\">\n",
       " <i class=\"icon-star\"></i>\n",
       " <i class=\"icon-star\"></i>\n",
       " <i class=\"icon-star\"></i>\n",
       " <i class=\"icon-star\"></i>\n",
       " <i class=\"icon-star\"></i>\n",
       " </p>,\n",
       " <p class=\"star-rating Five\">\n",
       " <i class=\"icon-star\"></i>\n",
       " <i class=\"icon-star\"></i>\n",
       " <i class=\"icon-star\"></i>\n",
       " <i class=\"icon-star\"></i>\n",
       " <i class=\"icon-star\"></i>\n",
       " </p>,\n",
       " <p class=\"star-rating Four\">\n",
       " <i class=\"icon-star\"></i>\n",
       " <i class=\"icon-star\"></i>\n",
       " <i class=\"icon-star\"></i>\n",
       " <i class=\"icon-star\"></i>\n",
       " <i class=\"icon-star\"></i>\n",
       " </p>,\n",
       " <p class=\"star-rating Four\">\n",
       " <i class=\"icon-star\"></i>\n",
       " <i class=\"icon-star\"></i>\n",
       " <i class=\"icon-star\"></i>\n",
       " <i class=\"icon-star\"></i>\n",
       " <i class=\"icon-star\"></i>\n",
       " </p>,\n",
       " <p class=\"star-rating Four\">\n",
       " <i class=\"icon-star\"></i>\n",
       " <i class=\"icon-star\"></i>\n",
       " <i class=\"icon-star\"></i>\n",
       " <i class=\"icon-star\"></i>\n",
       " <i class=\"icon-star\"></i>\n",
       " </p>,\n",
       " <p class=\"star-rating Five\">\n",
       " <i class=\"icon-star\"></i>\n",
       " <i class=\"icon-star\"></i>\n",
       " <i class=\"icon-star\"></i>\n",
       " <i class=\"icon-star\"></i>\n",
       " <i class=\"icon-star\"></i>\n",
       " </p>,\n",
       " <p class=\"star-rating Three\">\n",
       " <i class=\"icon-star\"></i>\n",
       " <i class=\"icon-star\"></i>\n",
       " <i class=\"icon-star\"></i>\n",
       " <i class=\"icon-star\"></i>\n",
       " <i class=\"icon-star\"></i>\n",
       " </p>,\n",
       " <p class=\"star-rating Three\">\n",
       " <i class=\"icon-star\"></i>\n",
       " <i class=\"icon-star\"></i>\n",
       " <i class=\"icon-star\"></i>\n",
       " <i class=\"icon-star\"></i>\n",
       " <i class=\"icon-star\"></i>\n",
       " </p>]"
      ]
     },
     "execution_count": 11,
     "metadata": {},
     "output_type": "execute_result"
    }
   ],
   "source": [
    "ade=soup.select(\".star-rating\")\n",
    "ade\n"
   ]
  },
  {
   "cell_type": "code",
   "execution_count": 12,
   "id": "2b766cf1",
   "metadata": {},
   "outputs": [
    {
     "data": {
      "text/plain": [
       "<p class=\"star-rating Five\">\n",
       "<i class=\"icon-star\"></i>\n",
       "<i class=\"icon-star\"></i>\n",
       "<i class=\"icon-star\"></i>\n",
       "<i class=\"icon-star\"></i>\n",
       "<i class=\"icon-star\"></i>\n",
       "</p>"
      ]
     },
     "execution_count": 12,
     "metadata": {},
     "output_type": "execute_result"
    }
   ],
   "source": [
    "ade[0]"
   ]
  },
  {
   "cell_type": "code",
   "execution_count": 13,
   "id": "531ef35b",
   "metadata": {},
   "outputs": [
    {
     "data": {
      "text/plain": [
       "'\\n\\n\\n\\n\\n\\n'"
      ]
     },
     "execution_count": 13,
     "metadata": {},
     "output_type": "execute_result"
    }
   ],
   "source": [
    "ade[1].get_text()"
   ]
  },
  {
   "cell_type": "code",
   "execution_count": 14,
   "id": "6f0f1c1c",
   "metadata": {},
   "outputs": [
    {
     "name": "stdout",
     "output_type": "stream",
     "text": [
      "<p class=\"star-rating Five\">\n",
      "<i class=\"icon-star\"></i>\n",
      "<i class=\"icon-star\"></i>\n",
      "<i class=\"icon-star\"></i>\n",
      "<i class=\"icon-star\"></i>\n",
      "<i class=\"icon-star\"></i>\n",
      "</p>\n",
      "-----\n",
      "<p class=\"star-rating One\">\n",
      "<i class=\"icon-star\"></i>\n",
      "<i class=\"icon-star\"></i>\n",
      "<i class=\"icon-star\"></i>\n",
      "<i class=\"icon-star\"></i>\n",
      "<i class=\"icon-star\"></i>\n",
      "</p>\n",
      "-----\n",
      "<p class=\"star-rating Two\">\n",
      "<i class=\"icon-star\"></i>\n",
      "<i class=\"icon-star\"></i>\n",
      "<i class=\"icon-star\"></i>\n",
      "<i class=\"icon-star\"></i>\n",
      "<i class=\"icon-star\"></i>\n",
      "</p>\n",
      "-----\n",
      "<p class=\"star-rating Three\">\n",
      "<i class=\"icon-star\"></i>\n",
      "<i class=\"icon-star\"></i>\n",
      "<i class=\"icon-star\"></i>\n",
      "<i class=\"icon-star\"></i>\n",
      "<i class=\"icon-star\"></i>\n",
      "</p>\n",
      "-----\n",
      "<p class=\"star-rating Five\">\n",
      "<i class=\"icon-star\"></i>\n",
      "<i class=\"icon-star\"></i>\n",
      "<i class=\"icon-star\"></i>\n",
      "<i class=\"icon-star\"></i>\n",
      "<i class=\"icon-star\"></i>\n",
      "</p>\n",
      "-----\n",
      "<p class=\"star-rating Two\">\n",
      "<i class=\"icon-star\"></i>\n",
      "<i class=\"icon-star\"></i>\n",
      "<i class=\"icon-star\"></i>\n",
      "<i class=\"icon-star\"></i>\n",
      "<i class=\"icon-star\"></i>\n",
      "</p>\n",
      "-----\n",
      "<p class=\"star-rating Four\">\n",
      "<i class=\"icon-star\"></i>\n",
      "<i class=\"icon-star\"></i>\n",
      "<i class=\"icon-star\"></i>\n",
      "<i class=\"icon-star\"></i>\n",
      "<i class=\"icon-star\"></i>\n",
      "</p>\n",
      "-----\n",
      "<p class=\"star-rating One\">\n",
      "<i class=\"icon-star\"></i>\n",
      "<i class=\"icon-star\"></i>\n",
      "<i class=\"icon-star\"></i>\n",
      "<i class=\"icon-star\"></i>\n",
      "<i class=\"icon-star\"></i>\n",
      "</p>\n",
      "-----\n",
      "<p class=\"star-rating Two\">\n",
      "<i class=\"icon-star\"></i>\n",
      "<i class=\"icon-star\"></i>\n",
      "<i class=\"icon-star\"></i>\n",
      "<i class=\"icon-star\"></i>\n",
      "<i class=\"icon-star\"></i>\n",
      "</p>\n",
      "-----\n",
      "<p class=\"star-rating Four\">\n",
      "<i class=\"icon-star\"></i>\n",
      "<i class=\"icon-star\"></i>\n",
      "<i class=\"icon-star\"></i>\n",
      "<i class=\"icon-star\"></i>\n",
      "<i class=\"icon-star\"></i>\n",
      "</p>\n",
      "-----\n",
      "<p class=\"star-rating Five\">\n",
      "<i class=\"icon-star\"></i>\n",
      "<i class=\"icon-star\"></i>\n",
      "<i class=\"icon-star\"></i>\n",
      "<i class=\"icon-star\"></i>\n",
      "<i class=\"icon-star\"></i>\n",
      "</p>\n",
      "-----\n",
      "<p class=\"star-rating One\">\n",
      "<i class=\"icon-star\"></i>\n",
      "<i class=\"icon-star\"></i>\n",
      "<i class=\"icon-star\"></i>\n",
      "<i class=\"icon-star\"></i>\n",
      "<i class=\"icon-star\"></i>\n",
      "</p>\n",
      "-----\n",
      "<p class=\"star-rating One\">\n",
      "<i class=\"icon-star\"></i>\n",
      "<i class=\"icon-star\"></i>\n",
      "<i class=\"icon-star\"></i>\n",
      "<i class=\"icon-star\"></i>\n",
      "<i class=\"icon-star\"></i>\n",
      "</p>\n",
      "-----\n",
      "<p class=\"star-rating Five\">\n",
      "<i class=\"icon-star\"></i>\n",
      "<i class=\"icon-star\"></i>\n",
      "<i class=\"icon-star\"></i>\n",
      "<i class=\"icon-star\"></i>\n",
      "<i class=\"icon-star\"></i>\n",
      "</p>\n",
      "-----\n",
      "<p class=\"star-rating Four\">\n",
      "<i class=\"icon-star\"></i>\n",
      "<i class=\"icon-star\"></i>\n",
      "<i class=\"icon-star\"></i>\n",
      "<i class=\"icon-star\"></i>\n",
      "<i class=\"icon-star\"></i>\n",
      "</p>\n",
      "-----\n",
      "<p class=\"star-rating Four\">\n",
      "<i class=\"icon-star\"></i>\n",
      "<i class=\"icon-star\"></i>\n",
      "<i class=\"icon-star\"></i>\n",
      "<i class=\"icon-star\"></i>\n",
      "<i class=\"icon-star\"></i>\n",
      "</p>\n",
      "-----\n",
      "<p class=\"star-rating Four\">\n",
      "<i class=\"icon-star\"></i>\n",
      "<i class=\"icon-star\"></i>\n",
      "<i class=\"icon-star\"></i>\n",
      "<i class=\"icon-star\"></i>\n",
      "<i class=\"icon-star\"></i>\n",
      "</p>\n",
      "-----\n",
      "<p class=\"star-rating Five\">\n",
      "<i class=\"icon-star\"></i>\n",
      "<i class=\"icon-star\"></i>\n",
      "<i class=\"icon-star\"></i>\n",
      "<i class=\"icon-star\"></i>\n",
      "<i class=\"icon-star\"></i>\n",
      "</p>\n",
      "-----\n",
      "<p class=\"star-rating Three\">\n",
      "<i class=\"icon-star\"></i>\n",
      "<i class=\"icon-star\"></i>\n",
      "<i class=\"icon-star\"></i>\n",
      "<i class=\"icon-star\"></i>\n",
      "<i class=\"icon-star\"></i>\n",
      "</p>\n",
      "-----\n",
      "<p class=\"star-rating Three\">\n",
      "<i class=\"icon-star\"></i>\n",
      "<i class=\"icon-star\"></i>\n",
      "<i class=\"icon-star\"></i>\n",
      "<i class=\"icon-star\"></i>\n",
      "<i class=\"icon-star\"></i>\n",
      "</p>\n",
      "-----\n"
     ]
    }
   ],
   "source": [
    "for i in range(len(ad)):\n",
    "    print(ad[i])\n",
    "    print(\"-----\")"
   ]
  },
  {
   "cell_type": "code",
   "execution_count": 48,
   "id": "5dc46358",
   "metadata": {},
   "outputs": [
    {
     "data": {
      "text/plain": [
       "<article class=\"product_pod\">\n",
       "<div class=\"image_container\">\n",
       "<a href=\"modern-romance_820/index.html\"><img alt=\"Modern Romance\" class=\"thumbnail\" src=\"../media/cache/28/78/2878538a1039d9c4649110499a1393fb.jpg\"/></a>\n",
       "</div>\n",
       "<p class=\"star-rating Five\">\n",
       "<i class=\"icon-star\"></i>\n",
       "<i class=\"icon-star\"></i>\n",
       "<i class=\"icon-star\"></i>\n",
       "<i class=\"icon-star\"></i>\n",
       "<i class=\"icon-star\"></i>\n",
       "</p>\n",
       "<h3><a href=\"modern-romance_820/index.html\" title=\"Modern Romance\">Modern Romance</a></h3>\n",
       "<div class=\"product_price\">\n",
       "<p class=\"price_color\">Â£28.26</p>\n",
       "<p class=\"instock availability\">\n",
       "<i class=\"icon-ok\"></i>\n",
       "    \n",
       "        In stock\n",
       "    \n",
       "</p>\n",
       "<form>\n",
       "<button class=\"btn btn-primary btn-block\" data-loading-text=\"Adding...\" type=\"submit\">Add to basket</button>\n",
       "</form>\n",
       "</div>\n",
       "</article>"
      ]
     },
     "execution_count": 48,
     "metadata": {},
     "output_type": "execute_result"
    }
   ],
   "source": [
    "\n",
    "ade=soup.select(\".product_pod\")\n",
    "ex=ade[0]\n",
    "ex"
   ]
  },
  {
   "cell_type": "code",
   "execution_count": 49,
   "id": "e7ee45dd",
   "metadata": {},
   "outputs": [
    {
     "data": {
      "text/plain": [
       "[<p class=\"star-rating Five\">\n",
       " <i class=\"icon-star\"></i>\n",
       " <i class=\"icon-star\"></i>\n",
       " <i class=\"icon-star\"></i>\n",
       " <i class=\"icon-star\"></i>\n",
       " <i class=\"icon-star\"></i>\n",
       " </p>]"
      ]
     },
     "execution_count": 49,
     "metadata": {},
     "output_type": "execute_result"
    }
   ],
   "source": [
    "ex.select('.star-rating ')"
   ]
  },
  {
   "cell_type": "code",
   "execution_count": 55,
   "id": "821144aa",
   "metadata": {},
   "outputs": [
    {
     "name": "stdout",
     "output_type": "stream",
     "text": [
      "False\n"
     ]
    }
   ],
   "source": [
    "star=ex.select('.star-rating.Three')\n",
    "star\n",
    "if star:\n",
    "    print(\"True\")\n",
    "else:\n",
    "    print(\"False\")"
   ]
  },
  {
   "cell_type": "code",
   "execution_count": 189,
   "id": "823a8ee4",
   "metadata": {},
   "outputs": [
    {
     "name": "stdout",
     "output_type": "stream",
     "text": [
      "Page1\n",
      "\n",
      "Starving Hearts (Triangular Trade Trilogy, #1)\n",
      "Libertarianism for Beginners\n",
      "It's Only the Himalayas\n",
      "Page2\n",
      "\n",
      "How Music Works\n",
      "Maude (1883-1993):She Grew Up with the country\n",
      "You can't bury them all: Poems\n",
      "Page3\n",
      "\n",
      "Reasons to Stay Alive\n",
      "Without Borders (Wanderlove #1)\n",
      "Page4\n",
      "\n",
      "Soul Reader\n",
      "Security\n",
      "Saga, Volume 5 (Saga (Collected Editions) #5)\n",
      "Reskilling America: Learning to Labor in the Twenty-First Century\n",
      "Page5\n",
      "\n",
      "Political Suicide: Missteps, Peccadilloes, Bad Calls, Backroom Hijinx, Sordid Pasts, Rotten Breaks, and Just Plain Dumb Mistakes in the Annals of American Politics\n",
      "Obsidian (Lux #1)\n",
      "My Paris Kitchen: Recipes and Stories\n",
      "Masks and Shadows\n",
      "Lumberjanes, Vol. 2: Friendship to the Max (Lumberjanes #5-8)\n",
      "Lumberjanes Vol. 3: A Terrible Plan (Lumberjanes #9-12)\n",
      "Judo: Seven Steps to Black Belt (an Introductory Guide for Beginners)\n",
      "Page6\n",
      "\n",
      "I Hate Fairyland, Vol. 1: Madly Ever After (I Hate Fairyland (Compilations) #1-5)\n",
      "Giant Days, Vol. 2 (Giant Days #5-8)\n",
      "Everydata: The Misinformation Hidden in the Little Data You Consume Every Day\n",
      "Don't Be a Jerk: And Other Practical Advice from Dogen, Japan's Greatest Zen Master\n",
      "Bossypants\n",
      "Bitch Planet, Vol. 1: Extraordinary Machine (Bitch Planet (Collected Editions))\n",
      "Avatar: The Last Airbender: Smoke and Shadow, Part 3 (Smoke and Shadow #3)\n",
      "Page7\n",
      "\n",
      "Tuesday Nights in 1980\n",
      "Page8\n",
      "\n",
      "The Psychopath Test: A Journey Through the Madness Industry\n",
      "The Power of Now: A Guide to Spiritual Enlightenment\n",
      "The Omnivore's Dilemma: A Natural History of Four Meals\n",
      "The Love and Lemons Cookbook: An Apple-to-Zucchini Celebration of Impromptu Cooking\n",
      "The Girl on the Train\n",
      "The Emerald Mystery\n",
      "Page9\n",
      "\n",
      "The Argonauts\n",
      "Suddenly in Love (Lake Haven #1)\n",
      "Soft Apocalypse\n",
      "So You've Been Publicly Shamed\n",
      "Shoe Dog: A Memoir by the Creator of NIKE\n",
      "Page10\n",
      "\n",
      "Louisa: The Extraordinary Life of Mrs. Adams\n",
      "Large Print Heart of the Pride\n",
      "Grumbles\n",
      "Page11\n",
      "\n",
      "Chasing Heaven: What Dying Taught Me About Living\n",
      "Becoming Wise: An Inquiry into the Mystery and Art of Living\n",
      "Beauty Restored (Riley Family Legacy Novellas #3)\n",
      "Batman: The Long Halloween (Batman)\n",
      "Ayumi's Violin\n",
      "Wild Swans\n",
      "Page12\n",
      "\n",
      "What's It Like in Space?: Stories from Astronauts Who've Been There\n",
      "Until Friday Night (The Field Party #1)\n",
      "Unbroken: A World War II Story of Survival, Resilience, and Redemption\n",
      "Twenty Yawns\n",
      "Through the Woods\n",
      "This Is Where It Ends\n",
      "The Year of Magical Thinking\n",
      "Page13\n",
      "\n",
      "The Last Mile (Amos Decker #2)\n",
      "The Immortal Life of Henrietta Lacks\n",
      "The Hidden Oracle (The Trials of Apollo #1)\n",
      "The Guilty (Will Robie #4)\n",
      "Page14\n",
      "\n",
      "Red Hood/Arsenal, Vol. 1: Open for Business (Red Hood/Arsenal #1)\n",
      "Once Was a Time\n",
      "No Dream Is Too High: Life Lessons From a Man Who Walked on the Moon\n",
      "Naruto (3-in-1 Edition), Vol. 14: Includes Vols. 40, 41 & 42 (Naruto: Omnibus #14)\n",
      "Page15\n",
      "\n",
      "More Than Music (Chasing the Dream #1)\n",
      "Lowriders to the Center of the Earth (Lowriders in Space #2)\n",
      "Page16\n",
      "\n",
      "Eat Fat, Get Thin\n",
      "Doctor Sleep (The Shining #2)\n",
      "Crazy Love: Overwhelmed by a Relentless God\n",
      "Page17\n",
      "\n",
      "Carrie\n",
      "Batman: Europa\n",
      "Angels Walking (Angels Walking #1)\n",
      "Page18\n",
      "\n",
      "Adulthood Is a Myth: A \"Sarah's Scribbles\" Collection\n",
      "A Study in Scarlet (Sherlock Holmes #1)\n",
      "A Series of Catastrophes and Miracles: A True Story of Love, Science, and Cancer\n",
      "A People's History of the United States\n",
      "My Kitchen Year: 136 Recipes That Saved My Life\n",
      "Page19\n",
      "\n",
      "The Lonely City: Adventures in the Art of Being Alone\n",
      "The Dinner Party\n",
      "Stars Above (The Lunar Chronicles #4.5)\n",
      "Love, Lies and Spies\n",
      "Page20\n",
      "\n",
      "Troublemaker: Surviving Hollywood and Scientology\n",
      "The Widow\n",
      "Setting the World on Fire: The Brief, Astonishing Life of St. Catherine of Siena\n",
      "Page21\n",
      "\n",
      "Mothering Sunday\n",
      "Lilac Girls\n",
      "10% Happier: How I Tamed the Voice in My Head, Reduced Stress Without Losing My Edge, and Found Self-Help That Actually Works\n",
      "Page22\n",
      "\n",
      "Underlying Notes\n",
      "The Flowers Lied\n",
      "Modern Day Fables\n",
      "Page23\n",
      "\n",
      "Chernobyl 01:23:40: The Incredible True Story of the World's Worst Nuclear Disaster\n",
      "23 Degrees South: A Tropical Tale of Changing Whether...\n",
      "When Breath Becomes Air\n",
      "Vagabonding: An Uncommon Guide to the Art of Long-Term World Travel\n",
      "The Martian (The Martian #1)\n",
      "Page24\n",
      "\n",
      "Miller's Valley\n",
      "Love That Boy: What Two Presidents, Eight Road Trips, and My Son Taught Me About a Parent's Expectations\n",
      "Left Behind (Left Behind #1)\n",
      "Howl and Other Poems\n",
      "Page25\n",
      "\n",
      "Heaven is for Real: A Little Boy's Astounding Story of His Trip to Heaven and Back\n",
      "Brazen: The Courage to Find the You That's Been Hiding\n",
      "32 Yolks\n",
      "Wildlife of New York: A Five-Borough Coloring Book\n",
      "Unreasonable Hope: Finding Faith in the God Who Brings Purpose to Your Pain\n",
      "Page26\n",
      "\n",
      "The Art Book\n",
      "Steal Like an Artist: 10 Things Nobody Told You About Being Creative\n",
      "Raymie Nightingale\n",
      "Page27\n",
      "\n",
      "Like Never Before (Walker Family #2)\n",
      "How to Be a Domestic Goddess: Baking and the Art of Comfort Cooking\n",
      "Finding God in the Ruins: How God Redeems Pain\n",
      "Chronicles, Vol. 1\n",
      "Page28\n",
      "\n",
      "A Summer In Europe\n",
      "The Rise and Fall of the Third Reich: A History of Nazi Germany\n",
      "The Makings of a Fatherless Child\n",
      "The Fellowship of the Ring (The Lord of the Rings #1)\n",
      "Page29\n",
      "\n",
      "Tell the Wolves I'm Home\n",
      "In the Woods (Dublin Murder Squad #1)\n",
      "Give It Back\n",
      "Page30\n",
      "\n",
      "Why Save the Bankers?: And Other Essays on Our Economic and Political Crisis\n",
      "The Raven King (The Raven Cycle #4)\n",
      "The Expatriates\n",
      "Page31\n",
      "\n",
      "The 5th Wave (The 5th Wave #1)\n",
      "Peak: Secrets from the New Science of Expertise\n",
      "Logan Kade (Fallen Crest High #5.5)\n",
      "Page32\n",
      "\n",
      "I Know Why the Caged Bird Sings (Maya Angelou's Autobiography #1)\n",
      "Drama\n",
      "America's War for the Greater Middle East: A Military History\n",
      "Page33\n",
      "\n",
      "A Game of Thrones (A Song of Ice and Fire #1)\n",
      "The Pilgrim's Progress\n",
      "The Hound of the Baskervilles (Sherlock Holmes #5)\n",
      "The Geography of Bliss: One Grump's Search for the Happiest Places in the World\n",
      "The Demonists (Demonist #1)\n",
      "The Demon Prince of Momochi House, Vol. 4 (The Demon Prince of Momochi House #4)\n",
      "Page34\n",
      "\n",
      "Misery\n",
      "Page35\n",
      "\n",
      "Far From True (Promise Falls Trilogy #2)\n",
      "Confessions of a Shopaholic (Shopaholic #1)\n",
      "Page36\n",
      "\n",
      "Vegan Vegetarian Omnivore: Dinner for Everyone at the Table\n",
      "Two Boys Kissing\n",
      "Twilight (Twilight #1)\n",
      "Twenties Girl\n",
      "The Tipping Point: How Little Things Can Make a Big Difference\n",
      "The Stand\n",
      "Page37\n",
      "\n",
      "The Picture of Dorian Gray\n",
      "The Name of God is Mercy\n",
      "The Lover's Dictionary\n",
      "Page38\n",
      "\n",
      "The Last Painting of Sara de Vos\n",
      "The Guns of August\n",
      "The Girl Who Played with Fire (Millennium Trilogy #2)\n",
      "Page39\n",
      "\n",
      "The Da Vinci Code (Robert Langdon #2)\n",
      "The Cat in the Hat (Beginner Books B-1)\n",
      "The Book Thief\n",
      "The Autobiography of Malcolm X\n",
      "Surely You're Joking, Mr. Feynman!: Adventures of a Curious Character\n",
      "Soldier (Talon #3)\n",
      "Shopaholic & Baby (Shopaholic #5)\n",
      "Page40\n",
      "\n",
      "Seven Days in the Art World\n",
      "Rework\n",
      "Packing for Mars: The Curious Science of Life in the Void\n",
      "Orange Is the New Black\n",
      "One for the Money (Stephanie Plum #1)\n",
      "Page41\n",
      "\n",
      "Midnight Riot (Peter Grant/ Rivers of London - books #1)\n",
      "Me Talk Pretty One Day\n",
      "Manuscript Found in Accra\n",
      "Lust & Wonder\n",
      "Life, the Universe and Everything (Hitchhiker's Guide to the Galaxy #3)\n",
      "Life After Life\n",
      "Page42\n",
      "\n",
      "I Am Malala: The Girl Who Stood Up for Education and Was Shot by the Taliban\n",
      "House of Lost Worlds: Dinosaurs, Dynasties, and the Story of Life on Earth\n",
      "Horrible Bear!\n",
      "Holidays on Ice\n",
      "Page43\n",
      "\n",
      "Girl in the Blue Coat\n",
      "Fruits Basket, Vol. 3 (Fruits Basket #3)\n",
      "Cosmos\n",
      "Page44\n",
      "\n",
      "Civilization and Its Discontents\n",
      "Catastrophic Happiness: Finding Joy in Childhood's Messy Years\n",
      "Career of Evil (Cormoran Strike #3)\n",
      "Born to Run: A Hidden Tribe, Superathletes, and the Greatest Race the World Has Never Seen\n",
      "Best of My Love (Fool's Gold #20)\n",
      "Beowulf\n",
      "Awkward\n",
      "Page45\n",
      "\n",
      "And Then There Were None\n",
      "A Storm of Swords (A Song of Ice and Fire #3)\n",
      "The Suffragettes (Little Black Classics, #96)\n",
      "Page46\n",
      "\n",
      "Vampire Girl (Vampire Girl #1)\n",
      "Three Wishes (River of Time: California #1)\n",
      "The Wicked + The Divine, Vol. 1: The Faust Act (The Wicked + The Divine)\n",
      "Page47\n",
      "\n",
      "The Little Prince\n",
      "The Last Girl (The Dominion Trilogy #1)\n",
      "Page48\n",
      "\n",
      "Taking Shots (Assassins #1)\n",
      "Settling the Score (The Summer Games #1)\n",
      "Rhythm, Chord & Malykhin\n",
      "One Second (Seven #7)\n",
      "Page49\n",
      "\n",
      "Old Records Never Die: One Man's Quest for His Vinyl and His Past\n",
      "Of Mice and Men\n",
      "My Perfect Mistake (Over the Top #1)\n",
      "Meditations\n",
      "Page50\n",
      "\n",
      "Frankenstein\n",
      "Emma\n"
     ]
    }
   ],
   "source": [
    "import requests\n",
    "import bs4\n",
    "\n",
    "#pag_num=14\n",
    "base_url=\"http://books.toscrape.com/catalogue/page-{}.html\"\n",
    "#base_url.format(pag_num)\n",
    "\n",
    "#result=requests.get(base_url.format(pag_num))\n",
    "#result.text\n",
    "#soup=bs4.BeautifulSoup(result.text,'lxml')\n",
    "#ade=soup.select(\".product_pod\")\n",
    "\n",
    "for pag_num in range(1,51):\n",
    "    result=requests.get(base_url.format(pag_num))\n",
    "    soup=bs4.BeautifulSoup(result.text,'lxml')\n",
    "    ade=soup.select(\".product_pod\")\n",
    "    print(f\"Page{pag_num}\\n\")\n",
    "    for rate in range (len(ade)):\n",
    "        ex=ade[rate]\n",
    "        star=ex.select('.star-rating.Two')\n",
    "        #print(ade)\n",
    "        if star:\n",
    "            print(ex.select('a')[1]['title'])   \n",
    "            #print(ex.select('a')[0])\n",
    "            #[0] #['title'])\n",
    "            # print(ex)\n",
    "           # g=ex.select(\".image_container\")\n",
    "            #g=g[0].find('img')\n",
    "          #  str(g)\n",
    "            #print(ex)\n",
    "          #  print(g)\n",
    "          #  print('---------------------------')\n",
    "   "
   ]
  },
  {
   "cell_type": "code",
   "execution_count": 177,
   "id": "a744b604",
   "metadata": {},
   "outputs": [
    {
     "data": {
      "text/plain": [
       "range(1, 51)"
      ]
     },
     "execution_count": 177,
     "metadata": {},
     "output_type": "execute_result"
    }
   ],
   "source": [
    "range(1,51)"
   ]
  },
  {
   "cell_type": "code",
   "execution_count": 2,
   "id": "4670548c",
   "metadata": {},
   "outputs": [
    {
     "ename": "ModuleNotFoundError",
     "evalue": "No module named 'pillow'",
     "output_type": "error",
     "traceback": [
      "\u001b[1;31m---------------------------------------------------------------------------\u001b[0m",
      "\u001b[1;31mModuleNotFoundError\u001b[0m                       Traceback (most recent call last)",
      "\u001b[1;32m<ipython-input-2-e32915389b2c>\u001b[0m in \u001b[0;36m<module>\u001b[1;34m\u001b[0m\n\u001b[1;32m----> 1\u001b[1;33m \u001b[1;32mimport\u001b[0m \u001b[0mpillow\u001b[0m\u001b[1;33m\u001b[0m\u001b[1;33m\u001b[0m\u001b[0m\n\u001b[0m",
      "\u001b[1;31mModuleNotFoundError\u001b[0m: No module named 'pillow'"
     ]
    }
   ],
   "source": [
    "import pillow"
   ]
  },
  {
   "cell_type": "code",
   "execution_count": 2,
   "id": "d9d101de",
   "metadata": {},
   "outputs": [
    {
     "name": "stdout",
     "output_type": "stream",
     "text": [
      "pygame 2.1.0 (SDL 2.0.16, Python 3.8.8)\n",
      "Hello from the pygame community. https://www.pygame.org/contribute.html\n"
     ]
    }
   ],
   "source": [
    "import pygame\n"
   ]
  },
  {
   "cell_type": "code",
   "execution_count": 3,
   "id": "bafcdd8e",
   "metadata": {},
   "outputs": [],
   "source": [
    "screen = pygame.display.set_mode((720, 480)) # Notice the tuple! It's not 2 arguments.\n",
    "clock = pygame.time.Clock()\n",
    "FPS = 60 # This variable will define how many frames we update per second"
   ]
  },
  {
   "cell_type": "code",
   "execution_count": 4,
   "id": "3c7a0c03",
   "metadata": {},
   "outputs": [],
   "source": [
    "BLACK = (0, 0, 0)\n",
    "WHITE = (255, 255, 255)\n"
   ]
  },
  {
   "cell_type": "code",
   "execution_count": 5,
   "id": "bf1b66ee",
   "metadata": {},
   "outputs": [
    {
     "data": {
      "text/plain": [
       "<rect(0, 0, 32, 32)>"
      ]
     },
     "execution_count": 5,
     "metadata": {},
     "output_type": "execute_result"
    }
   ],
   "source": [
    "rect = pygame.Rect((0, 0), (32, 32)) # First tuple is position, second is size.\n",
    "image = pygame.Surface((32, 32)) # The tuple represent size.\n",
    "image.fill(WHITE) # We fill our surface with a nice white color (by default black)."
   ]
  },
  {
   "cell_type": "code",
   "execution_count": 6,
   "id": "7baa4b39",
   "metadata": {},
   "outputs": [
    {
     "data": {
      "text/plain": [
       "6524"
      ]
     },
     "execution_count": 6,
     "metadata": {},
     "output_type": "execute_result"
    }
   ],
   "source": [
    "clock.tick(FPS)"
   ]
  },
  {
   "cell_type": "code",
   "execution_count": 7,
   "id": "fd80cf6b",
   "metadata": {},
   "outputs": [],
   "source": [
    "for event in pygame.event.get():\n",
    "    if event.type == pygame.QUIT: # The user pressed the close button in the top corner of    the window.\n",
    "        quit()\n",
    " # Close the program. Other methods like 'raise SystemExit' or 'sys.exit()'.\n",
    " # Calling 'pygame.quit()' won't close the program! It will just uninitialize the modules.\n"
   ]
  },
  {
   "cell_type": "code",
   "execution_count": 8,
   "id": "795a6117",
   "metadata": {},
   "outputs": [],
   "source": [
    "for event in pygame.event.get():\n",
    " if event.type == pygame.QUIT:\n",
    "     quit()\n",
    " elif event.type == pygame.KEYDOWN:\n",
    "     if event.key == pygame.K_w:\n",
    "         rect.move_ip(0, -2) # Changes the rect's position.\n",
    " elif event.key == pygame.K_s:\n",
    "     rect.move_ip(0, 2)\n",
    " elif event.key == pygame.K_a:\n",
    "     rect.move_ip(-2, 0)\n",
    " elif event.key == pygame.K_d:\n",
    "     rect.move_ip(2, 0)"
   ]
  },
  {
   "cell_type": "code",
   "execution_count": 9,
   "id": "51d4eeb7",
   "metadata": {},
   "outputs": [],
   "source": [
    "screen.fill(BLACK)\n",
    "screen.blit(image, rect)\n",
    "pygame.display.update() # Or 'pygame.display.flip()'."
   ]
  },
  {
   "cell_type": "code",
   "execution_count": 1,
   "id": "90221721",
   "metadata": {},
   "outputs": [
    {
     "name": "stdout",
     "output_type": "stream",
     "text": [
      "pygame 2.1.0 (SDL 2.0.16, Python 3.8.8)\n",
      "Hello from the pygame community. https://www.pygame.org/contribute.html\n",
      "5 successes and 0 failures\n",
      "keydown\n",
      "keydown\n",
      "keydown\n",
      "keydown\n",
      "keydown\n",
      "keydown\n",
      "keydown\n",
      "keydown\n",
      "keydown\n",
      "keydown\n",
      "keydown\n",
      "keydown\n",
      "keydown\n",
      "keydown\n",
      "keydown\n",
      "keydown\n",
      "keydown\n",
      "keydown\n",
      "keydown\n",
      "keydown\n",
      "keydown\n",
      "keydown\n",
      "keydown\n",
      "keydown\n",
      "keydown\n",
      "keydown\n",
      "keydown\n",
      "keydown\n",
      "keydown\n"
     ]
    },
    {
     "ename": "KeyboardInterrupt",
     "evalue": "",
     "output_type": "error",
     "traceback": [
      "\u001b[1;31m---------------------------------------------------------------------------\u001b[0m",
      "\u001b[1;31mKeyboardInterrupt\u001b[0m                         Traceback (most recent call last)",
      "\u001b[1;32m<ipython-input-1-cb711c2b3312>\u001b[0m in \u001b[0;36m<module>\u001b[1;34m\u001b[0m\n\u001b[0;32m     12\u001b[0m \u001b[0mimage\u001b[0m \u001b[1;33m.\u001b[0m\u001b[0mfill\u001b[0m\u001b[1;33m(\u001b[0m\u001b[0mWHITE\u001b[0m\u001b[1;33m)\u001b[0m\u001b[1;33m\u001b[0m\u001b[1;33m\u001b[0m\u001b[0m\n\u001b[0;32m     13\u001b[0m \u001b[1;32mwhile\u001b[0m \u001b[1;32mTrue\u001b[0m\u001b[1;33m:\u001b[0m\u001b[1;33m\u001b[0m\u001b[1;33m\u001b[0m\u001b[0m\n\u001b[1;32m---> 14\u001b[1;33m     \u001b[0mclock\u001b[0m\u001b[1;33m.\u001b[0m\u001b[0mtick\u001b[0m\u001b[1;33m(\u001b[0m\u001b[0mFPS\u001b[0m\u001b[1;33m)\u001b[0m\u001b[1;33m\u001b[0m\u001b[1;33m\u001b[0m\u001b[0m\n\u001b[0m\u001b[0;32m     15\u001b[0m     \u001b[1;32mfor\u001b[0m \u001b[0mevent\u001b[0m \u001b[1;32min\u001b[0m \u001b[0mpygame\u001b[0m\u001b[1;33m.\u001b[0m\u001b[0mevent\u001b[0m\u001b[1;33m.\u001b[0m\u001b[0mget\u001b[0m\u001b[1;33m(\u001b[0m\u001b[1;33m)\u001b[0m\u001b[1;33m:\u001b[0m\u001b[1;33m\u001b[0m\u001b[1;33m\u001b[0m\u001b[0m\n\u001b[0;32m     16\u001b[0m         \u001b[1;32mif\u001b[0m \u001b[0mevent\u001b[0m\u001b[1;33m.\u001b[0m\u001b[0mtype\u001b[0m \u001b[1;33m==\u001b[0m \u001b[0mpygame\u001b[0m\u001b[1;33m.\u001b[0m\u001b[0mQUIT\u001b[0m\u001b[1;33m:\u001b[0m\u001b[1;33m\u001b[0m\u001b[1;33m\u001b[0m\u001b[0m\n",
      "\u001b[1;31mKeyboardInterrupt\u001b[0m: "
     ]
    }
   ],
   "source": [
    "import pygame\n",
    "successes, failures = pygame.init()\n",
    "print(\"{0} successes and {1} failures\".format(successes, failures))\n",
    "screen = pygame.display.set_mode((720, 480))\n",
    "clock = pygame.time.Clock()\n",
    "FPS = 60 # Frames per second.\n",
    "BLACK = (0, 0, 0)\n",
    "WHITE = (255, 255, 255)\n",
    "# RED = (255, 0, 0), GREEN = (0, 255, 0), BLUE = (0, 0, 255).\n",
    "rect = pygame.Rect((0, 0), (32, 32))\n",
    "image = pygame.Surface((32, 32))\n",
    "image .fill(WHITE)\n",
    "while True:\n",
    "    clock.tick(FPS)\n",
    "    for event in pygame.event.get():\n",
    "        if event.type == pygame.QUIT:\n",
    "            quit()\n",
    "        elif event.type == pygame.KEYDOWN:\n",
    "            print(\"keydown\")\n",
    "            if event.key == pygame.K_w:\n",
    "                rect.move_ip(0, -2)\n",
    "            elif event.key == pygame.K_s:\n",
    "                rect.move_ip(0, 2)\n",
    "            elif event.key == pygame.K_a:\n",
    "                rect.move_ip(-2, 0)\n",
    "            elif event.key == pygame.K_d:\n",
    "                rect.move_ip(2, 0)\n",
    "    screen.fill(BLACK)\n",
    "    screen.blit(image, rect)\n",
    "    pygame.display.update() # Or pygame.display.flip()"
   ]
  },
  {
   "cell_type": "code",
   "execution_count": null,
   "id": "014391f0",
   "metadata": {},
   "outputs": [],
   "source": []
  },
  {
   "cell_type": "code",
   "execution_count": null,
   "id": "34d79257",
   "metadata": {},
   "outputs": [],
   "source": []
  },
  {
   "cell_type": "code",
   "execution_count": null,
   "id": "f436ce69",
   "metadata": {},
   "outputs": [],
   "source": []
  },
  {
   "cell_type": "code",
   "execution_count": null,
   "id": "25a0c056",
   "metadata": {},
   "outputs": [],
   "source": []
  }
 ],
 "metadata": {
  "kernelspec": {
   "display_name": "Python 3",
   "language": "python",
   "name": "python3"
  },
  "language_info": {
   "codemirror_mode": {
    "name": "ipython",
    "version": 3
   },
   "file_extension": ".py",
   "mimetype": "text/x-python",
   "name": "python",
   "nbconvert_exporter": "python",
   "pygments_lexer": "ipython3",
   "version": "3.8.8"
  }
 },
 "nbformat": 4,
 "nbformat_minor": 5
}
